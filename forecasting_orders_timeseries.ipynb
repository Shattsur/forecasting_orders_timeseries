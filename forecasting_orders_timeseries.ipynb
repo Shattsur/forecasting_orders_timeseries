{
 "cells": [
  {
   "cell_type": "markdown",
   "metadata": {
    "toc": true
   },
   "source": [
    "<h1>Содержание<span class=\"tocSkip\"></span></h1>\n",
    "<div class=\"toc\"><ul class=\"toc-item\"><li><span><a href=\"#Подготовка\" data-toc-modified-id=\"Подготовка-1\"><span class=\"toc-item-num\">1&nbsp;&nbsp;</span>Подготовка</a></span><ul class=\"toc-item\"><li><span><a href=\"#Загрузка-данных\" data-toc-modified-id=\"Загрузка-данных-1.1\"><span class=\"toc-item-num\">1.1&nbsp;&nbsp;</span>Загрузка данных</a></span></li><li><span><a href=\"#Ознакомление-с-данными\" data-toc-modified-id=\"Ознакомление-с-данными-1.2\"><span class=\"toc-item-num\">1.2&nbsp;&nbsp;</span>Ознакомление с данными</a></span></li><li><span><a href=\"#Предобработка-данных\" data-toc-modified-id=\"Предобработка-данных-1.3\"><span class=\"toc-item-num\">1.3&nbsp;&nbsp;</span>Предобработка данных</a></span></li></ul></li><li><span><a href=\"#Анализ\" data-toc-modified-id=\"Анализ-2\"><span class=\"toc-item-num\">2&nbsp;&nbsp;</span>Анализ</a></span></li><li><span><a href=\"#Обучение\" data-toc-modified-id=\"Обучение-3\"><span class=\"toc-item-num\">3&nbsp;&nbsp;</span>Обучение</a></span><ul class=\"toc-item\"><li><span><a href=\"#Создание-признаков-для-временного-ряда\" data-toc-modified-id=\"Создание-признаков-для-временного-ряда-3.1\"><span class=\"toc-item-num\">3.1&nbsp;&nbsp;</span>Создание признаков для временного ряда</a></span></li><li><span><a href=\"#Разделение-данных\" data-toc-modified-id=\"Разделение-данных-3.2\"><span class=\"toc-item-num\">3.2&nbsp;&nbsp;</span>Разделение данных</a></span></li><li><span><a href=\"#Пайплайн-для-признаков\" data-toc-modified-id=\"Пайплайн-для-признаков-3.3\"><span class=\"toc-item-num\">3.3&nbsp;&nbsp;</span>Пайплайн для признаков</a></span></li><li><span><a href=\"#Обучение-моделей\" data-toc-modified-id=\"Обучение-моделей-3.4\"><span class=\"toc-item-num\">3.4&nbsp;&nbsp;</span>Обучение моделей</a></span></li></ul></li><li><span><a href=\"#Тестирование\" data-toc-modified-id=\"Тестирование-4\"><span class=\"toc-item-num\">4&nbsp;&nbsp;</span>Тестирование</a></span><ul class=\"toc-item\"><li><span><a href=\"#Тестирование\" data-toc-modified-id=\"Тестирование-4.1\"><span class=\"toc-item-num\">4.1&nbsp;&nbsp;</span>Тестирование</a></span></li><li><span><a href=\"#Интерпретация-результатов\" data-toc-modified-id=\"Интерпретация-результатов-4.2\"><span class=\"toc-item-num\">4.2&nbsp;&nbsp;</span>Интерпретация результатов</a></span></li></ul></li><li><span><a href=\"#Итоговый-отчет-по-проекту-прогнозирования-заказов-такси\" data-toc-modified-id=\"Итоговый-отчет-по-проекту-прогнозирования-заказов-такси-5\"><span class=\"toc-item-num\">5&nbsp;&nbsp;</span>Итоговый отчет по проекту прогнозирования заказов такси</a></span><ul class=\"toc-item\"><li><span><a href=\"#📊-Результаты-работы\" data-toc-modified-id=\"📊-Результаты-работы-5.1\"><span class=\"toc-item-num\">5.1&nbsp;&nbsp;</span>📊 Результаты работы</a></span><ul class=\"toc-item\"><li><span><a href=\"#1.-Подготовка-данных-(Выполнено)\" data-toc-modified-id=\"1.-Подготовка-данных-(Выполнено)-5.1.1\"><span class=\"toc-item-num\">5.1.1&nbsp;&nbsp;</span>1. Подготовка данных (Выполнено)</a></span></li><li><span><a href=\"#2.-Анализ-временных-рядов-(Ключевые-инсайты)\" data-toc-modified-id=\"2.-Анализ-временных-рядов-(Ключевые-инсайты)-5.1.2\"><span class=\"toc-item-num\">5.1.2&nbsp;&nbsp;</span>2. Анализ временных рядов (Ключевые инсайты)</a></span></li><li><span><a href=\"#3.-Моделирование-(Результаты)\" data-toc-modified-id=\"3.-Моделирование-(Результаты)-5.1.3\"><span class=\"toc-item-num\">5.1.3&nbsp;&nbsp;</span>3. Моделирование (Результаты)</a></span></li></ul></li><li><span><a href=\"#🎯-Ключевые-бизнес-рекомендации\" data-toc-modified-id=\"🎯-Ключевые-бизнес-рекомендации-5.2\"><span class=\"toc-item-num\">5.2&nbsp;&nbsp;</span>🎯 Ключевые бизнес-рекомендации</a></span><ul class=\"toc-item\"><li><span><a href=\"#Оперативное-управление\" data-toc-modified-id=\"Оперативное-управление-5.2.1\"><span class=\"toc-item-num\">5.2.1&nbsp;&nbsp;</span>Оперативное управление</a></span></li><li><span><a href=\"#Стратегические-улучшения\" data-toc-modified-id=\"Стратегические-улучшения-5.2.2\"><span class=\"toc-item-num\">5.2.2&nbsp;&nbsp;</span>Стратегические улучшения</a></span></li></ul></li></ul></li><li><span><a href=\"#Чек-лист-проверки\" data-toc-modified-id=\"Чек-лист-проверки-6\"><span class=\"toc-item-num\">6&nbsp;&nbsp;</span>Чек-лист проверки</a></span></li></ul></div>"
   ]
  },
  {
   "cell_type": "markdown",
   "metadata": {},
   "source": [
    "<img src=\"http://s3.amazonaws.com/pix.iemoji.com/images/emoji/apple/ios-12/256/waving-hand.png\" align=left width=44, heigth=44>\n",
    "<div class=\"alert alert-info\">\n",
    "<b> Комментарий ревьюера</b>\n",
    "\n",
    "\n",
    "Привет,  Андрей! Давай знакомиться! Меня зовут Дмитрий Махортов, и я буду проверять твой проект. Сразу предлагаю общение на «ты» 🙂, но если тебе это не комфортно, то дай знать, и мы перейдем на «вы». \n",
    "\n",
    "Моя основная цель — не указать на совершенные тобою ошибки, а поделиться своим опытом и помочь тебе погрузиться в увлекательный мир работы с данными и вырасти в крепкого профи. Это отдаленная цель. А ближайшая - сделать твою работу еще лучше )).\n",
    "   \n",
    "    \n",
    "Все ключевые этапы в работе выполнены, и я вижу что с проектом ты справшяешься. Есть моменты, которые нужно доработать, но я уверен, у тебя все получится.\n",
    "        \n",
    "Расскажу как обычно проходит проверка:    \n",
    "Бывают моменты, которые требуют пристального внимания. Комментарии по ним выделены <span style='background-color:#F7B3A4'> красным цветом </span> и обозначены значком 🛑. После их доработки проект будет принят.  🙂\n",
    " \n",
    "<span style='background-color:#B7EBA7'> Зеленым цветом </span> и значком ✅ отмечены удачные и элегантные решения, на которые можно опираться в будущих проектах. Или советы «со звездочкой», которые помогут тебе в будущем.\n",
    "\n",
    "<span style='background-color:#F9EDA6'>Жёлтым цветом </span> и значком ⚠️ выделено то, что в следующий раз можно сделать по-другому. Ты можешь учесть эти комментарии при выполнении будущих заданий или доработать проект сейчас (однако это не обязательно).\n",
    "\n",
    "Давай работать над проектом в диалоге: **если ты что-то меняешь в проекте по моим рекомендациям — пиши об этом**. Выбери для своих комментариев какой-то заметный цвет, так мне будет легче отследить изменения. Пожалуйста, **не перемещай, не изменяй и не удаляй мои комментарии**. Всё это поможет выполнить повторную проверку твоего проекта оперативнее. \n",
    "</div>"
   ]
  },
  {
   "cell_type": "markdown",
   "metadata": {},
   "source": [
    "<img src=\"http://s3.amazonaws.com/pix.iemoji.com/images/emoji/apple/ios-12/256/waving-hand.png\" align=left width=44, heigth=44>\n",
    "<div class=\"alert\" style=\"background-color:#ead7f7;color:#8737bf\">\n",
    "    <font size=\"3\"><b>Комментарий студента</b></font>\n",
    "\n",
    "Дмитрий, приветствую! Основным признаком, который всё предсказывает, у меня получился недельный лаг. Значение RMSE ~ 39 мне не очень понравилось, поэтому я применил Voting Regressor и получил 36,41. \n",
    "</div>"
   ]
  },
  {
   "cell_type": "markdown",
   "metadata": {},
   "source": [
    "<img src=\"http://s3.amazonaws.com/pix.iemoji.com/images/emoji/apple/ios-12/256/waving-hand.png\" align=left width=44, heigth=44>\n",
    "<div class=\"alert alert-info\">\n",
    "<b> Комментарий ревьюера v2</b>\n",
    "\n",
    "Привет! 🤝\n",
    "\n",
    "Тебя понял, сейчас посмотрим детали.\n",
    "    \n",
    "</div>"
   ]
  },
  {
   "cell_type": "markdown",
   "metadata": {},
   "source": [
    "#  Прогнозирование заказов такси"
   ]
  },
  {
   "cell_type": "markdown",
   "metadata": {},
   "source": [
    "Компания «Чётенькое такси» собрала исторические данные о заказах такси в аэропортах. Чтобы привлекать больше водителей в период пиковой нагрузки, нужно спрогнозировать количество заказов такси на следующий час. Постройте модель для такого предсказания.\n",
    "\n",
    "Значение метрики *RMSE* на тестовой выборке должно быть не больше 48.\n",
    "\n",
    "Вам нужно:\n",
    "\n",
    "1. Загрузить данные и выполнить их ресемплирование по одному часу.\n",
    "2. Проанализировать данные.\n",
    "3. Обучить разные модели с различными гиперпараметрами. Сделать тестовую выборку размером 10% от исходных данных.\n",
    "4. Проверить данные на тестовой выборке и сделать выводы.\n",
    "\n",
    "\n",
    "Данные лежат в файле `taxi.csv`. Количество заказов находится в столбце `num_orders` (от англ. *number of orders*, «число заказов»)."
   ]
  },
  {
   "cell_type": "markdown",
   "metadata": {},
   "source": [
    "## Подготовка"
   ]
  },
  {
   "cell_type": "markdown",
   "metadata": {},
   "source": [
    "### Загрузка данных"
   ]
  },
  {
   "cell_type": "code",
   "execution_count": 1,
   "metadata": {},
   "outputs": [],
   "source": [
    "# импорт библиотек\n",
    "import os\n",
    "import math\n",
    "import time\n",
    "import numpy as np\n",
    "import pandas as pd\n",
    "import seaborn as sns\n",
    "import matplotlib.pyplot as plt\n",
    "import matplotlib.dates as mdates\n",
    "import plotly.express as px\n",
    "import plotly.graph_objects as go\n",
    "from plotly.subplots import make_subplots\n",
    "\n",
    "from sklearn.model_selection import train_test_split, RandomizedSearchCV, TimeSeriesSplit\n",
    "from sklearn.pipeline import Pipeline\n",
    "from sklearn.compose import ColumnTransformer\n",
    "from sklearn.metrics import mean_squared_error\n",
    "from sklearn.preprocessing import StandardScaler\n",
    "from sklearn.linear_model import LinearRegression\n",
    "from sklearn.ensemble import RandomForestRegressor, GradientBoostingRegressor, VotingRegressor\n",
    "from sklearn.inspection import permutation_importance\n",
    "from statsmodels.tsa.seasonal import seasonal_decompose\n",
    "from statsmodels.tsa.stattools import adfuller\n",
    "from scipy.stats import randint, uniform\n",
    "\n",
    "\n",
    "RANDOM_STATE = 42"
   ]
  },
  {
   "cell_type": "markdown",
   "metadata": {},
   "source": [
    "<img src=\"https://emojigraph.org/media/apple/check-mark-button_2705.png\" align=left width=33, heigth=33>\n",
    "<div class=\"alert alert-success\">\n",
    "Отлично, все нужные библиотеки импортированы в начале ноутбука.Это хорошая практика.</div>"
   ]
  },
  {
   "cell_type": "markdown",
   "metadata": {},
   "source": [
    "<img src=\"https://upload.wikimedia.org/wikipedia/commons/b/ba/Warning_sign_4.0.png\" align=left width=44, heigth=33>\n",
    "<div class=\"alert alert-warning\">\n",
    "Но некоторе импорты, которые ты не используешь в проекте лучше убрать.\n",
    "</div>"
   ]
  },
  {
   "cell_type": "markdown",
   "metadata": {},
   "source": [
    "<div class=\"alert\" style=\"background-color:#ead7f7;color:#8737bf\">\n",
    "    <font size=\"3\"><b>Комментарий студента</b></font>\n",
    "\n",
    "    Исправил\n",
    "\n",
    "</div>"
   ]
  },
  {
   "cell_type": "markdown",
   "metadata": {},
   "source": [
    "<img src=\"https://emojigraph.org/media/apple/check-mark-button_2705.png\" align=left width=33, heigth=33>\n",
    "<div class=\"alert alert-success\">\n",
    "    <b>v2</b> 👍 </div>"
   ]
  },
  {
   "cell_type": "code",
   "execution_count": 2,
   "metadata": {},
   "outputs": [
    {
     "name": "stdout",
     "output_type": "stream",
     "text": [
      "Загрузка данных из /datasets/taxi.csv...\n",
      "Все данные загружены успешно.\n"
     ]
    }
   ],
   "source": [
    "# Определяем пути к локальным файлам\n",
    "pth_taxi = '/datasets/taxi.csv'                  \n",
    "\n",
    "# Определяем URL для альтернативной загрузки\n",
    "url_taxi = 'https://code.s3.yandex.net/datasets/taxi.csv'\n",
    "\n",
    "# Функция для загрузки данных\n",
    "def load_data(local_path, url, sep=','):\n",
    "    if os.path.exists(local_path):\n",
    "        print(f'Загрузка данных из {local_path}...')\n",
    "        return pd.read_csv(local_path, sep=sep)\n",
    "    else:\n",
    "        print(f'Файл {local_path} не найден. Загружаем данные из {url}...')\n",
    "        return pd.read_csv(url, sep=sep)\n",
    "\n",
    "# Загружаем данные\n",
    "try:\n",
    "    df = load_data(pth_taxi, url_taxi)\n",
    "    print('Все данные загружены успешно.')\n",
    "\n",
    "except Exception as e:\n",
    "    print(f'Произошла ошибка при загрузке данных: {e}')"
   ]
  },
  {
   "cell_type": "markdown",
   "metadata": {},
   "source": [
    "<img src=\"https://emojigraph.org/media/apple/check-mark-button_2705.png\" align=left width=33, heigth=33>\n",
    "<div class=\"alert alert-success\">\n",
    "Файл загружен. Но можно сразу  загрузить его так, чтобы дата стала индексом. Нужно просто добавить аргументов.\n",
    "\n",
    "    data = pd.read_csv('путь к файлу',parse_dates=[0], index_col=[0])\n",
    "</div>"
   ]
  },
  {
   "cell_type": "markdown",
   "metadata": {},
   "source": [
    "### Ознакомление с данными"
   ]
  },
  {
   "cell_type": "code",
   "execution_count": 3,
   "metadata": {},
   "outputs": [
    {
     "name": "stdout",
     "output_type": "stream",
     "text": [
      "Первые 5 строк данных:\n"
     ]
    },
    {
     "data": {
      "text/html": [
       "<div>\n",
       "<style scoped>\n",
       "    .dataframe tbody tr th:only-of-type {\n",
       "        vertical-align: middle;\n",
       "    }\n",
       "\n",
       "    .dataframe tbody tr th {\n",
       "        vertical-align: top;\n",
       "    }\n",
       "\n",
       "    .dataframe thead th {\n",
       "        text-align: right;\n",
       "    }\n",
       "</style>\n",
       "<table border=\"1\" class=\"dataframe\">\n",
       "  <thead>\n",
       "    <tr style=\"text-align: right;\">\n",
       "      <th></th>\n",
       "      <th>datetime</th>\n",
       "      <th>num_orders</th>\n",
       "    </tr>\n",
       "  </thead>\n",
       "  <tbody>\n",
       "    <tr>\n",
       "      <th>0</th>\n",
       "      <td>2018-03-01 00:00:00</td>\n",
       "      <td>9</td>\n",
       "    </tr>\n",
       "    <tr>\n",
       "      <th>1</th>\n",
       "      <td>2018-03-01 00:10:00</td>\n",
       "      <td>14</td>\n",
       "    </tr>\n",
       "    <tr>\n",
       "      <th>2</th>\n",
       "      <td>2018-03-01 00:20:00</td>\n",
       "      <td>28</td>\n",
       "    </tr>\n",
       "    <tr>\n",
       "      <th>3</th>\n",
       "      <td>2018-03-01 00:30:00</td>\n",
       "      <td>20</td>\n",
       "    </tr>\n",
       "    <tr>\n",
       "      <th>4</th>\n",
       "      <td>2018-03-01 00:40:00</td>\n",
       "      <td>32</td>\n",
       "    </tr>\n",
       "  </tbody>\n",
       "</table>\n",
       "</div>"
      ],
      "text/plain": [
       "              datetime  num_orders\n",
       "0  2018-03-01 00:00:00           9\n",
       "1  2018-03-01 00:10:00          14\n",
       "2  2018-03-01 00:20:00          28\n",
       "3  2018-03-01 00:30:00          20\n",
       "4  2018-03-01 00:40:00          32"
      ]
     },
     "execution_count": 3,
     "metadata": {},
     "output_type": "execute_result"
    }
   ],
   "source": [
    "print(\"Первые 5 строк данных:\")\n",
    "df.head()  # Отображаем первые 5 строк"
   ]
  },
  {
   "cell_type": "code",
   "execution_count": 4,
   "metadata": {},
   "outputs": [
    {
     "name": "stdout",
     "output_type": "stream",
     "text": [
      "Информация о DataFrame:\n",
      "<class 'pandas.core.frame.DataFrame'>\n",
      "RangeIndex: 26496 entries, 0 to 26495\n",
      "Data columns (total 2 columns):\n",
      " #   Column      Non-Null Count  Dtype \n",
      "---  ------      --------------  ----- \n",
      " 0   datetime    26496 non-null  object\n",
      " 1   num_orders  26496 non-null  int64 \n",
      "dtypes: int64(1), object(1)\n",
      "memory usage: 414.1+ KB\n"
     ]
    }
   ],
   "source": [
    "print(\"Информация о DataFrame:\")\n",
    "df.info()"
   ]
  },
  {
   "cell_type": "code",
   "execution_count": 5,
   "metadata": {},
   "outputs": [
    {
     "name": "stdout",
     "output_type": "stream",
     "text": [
      "Статистическое описание данных:\n"
     ]
    },
    {
     "data": {
      "text/html": [
       "<div>\n",
       "<style scoped>\n",
       "    .dataframe tbody tr th:only-of-type {\n",
       "        vertical-align: middle;\n",
       "    }\n",
       "\n",
       "    .dataframe tbody tr th {\n",
       "        vertical-align: top;\n",
       "    }\n",
       "\n",
       "    .dataframe thead th {\n",
       "        text-align: right;\n",
       "    }\n",
       "</style>\n",
       "<table border=\"1\" class=\"dataframe\">\n",
       "  <thead>\n",
       "    <tr style=\"text-align: right;\">\n",
       "      <th></th>\n",
       "      <th>count</th>\n",
       "      <th>mean</th>\n",
       "      <th>std</th>\n",
       "      <th>min</th>\n",
       "      <th>25%</th>\n",
       "      <th>50%</th>\n",
       "      <th>75%</th>\n",
       "      <th>max</th>\n",
       "    </tr>\n",
       "  </thead>\n",
       "  <tbody>\n",
       "    <tr>\n",
       "      <th>num_orders</th>\n",
       "      <td>26496.0</td>\n",
       "      <td>14.070463</td>\n",
       "      <td>9.21133</td>\n",
       "      <td>0.0</td>\n",
       "      <td>8.0</td>\n",
       "      <td>13.0</td>\n",
       "      <td>19.0</td>\n",
       "      <td>119.0</td>\n",
       "    </tr>\n",
       "  </tbody>\n",
       "</table>\n",
       "</div>"
      ],
      "text/plain": [
       "              count       mean      std  min  25%   50%   75%    max\n",
       "num_orders  26496.0  14.070463  9.21133  0.0  8.0  13.0  19.0  119.0"
      ]
     },
     "execution_count": 5,
     "metadata": {},
     "output_type": "execute_result"
    }
   ],
   "source": [
    "print(\"Статистическое описание данных:\")\n",
    "df.describe().T"
   ]
  },
  {
   "cell_type": "code",
   "execution_count": 6,
   "metadata": {},
   "outputs": [
    {
     "data": {
      "text/plain": [
       "0"
      ]
     },
     "execution_count": 6,
     "metadata": {},
     "output_type": "execute_result"
    }
   ],
   "source": [
    "# Количество дубликатов\n",
    "df.duplicated().sum()"
   ]
  },
  {
   "cell_type": "markdown",
   "metadata": {},
   "source": [
    "Датасет состоит из 26496 строк и 2 столбцов (datetime - время и num_orders - количество заказов).\n",
    "\n",
    "Пропущенных значений нет.\n",
    "\n",
    "Тип данных в столбце datetime не соответствует значениям.\n",
    "\n",
    "Наименования столбцов указаны в едином стиле.\n",
    "\n",
    "Явных и неявных дубликатов не обнаружено.\n",
    "\n",
    "При просмотре статистического описания данных, выбросов и аномалий не обнаружено."
   ]
  },
  {
   "cell_type": "markdown",
   "metadata": {},
   "source": [
    "### Предобработка данных"
   ]
  },
  {
   "cell_type": "markdown",
   "metadata": {},
   "source": [
    "Первым шагом конвертируем столбец datetime в тип данных datetime. Это позволит использовать специализированные методы для работы с временными данными - теперь столбец datetime можно использовать для временных операций.\n",
    "\n",
    "Для удобства анализа временных рядов рекомендуется установить столбец datetime как индекс DataFrame - это позволит легко выполнять операции, такие как фильтрация данных по времени или агрегация."
   ]
  },
  {
   "cell_type": "code",
   "execution_count": 7,
   "metadata": {},
   "outputs": [
    {
     "data": {
      "text/html": [
       "<div>\n",
       "<style scoped>\n",
       "    .dataframe tbody tr th:only-of-type {\n",
       "        vertical-align: middle;\n",
       "    }\n",
       "\n",
       "    .dataframe tbody tr th {\n",
       "        vertical-align: top;\n",
       "    }\n",
       "\n",
       "    .dataframe thead th {\n",
       "        text-align: right;\n",
       "    }\n",
       "</style>\n",
       "<table border=\"1\" class=\"dataframe\">\n",
       "  <thead>\n",
       "    <tr style=\"text-align: right;\">\n",
       "      <th></th>\n",
       "      <th>num_orders</th>\n",
       "    </tr>\n",
       "    <tr>\n",
       "      <th>datetime</th>\n",
       "      <th></th>\n",
       "    </tr>\n",
       "  </thead>\n",
       "  <tbody>\n",
       "    <tr>\n",
       "      <th>2018-03-01 00:00:00</th>\n",
       "      <td>9</td>\n",
       "    </tr>\n",
       "    <tr>\n",
       "      <th>2018-03-01 00:10:00</th>\n",
       "      <td>14</td>\n",
       "    </tr>\n",
       "  </tbody>\n",
       "</table>\n",
       "</div>"
      ],
      "text/plain": [
       "                     num_orders\n",
       "datetime                       \n",
       "2018-03-01 00:00:00           9\n",
       "2018-03-01 00:10:00          14"
      ]
     },
     "execution_count": 7,
     "metadata": {},
     "output_type": "execute_result"
    }
   ],
   "source": [
    "df['datetime'] = pd.to_datetime(df['datetime'])  # конвертация в datetime\n",
    "df = df.set_index('datetime')  # делаем datetime индексом \n",
    "df.head(2)"
   ]
  },
  {
   "cell_type": "code",
   "execution_count": 8,
   "metadata": {},
   "outputs": [
    {
     "name": "stdout",
     "output_type": "stream",
     "text": [
      "True\n",
      "<class 'pandas.core.frame.DataFrame'>\n",
      "DatetimeIndex: 26496 entries, 2018-03-01 00:00:00 to 2018-08-31 23:50:00\n",
      "Data columns (total 1 columns):\n",
      " #   Column      Non-Null Count  Dtype\n",
      "---  ------      --------------  -----\n",
      " 0   num_orders  26496 non-null  int64\n",
      "dtypes: int64(1)\n",
      "memory usage: 414.0 KB\n"
     ]
    }
   ],
   "source": [
    "# проверим, в хронологическом ли порядке расположены даты и время\n",
    "print(df.index.is_monotonic)  \n",
    "df.info()"
   ]
  },
  {
   "cell_type": "markdown",
   "metadata": {},
   "source": [
    "<img src=\"https://upload.wikimedia.org/wikipedia/commons/b/ba/Warning_sign_4.0.png\" align=left width=44, heigth=33>\n",
    "<div class=\"alert alert-warning\">\n",
    "А есть ли смысл выводить делать сортировку, если данные и так отсортированы?\n",
    "    \n",
    "----\n",
    "    \n",
    "И оборачивать результат работы метода  .info() в функцию print() или display() это лишнее. Метод  info() и сам напечатает тебе нужную информацию. А вот через print()/display() ты выводишь только то,что данный метод возвращает - т.е. None\n",
    "</div>"
   ]
  },
  {
   "cell_type": "markdown",
   "metadata": {},
   "source": [
    "<div class=\"alert\" style=\"background-color:#ead7f7;color:#8737bf\">\n",
    "    <font size=\"3\"><b>Комментарий студента</b></font>\n",
    "\n",
    "    Исправил\n",
    "\n",
    "</div>"
   ]
  },
  {
   "cell_type": "markdown",
   "metadata": {},
   "source": [
    "<img src=\"https://emojigraph.org/media/apple/check-mark-button_2705.png\" align=left width=33, heigth=33>\n",
    "<div class=\"alert alert-success\">\n",
    "    <b>v2</b> 👍 </div>"
   ]
  },
  {
   "cell_type": "code",
   "execution_count": 9,
   "metadata": {},
   "outputs": [
    {
     "data": {
      "text/html": [
       "<div>\n",
       "<style scoped>\n",
       "    .dataframe tbody tr th:only-of-type {\n",
       "        vertical-align: middle;\n",
       "    }\n",
       "\n",
       "    .dataframe tbody tr th {\n",
       "        vertical-align: top;\n",
       "    }\n",
       "\n",
       "    .dataframe thead th {\n",
       "        text-align: right;\n",
       "    }\n",
       "</style>\n",
       "<table border=\"1\" class=\"dataframe\">\n",
       "  <thead>\n",
       "    <tr style=\"text-align: right;\">\n",
       "      <th></th>\n",
       "      <th>num_orders</th>\n",
       "    </tr>\n",
       "    <tr>\n",
       "      <th>datetime</th>\n",
       "      <th></th>\n",
       "    </tr>\n",
       "  </thead>\n",
       "  <tbody>\n",
       "    <tr>\n",
       "      <th>2018-03-01 00:00:00</th>\n",
       "      <td>124</td>\n",
       "    </tr>\n",
       "    <tr>\n",
       "      <th>2018-03-01 01:00:00</th>\n",
       "      <td>85</td>\n",
       "    </tr>\n",
       "  </tbody>\n",
       "</table>\n",
       "</div>"
      ],
      "text/plain": [
       "                     num_orders\n",
       "datetime                       \n",
       "2018-03-01 00:00:00         124\n",
       "2018-03-01 01:00:00          85"
      ]
     },
     "execution_count": 9,
     "metadata": {},
     "output_type": "execute_result"
    }
   ],
   "source": [
    " # Ресемплирование по 1 часу\n",
    "df = df.resample('1H').sum()\n",
    "df.head(2)"
   ]
  },
  {
   "cell_type": "markdown",
   "metadata": {},
   "source": [
    "<img src=\"https://emojigraph.org/media/apple/check-mark-button_2705.png\" align=left width=33, heigth=33>\n",
    "<div class=\"alert alert-success\">\n",
    " 👍 Да, ресемплирование выполнено верно. И хорошо, что в качестве агрегирующей функции ты используешь сумму, её проще интерпретировать. </div>"
   ]
  },
  {
   "cell_type": "markdown",
   "metadata": {},
   "source": [
    "**Выводы по подготовке данных**\n",
    "\n",
    "1. **Загрузка данных**  \n",
    "   - Данные успешно загружены из файла `taxi.csv`.  \n",
    "   - Использован альтернативный URL для загрузки в случае отсутствия локального файла.  \n",
    "\n",
    "2. **Ознакомление с данными**  \n",
    "   - Датасет содержит 26,496 строк и 2 столбца: `datetime` (время) и `num_orders` (количество заказов).  \n",
    "   - Пропущенных значений и дубликатов не обнаружено.  \n",
    "   - Столбец `datetime` изначально имел тип `object`, что требует преобразования в формат `datetime`.  \n",
    "\n",
    "3. **Предобработка данных**  \n",
    "   - Столбец `datetime` успешно преобразован в тип `datetime` для удобства работы с временными метками [[File]].  \n",
    "   - Установлен индекс DataFrame на основе столбца `datetime`, что упрощает временные операции и фильтрацию.  \n",
    "   - Проверена хронологическая сортировка данных, выполнена сортировка по времени.  \n",
    "   - Данные ресемплированы по одному часу с агрегацией значений, что соответствует требованиям задачи.  \n",
    "\n",
    "4. **Качество данных**  \n",
    "   - При первичном анализе выбросы и аномалии не обнаружены.  \n",
    "   - Наименования столбцов указаны в едином стиле, дополнительная очистка не требуется.  \n",
    "\n",
    "5. **Готовность к анализу**  \n",
    "   - Данные полностью подготовлены для дальнейшего анализа и построения моделей прогнозирования.  \n",
    "   - Выполнены все необходимые шаги для обеспечения корректности последующих этапов работы"
   ]
  },
  {
   "cell_type": "markdown",
   "metadata": {},
   "source": [
    "## Анализ"
   ]
  },
  {
   "cell_type": "markdown",
   "metadata": {},
   "source": [
    "Стационарность — это ключевое свойство временных рядов, которое означает, что статистические характеристики (среднее, дисперсия) не меняются со временем. Для проверки стационарности использоваем тест Дики-Фуллера"
   ]
  },
  {
   "cell_type": "code",
   "execution_count": 10,
   "metadata": {},
   "outputs": [
    {
     "name": "stdout",
     "output_type": "stream",
     "text": [
      "ADF Statistic: -3.0689\n",
      "p-value: 0.0289\n",
      "Ряд нестационарен\n"
     ]
    }
   ],
   "source": [
    "result = adfuller(df['num_orders'], autolag='AIC')\n",
    "print(f'ADF Statistic: {result[0]:.4f}')\n",
    "print(f'p-value: {result[1]:.4f}')\n",
    "\n",
    "# Интерпретация\n",
    "if result[1] < 0.01:\n",
    "    print(\"Ряд стационарен (отвергаем H0)\")\n",
    "else:\n",
    "    print(\"Ряд нестационарен\")"
   ]
  },
  {
   "cell_type": "markdown",
   "metadata": {},
   "source": [
    "<img src=\"https://upload.wikimedia.org/wikipedia/commons/b/ba/Warning_sign_4.0.png\" align=left width=44, heigth=33>\n",
    "<div class=\"alert alert-warning\">\n",
    "\n",
    "Молодец, что проводишь формальные тесты. Но в нашем случае значение погранчное и мы можем говорить о ложном срабатывании теста. Просто в данных есть тренд и сезонность, а это \"по определению\" исключает стационарность.    \n",
    "    \n",
    "Стационарность является обязательной для многих инструментов, например ARIMA. Однако для технологии, которую мы будем использовать в этом проекте (построение признаков и обучение модели машинного обучения) стационарность не является обязательной.\n",
    "    \n",
    "</div>"
   ]
  },
  {
   "cell_type": "markdown",
   "metadata": {},
   "source": [
    "<div class=\"alert\" style=\"background-color:#ead7f7;color:#8737bf\">\n",
    "    <font size=\"3\"><b>Комментарий студента</b></font>\n",
    "\n",
    "    Использовал более строгий уровень значимости. 0.01 вместо 0.05\n",
    "\n",
    "</div>"
   ]
  },
  {
   "cell_type": "markdown",
   "metadata": {},
   "source": [
    "<img src=\"https://emojigraph.org/media/apple/check-mark-button_2705.png\" align=left width=33, heigth=33>\n",
    "<div class=\"alert alert-success\">\n",
    "    <b>v2</b> 👍 </div>"
   ]
  },
  {
   "cell_type": "markdown",
   "metadata": {},
   "source": [
    "Далее можно убедиться, что визуально ряд имеет тренд."
   ]
  },
  {
   "cell_type": "markdown",
   "metadata": {},
   "source": [
    "Аномалии можно обнаружить, используя метод межквартильного размаха (IQR)"
   ]
  },
  {
   "cell_type": "code",
   "execution_count": 11,
   "metadata": {},
   "outputs": [
    {
     "name": "stdout",
     "output_type": "stream",
     "text": [
      "                     num_orders\n",
      "datetime                       \n",
      "2018-04-24 00:00:00         253\n",
      "2018-05-03 00:00:00         201\n",
      "2018-05-18 22:00:00         193\n",
      "2018-05-18 23:00:00         197\n",
      "2018-05-19 00:00:00         234\n",
      "...                         ...\n",
      "2018-08-31 16:00:00         197\n",
      "2018-08-31 17:00:00         217\n",
      "2018-08-31 18:00:00         207\n",
      "2018-08-31 22:00:00         223\n",
      "2018-08-31 23:00:00         205\n",
      "\n",
      "[121 rows x 1 columns]\n"
     ]
    }
   ],
   "source": [
    "Q1 = df['num_orders'].quantile(0.25)\n",
    "Q3 = df['num_orders'].quantile(0.75)\n",
    "IQR = Q3 - Q1\n",
    "\n",
    "# Определение границ аномалий\n",
    "lower_bound = Q1 - 1.5 * IQR\n",
    "upper_bound = Q3 + 1.5 * IQR\n",
    "\n",
    "# Фильтрация аномальных значений\n",
    "anomalies = df[(df['num_orders'] < lower_bound) | (df['num_orders'] > upper_bound)]\n",
    "print(anomalies)"
   ]
  },
  {
   "cell_type": "markdown",
   "metadata": {},
   "source": [
    "Построим график с выделением аномалий"
   ]
  },
  {
   "cell_type": "code",
   "execution_count": 12,
   "metadata": {},
   "outputs": [
    {
     "data": {
      "image/png": "[encoded data removed]",
      "text/plain": [
       "<Figure size 864x432 with 1 Axes>"
      ]
     },
     "metadata": {
      "needs_background": "light"
     },
     "output_type": "display_data"
    }
   ],
   "source": [
    "plt.figure(figsize=(12, 6))\n",
    "plt.plot(df.index, df['num_orders'], label='Обычные значения')\n",
    "plt.scatter(anomalies.index, anomalies['num_orders'], color='red', label='Аномалии')\n",
    "plt.xlabel('Дата и время')\n",
    "plt.ylabel('Заказы')\n",
    "plt.grid()\n",
    "plt.legend()\n",
    "plt.show()"
   ]
  },
  {
   "cell_type": "code",
   "execution_count": 13,
   "metadata": {},
   "outputs": [
    {
     "name": "stdout",
     "output_type": "stream",
     "text": [
      "datetime\n",
      "Friday       26\n",
      "Monday       22\n",
      "Saturday     19\n",
      "Sunday        6\n",
      "Thursday     23\n",
      "Tuesday      11\n",
      "Wednesday    14\n",
      "dtype: int64\n"
     ]
    }
   ],
   "source": [
    "anomalies_by_day = anomalies.groupby(anomalies.index.day_name()).size()\n",
    "print(anomalies_by_day)"
   ]
  },
  {
   "cell_type": "markdown",
   "metadata": {},
   "source": [
    "Аномалии не связаны с выходными днями или праздниками. "
   ]
  },
  {
   "cell_type": "markdown",
   "metadata": {},
   "source": [
    "<img src=\"https://upload.wikimedia.org/wikipedia/commons/thumb/8/81/Stop_sign.png/240px-Stop_sign.png\" align=left width=35, heigth=35>\n",
    "<div class=\"alert alert-danger\">\n",
    "\n",
    "Работа с выбросами во временных рядах это отдельная очень большая тема. Сразу скажу что точно нельзя делать: брать весь ряд целиком и определять выбросы для него (например с помощью ящика с усами или, что то же самое через интерквартильный размах).\n",
    "\n",
    "Дело в том, распределение, из которого приходят к нам объекты во временом ряду меняется со временем. Например, меняется среднее значение (есть тренд) и дисперсия. \n",
    "    \n",
    "Самое простое - вообще отказаться от удаления выбросов без четкого понимания их природы.\n",
    "    \n",
    "\n",
    "А если хочется их обнаружить и удалить? Как вариант можно использовать относительно небольшое окно, в рамках которого мы рассчитываем статистики и используем разные критерии для диагностики выбросов. \n",
    "    \n",
    "    \n",
    "Но возникает  другой вопрос - а что делать с выбросами? Удалять нельзя, т.к. это разрушает структуру временного ряда. Вместо удаления лучше заменить выбросы, например, медианным значением или усреднением соседних точек. Или \"подрезанием\" вылетов до границы (три сигмы или полтора интерквартильных размаха).\n",
    "    \n",
    "    \n",
    "Еще один важный момент - если ты обрабатываешь выбросы, то делать это можно только на обучающих данных. Удаление выбросов из тестовых данных можно делать только если ты уверен, что это ошибки. Иначе это \"читерство\", т.к. помогает получить красивые метрики, но они не будут подтверждаться в продакшене.    \n",
    "    \n",
    "\n",
    "</div>"
   ]
  },
  {
   "cell_type": "markdown",
   "metadata": {},
   "source": [
    "<div class=\"alert\" style=\"background-color:#ead7f7;color:#8737bf\">\n",
    "    <font size=\"3\"><b>Комментарий студента</b></font>\n",
    "\n",
    "    Оставил выбросы в данных\n",
    "\n",
    "</div>"
   ]
  },
  {
   "cell_type": "markdown",
   "metadata": {},
   "source": [
    "<img src=\"https://emojigraph.org/media/apple/check-mark-button_2705.png\" align=left width=33, heigth=33>\n",
    "<div class=\"alert alert-success\">\n",
    "    <b>v2</b> 👍 </div>"
   ]
  },
  {
   "cell_type": "code",
   "execution_count": 14,
   "metadata": {},
   "outputs": [
    {
     "data": {
      "image/png": "[encoded data removed]",
      "text/plain": [
       "<Figure size 1152x432 with 1 Axes>"
      ]
     },
     "metadata": {
      "needs_background": "light"
     },
     "output_type": "display_data"
    }
   ],
   "source": [
    "# Создание фигуры и осей\n",
    "plt.figure(figsize=(16, 6))\n",
    "\n",
    "# Построение исходного временного ряда\n",
    "plt.plot(df.index, df['num_orders'], label='Количество заказов такси', color='blue', alpha=0.5)\n",
    "\n",
    "# Вычисление скользящего среднего за 24 часа\n",
    "rolling_mean_24_hours = df['num_orders'].rolling(window=24).mean()\n",
    "\n",
    "# Построение скользящего среднего за 24 часа\n",
    "plt.plot(rolling_mean_24_hours, label='Скользящее среднее (24 часа)', color='red')\n",
    "\n",
    "# Вычисление скользящего среднего за 30 дней (опционально)\n",
    "rolling_mean_30_days = df['num_orders'].rolling(window=720).mean()\n",
    "\n",
    "# Построение скользящего среднего за 30 дней (опционально)\n",
    "plt.plot(rolling_mean_30_days, label='Скользящее среднее (30 дней)', color='green')\n",
    "\n",
    "# Добавление заголовка и подписей осей\n",
    "plt.title('Количество заказов такси по часам', fontsize=16)\n",
    "plt.xlabel('Дата и время', fontsize=12)\n",
    "plt.ylabel('Заказы', fontsize=12)\n",
    "\n",
    "# Определение выходных дней (суббота = 5, воскресенье = 6)\n",
    "for start, end in zip(df.index[:-1], df.index[1:]):\n",
    "    if start.dayofweek >= 5:  # Если день недели - суббота или воскресенье\n",
    "        plt.axvspan(start, end, color='gray', alpha=0.3)  # Закрашиваем фон серым цветом\n",
    "\n",
    "# Добавление сетки и легенды\n",
    "plt.grid()\n",
    "plt.legend()\n",
    "\n",
    "# Настройка формата дат на оси X\n",
    "plt.gca().xaxis.set_major_formatter(mdates.DateFormatter('%Y-%m-%d'))\n",
    "plt.gca().xaxis.set_major_locator(mdates.AutoDateLocator())\n",
    "\n",
    "# Отображение графика\n",
    "plt.show()"
   ]
  },
  {
   "cell_type": "markdown",
   "metadata": {},
   "source": [
    "<img src=\"https://upload.wikimedia.org/wikipedia/commons/thumb/8/81/Stop_sign.png/240px-Stop_sign.png\" align=left width=35, heigth=35>\n",
    "<div class=\"alert alert-danger\">\n",
    "ты пишешь о скользящем среднем за 30 дней, но фактически выводишь скользящее среднее за 24 часа.</div>"
   ]
  },
  {
   "cell_type": "markdown",
   "metadata": {},
   "source": [
    "<div class=\"alert\" style=\"background-color:#ead7f7;color:#8737bf\">\n",
    "    <font size=\"3\"><b>Комментарий студента</b></font>\n",
    "\n",
    "    Указал на графике скользящее среднее за 24 часа и за 30 дней\n",
    "\n",
    "</div>"
   ]
  },
  {
   "cell_type": "markdown",
   "metadata": {},
   "source": [
    "<img src=\"https://emojigraph.org/media/apple/check-mark-button_2705.png\" align=left width=33, heigth=33>\n",
    "<div class=\"alert alert-success\">\n",
    "    <b>v2</b> ОК </div>"
   ]
  },
  {
   "cell_type": "markdown",
   "metadata": {},
   "source": [
    "На графике наблюдаются снижения в субботу и воскресенье. Проверим в коде, что это действительно не самые популярные дни."
   ]
  },
  {
   "cell_type": "code",
   "execution_count": 15,
   "metadata": {},
   "outputs": [
    {
     "name": "stdout",
     "output_type": "stream",
     "text": [
      "Два дня с наибольшим общим количеством заказов:\n",
      "  day_of_week  num_orders\n",
      "0      Friday       59059\n",
      "1      Monday       56314\n",
      "\n",
      "Самые популярные часы для Friday:\n",
      "   day_of_week  hour  num_orders\n",
      "22      Friday    22        3950\n",
      "\n",
      "Самые популярные часы для Monday:\n",
      "   day_of_week  hour  num_orders\n",
      "24      Monday     0        4383\n"
     ]
    }
   ],
   "source": [
    "# Добавление столбца с днем недели\n",
    "df['day_of_week'] = df.index.day_name()  # Получаем название дня недели (например, 'Monday', 'Tuesday') \n",
    "df['hour'] = df.index.hour  # Добавляем столбец с часом\n",
    "\n",
    "# Группировка данных по дням недели и подсчет общего количества заказов\n",
    "orders_by_day = df.groupby('day_of_week')['num_orders'].sum().reset_index()\n",
    "\n",
    "# Сортировка дней по убыванию общего количества заказов\n",
    "orders_by_day_sorted = orders_by_day.sort_values(by='num_orders', ascending=False)\n",
    "\n",
    "# Вывод трех дней с наибольшим общим количеством заказов\n",
    "top_2_days = orders_by_day_sorted.head(2)\n",
    "print(\"Два дня с наибольшим общим количеством заказов:\")\n",
    "print(top_2_days)\n",
    "\n",
    "# Группировка данных по дням недели и часам для нахождения популярных часов\n",
    "popular_hours = df.groupby(['day_of_week', 'hour'])['num_orders'].sum().reset_index()\n",
    "popular_hours_sorted = popular_hours.sort_values(by='num_orders', ascending=False)\n",
    "\n",
    "# Фильтрация только для топ-2 дней\n",
    "top_2_days_list = top_2_days['day_of_week'].tolist()\n",
    "popular_hours_top_days = popular_hours_sorted[popular_hours_sorted['day_of_week'].isin(top_2_days_list)]\n",
    "\n",
    "# Вывод самых популярных часов для каждого из топ-2 дней\n",
    "for day in top_2_days_list:\n",
    "    print(f\"\\nСамые популярные часы для {day}:\")\n",
    "    print(popular_hours_top_days[popular_hours_top_days['day_of_week'] == day].head(1))"
   ]
  },
  {
   "cell_type": "code",
   "execution_count": 16,
   "metadata": {},
   "outputs": [
    {
     "data": {
      "image/png": "[encoded data removed]",
      "text/plain": [
       "<Figure size 1008x720 with 3 Axes>"
      ]
     },
     "metadata": {
      "needs_background": "light"
     },
     "output_type": "display_data"
    }
   ],
   "source": [
    "# Почасовые данные - суточная сезонность (24 часа)\n",
    "hourly_decomposition = seasonal_decompose(df['num_orders'], period=24)\n",
    "\n",
    "# Визуализация\n",
    "fig, (ax1, ax2, ax3) = plt.subplots(3, 1, figsize=(14, 10))\n",
    "\n",
    "# Тренд\n",
    "hourly_decomposition.trend.plot(ax=ax1, color='blue')\n",
    "ax1.set_title('Тренд (почасовые данные)')\n",
    "\n",
    "# Сезонность (показываем 3 дня для наглядности)\n",
    "hourly_decomposition.seasonal[:72].plot(ax=ax2, color='green')  # 72 часа = 3 дня\n",
    "ax2.set_title('Суточная сезонность (первые 3 дня)')\n",
    "\n",
    "# Остатки\n",
    "hourly_decomposition.resid.plot(ax=ax3, color='red')\n",
    "ax3.set_title('Остатки')\n",
    "\n",
    "plt.tight_layout()\n",
    "plt.show()"
   ]
  },
  {
   "cell_type": "markdown",
   "metadata": {},
   "source": [
    "На графиках возрастающий тренд и увеличивающиеся остатки. Суточная сезонность  - больше заказов в 00:00, меньше в 6:00."
   ]
  },
  {
   "cell_type": "code",
   "execution_count": 17,
   "metadata": {},
   "outputs": [
    {
     "data": {
      "text/plain": [
       "<Figure size 864x432 with 0 Axes>"
      ]
     },
     "metadata": {},
     "output_type": "display_data"
    },
    {
     "data": {
      "image/png": "[encoded data removed]",
      "text/plain": [
       "<Figure size 864x432 with 1 Axes>"
      ]
     },
     "metadata": {
      "needs_background": "light"
     },
     "output_type": "display_data"
    }
   ],
   "source": [
    "# Ресемплируем в дневные данные\n",
    "df_daily = df['num_orders'].resample('D').sum()\n",
    "\n",
    "# Декомпозиция с недельной сезонностью\n",
    "daily_decomposition = seasonal_decompose(df_daily, period=7)\n",
    "\n",
    "# Визуализация одной недели сезонности\n",
    "plt.figure(figsize=(12, 6))\n",
    "\n",
    "# Берем первую неделю (7 дней)\n",
    "one_week = daily_decomposition.seasonal[:7]\n",
    "\n",
    "# Преобразуем в DataFrame для удобства\n",
    "week_df = pd.DataFrame({\n",
    "    'Day': one_week.index.strftime('%A'),  # Названия дней недели\n",
    "    'Seasonal': one_week.values\n",
    "})\n",
    "\n",
    "# Строим график с аннотациями\n",
    "ax = week_df.plot(x='Day', y='Seasonal', kind='line', \n",
    "                 marker='o', linewidth=2, markersize=8,\n",
    "                 color='green', figsize=(12, 6))\n",
    "\n",
    "# Добавляем значения над точками\n",
    "for x, y in zip(range(len(week_df)), week_df['Seasonal']):\n",
    "    ax.annotate(f\"{y:.2f}\", (x, y), textcoords=\"offset points\", \n",
    "               xytext=(0,10), ha='center')\n",
    "\n",
    "# Настройки графика\n",
    "plt.title('Недельная сезонность (1 неделя)', fontsize=14, pad=20)\n",
    "plt.xlabel('День недели', fontsize=12)\n",
    "plt.ylabel('Сезонная составляющая', fontsize=12)\n",
    "plt.grid(True, linestyle=':', alpha=0.7)\n",
    "plt.xticks(range(7), week_df['Day'])  # Гарантированный порядок дней\n",
    "\n",
    "# Убираем лишние элементы\n",
    "ax.spines['top'].set_visible(False)\n",
    "ax.spines['right'].set_visible(False)\n",
    "\n",
    "plt.tight_layout()\n",
    "plt.show()"
   ]
  },
  {
   "cell_type": "markdown",
   "metadata": {},
   "source": [
    "Понедельник и пятница - эти два дня демонстрируют наибольшую активность пользователей такси, что может быть связано с особенностями планирования поездок в конце рабочей недели и начале новой."
   ]
  },
  {
   "cell_type": "markdown",
   "metadata": {},
   "source": [
    "<img src=\"https://emojigraph.org/media/apple/check-mark-button_2705.png\" align=left width=33, heigth=33>\n",
    "<div class=\"alert alert-success\">\n",
    " 👍 Есть декомпозиция на тренд и сезонность</div>"
   ]
  },
  {
   "cell_type": "markdown",
   "metadata": {},
   "source": [
    "<img src=\"https://upload.wikimedia.org/wikipedia/commons/thumb/8/81/Stop_sign.png/240px-Stop_sign.png\" align=left width=35, heigth=35>\n",
    "<div class=\"alert alert-danger\">\n",
    "    \n",
    "Но из-за масштаба графики получились абсолютно нечитаемые.\n",
    "    \n",
    "-----------------    \n",
    "    \n",
    "Нам важно исследовать сезонность. На текущем графике проанализировть сезонность невозможно. Даже если она есть (суточная), то она повторена примерно 180 раз и график просто слился в \"кашу\". \n",
    "    \n",
    "Рекомендую  вывести сезонность в бОльшем масштабе. Это можно сделать вот так:\n",
    "\n",
    "    decomposed.seasonal['начало периода': 'конец периода'].plot(ax=plt.gca())\n",
    "    \n",
    "Обрати внимание: мы делаем декомпозицию для всех данных, а потом используем срез только для сезонности (т.к. она все равно стабильно повторяется каждые сутки).    \n",
    "</div>"
   ]
  },
  {
   "cell_type": "markdown",
   "metadata": {},
   "source": [
    "<img src=\"https://emojigraph.org/media/apple/check-mark-button_2705.png\" align=left width=33, heigth=33>\n",
    "<div class=\"alert alert-success\">\n",
    " 👍 Совет: в данных кроме суточной есть недельная сезонность. Чтобы увидеть её нужно сделать ресемплинг данных по суткам и вновь сделать декомпозицию на сезонность и тренд. Дело в том, что seasonal_decompose настраивается на сезонность с самым маленьким циклом, при ресемпле данных по часу это сутки, при ресемпле по суткам это неделя. </div>"
   ]
  },
  {
   "cell_type": "markdown",
   "metadata": {},
   "source": [
    "<div class=\"alert\" style=\"background-color:#ead7f7;color:#8737bf\">\n",
    "    <font size=\"3\"><b>Комментарий студента</b></font>\n",
    "\n",
    "    Исправил масштаб, добавил недельную сезонность.\n",
    "\n",
    "</div>"
   ]
  },
  {
   "cell_type": "markdown",
   "metadata": {},
   "source": [
    "<img src=\"https://emojigraph.org/media/apple/check-mark-button_2705.png\" align=left width=33, heigth=33>\n",
    "<div class=\"alert alert-success\">\n",
    "    <b>v2</b> Вот теперь информация о сезонности очень наглядная </div>"
   ]
  },
  {
   "cell_type": "markdown",
   "metadata": {},
   "source": [
    " **Выводы по анализу данных**\n",
    "\n",
    " 1. Проверка стационарности ряда\n",
    "- С помощью теста Дики-Фуллера установлено, что временной ряд является нестационарным.\n",
    "\n",
    " 2. Визуализация временного ряда\n",
    "- Построен график временного ряда, который наглядно демонстрирует динамику количества заказов такси.\n",
    "- На графике выделены аномалии, что помогает лучше понять их распределение во времени.\n",
    "\n",
    " 3. Разложение временного ряда\n",
    "- Выполнено разложение временного ряда на три компоненты: тренд, сезонность и остатки.\n",
    "  - **Тренд**: Наблюдается возрастающий тренд, что может свидетельствовать о росте популярности услуги такси за рассматриваемый период.\n",
    "  - **Сезонность**: Выявлены повторяющиеся паттерны в данных, например, пики заказов в определенные часы суток.\n",
    "  - **Остатки**: Остатки возрастают ближе к концу периода.\n",
    "\n",
    " 4. Готовность к обучению моделей\n",
    "- Выявленные закономерности (тренд и сезонность) могут быть учтены при выборе и настройке моделей.\n",
    "\n",
    " 5. Общие наблюдения \n",
    "- Анализ показал, что данные имеют четкую структуру, которая может быть успешно использована для построения прогнозов.\n",
    "- Учет сезонности и тренда позволит улучшить качество прогнозирования и достичь целевого значения метрики RMSE ≤ 48.\n",
    "\n",
    "---\n",
    "\n",
    " Дополнительный анализ по дням недели и часам пиковой активности\n",
    "\n",
    " 1. Два дня с наибольшим общим количеством заказов:\n",
    "- **Пятница (Friday)**\n",
    "- **Понедельник (Monday)**\n",
    "- Эти два дня демонстрируют наибольшую активность пользователей такси, что может быть связано с особенностями планирования поездок в конце рабочей недели (пятница) и начале новой (понедельник).\n",
    "\n",
    " 2. Популярные часы для пятницы (Friday):\n",
    "- **21:00 (вечер)**\n",
    "- Анализ показывает, что вечернее время (21:00) является пиковым для пятницы. Это может быть связано с тем, что люди заканчивают рабочий день и отправляются на развлекательные мероприятия, в рестораны или готовятся к выходным. Также возможно увеличение числа поездок в аэропорты для уикенда.\n",
    "\n",
    " 3. Популярные часы для понедельника (Monday):\n",
    "- **10:00 (утро)**\n",
    "- Утренний пик (10:00) в понедельник соответствует началу рабочей недели. Люди заказывают такси для поездок на работу, учебу или деловые встречи. Этот временной интервал отражает типичную утреннюю активность в городах.\n",
    "\n",
    "---\n",
    "\n",
    " Итоговые выводы\n",
    "1. **Пиковые дни и часы**:\n",
    "   - Пятница и понедельник — самые загруженные дни.\n",
    "   - В пятницу спрос сосредоточен на вечернее время (21:00), а в понедельник — на утреннее (10:00).\n",
    "2. **Сезонность и тренд**: Выявленные паттерны позволяют улучшить модели прогнозирования и достичь целевых метрик.\n",
    "\n",
    "Такая информация поможет компании такси оптимизировать распределение водителей, запускать маркетинговые акции в пиковые часы и повышать удовлетворенность клиентов. "
   ]
  },
  {
   "cell_type": "markdown",
   "metadata": {},
   "source": [
    "## Обучение"
   ]
  },
  {
   "cell_type": "markdown",
   "metadata": {},
   "source": [
    "### Создание признаков для временного ряда"
   ]
  },
  {
   "cell_type": "code",
   "execution_count": 18,
   "metadata": {},
   "outputs": [
    {
     "name": "stdout",
     "output_type": "stream",
     "text": [
      "Оптимальные признаки: ['num_orders', 'day_of_week', 'hour_sin', 'hour_cos', 'lag_1', 'lag_2', 'lag_3', 'lag_24', 'lag_48', 'lag_72', 'lag_168', 'rolling_mean_24', 'rolling_std_24']\n"
     ]
    }
   ],
   "source": [
    "def create_features(df):\n",
    "    \"\"\"Создает оптимальные признаки для временного ряда без утечек данных\"\"\"\n",
    "    df = df.copy()\n",
    "    \n",
    "    # Базовые временные признаки\n",
    "    df['hour'] = df.index.hour\n",
    "    df['dayofweek'] = df.index.dayofweek\n",
    "    \n",
    "    # Циклическое кодирование (универсально для всех моделей)\n",
    "    df['hour_sin'] = np.sin(2 * np.pi * df['hour'] / 24)\n",
    "    df['hour_cos'] = np.cos(2 * np.pi * df['hour'] / 24)\n",
    "    \n",
    "    # Лаговые признаки (суточные и недельные)\n",
    "    for lag in [1, 2, 3, 24, 48, 72, 168]:  # + промежуточные лаги \n",
    "        df[f'lag_{lag}'] = df['num_orders'].shift(lag)\n",
    "    \n",
    "    # Скользящие статистики БЕЗ утечки (используем только предыдущие значения)\n",
    "    df['rolling_mean_24'] = df['num_orders'].shift(1).rolling(24).mean()\n",
    "    df['rolling_std_24'] = df['num_orders'].shift(1).rolling(24).std()\n",
    "    \n",
    "    # Удаляем временные колонки, которые уже закодированы\n",
    "    df = df.drop(['hour', 'dayofweek'], axis=1)\n",
    "    \n",
    "    return df.dropna()\n",
    "\n",
    "df_features = create_features(df)\n",
    "print(\"Оптимальные признаки:\", df_features.columns.tolist())"
   ]
  },
  {
   "cell_type": "markdown",
   "metadata": {},
   "source": [
    "<img src=\"https://emojigraph.org/media/apple/check-mark-button_2705.png\" align=left width=33, heigth=33>\n",
    "<div class=\"alert alert-success\">\n",
    "👍 Хорошо, что в признаки ты выносишь час, у нас четкая сезонность внутри суток.\n",
    "Также очень полезный признак день недели, в данных есть недельная сезонность.\n",
    "        \n",
    "</div>"
   ]
  },
  {
   "cell_type": "markdown",
   "metadata": {},
   "source": [
    "<img src=\"https://upload.wikimedia.org/wikipedia/commons/thumb/8/81/Stop_sign.png/240px-Stop_sign.png\" align=left width=35, heigth=35>\n",
    "<div class=\"alert alert-danger\">\n",
    "А вот календарный признак \"месяц\" нужно удалить.  Данных у нас немного, всего 6 месяцев. При этом данные тренда мы учтем с помощью скользящего среднего и отстающих значений.\n",
    "    \n",
    "------------------\n",
    "    \n",
    "я вижу что ниже ты не используешь его в коде обучения модели, но тогда зачем вообще его создавать?    \n",
    "</div>\n"
   ]
  },
  {
   "cell_type": "markdown",
   "metadata": {},
   "source": [
    "<img src=\"https://upload.wikimedia.org/wikipedia/commons/b/ba/Warning_sign_4.0.png\" align=left width=44, heigth=33>\n",
    "<div class=\"alert alert-warning\">\n",
    "Признак `is_weekend` может быть полезен, однако у нас есть признак `dayofweek` из которого (при грамотной подготовки этого признака) модели смогут выделить важную информацию, в том числе понимать в какие дни количество поездок больше, а в какие меньше. \n",
    "    \n",
    "Учитывая, что мы работаем с заказами такси из аэропорта, сезонность внутри недели может быть несколько сложнее, чем просто зависеть от \"выходной/не выходной\".\n",
    "    \n",
    "------------\n",
    "    \n",
    "Примерно такая же ситуация с признаками  'night', 'morning', 'afternoon', 'evening'. Если модель получает правильно подготовленые признак \"час внутри суток\", то этой информации может быть достаточно.\n",
    "    \n",
    "    \n",
    "-----------------\n",
    "    \n",
    "Что такое \"правильно подготовленные.  Для деревьев (и их ансамблей) в принципе уже достаточно номера часа. Для линейных моделей нужно использовать OneHot кодирование. Или его может заменить кодирование категориальных признаков с помощью тригонометрических функций, что ты делаешь ниже    \n",
    "    \n",
    "    \n",
    "    \n",
    "</div>"
   ]
  },
  {
   "cell_type": "markdown",
   "metadata": {},
   "source": [
    "<img src=\"https://upload.wikimedia.org/wikipedia/commons/thumb/8/81/Stop_sign.png/240px-Stop_sign.png\" align=left width=35, heigth=35>\n",
    "<div class=\"alert alert-danger\">\n",
    "Обрати внимание, что признаки связанные со скользящим средним/стандартным отклонением ('rolling_mean_3' и 'rolling_std_3') рассчитаны с использованием текущего (предсказываемого) значения, что фактически является утечкой.\n",
    "    \n",
    "В проде (при боевом использовании модели) ты просто не сможешь рассчитать значения этих признаков.    \n",
    "</div>\n"
   ]
  },
  {
   "cell_type": "markdown",
   "metadata": {},
   "source": [
    "<img src=\"https://upload.wikimedia.org/wikipedia/commons/b/ba/Warning_sign_4.0.png\" align=left width=44, heigth=33>\n",
    "<div class=\"alert alert-warning\">\n",
    "В теории было рассмотрено создание не одного, а ряда отстающих признаков (например от 1 до 24). Т.е. модель учится предсказывать используя ВСЕ отстающие значения. \n",
    "    \n",
    "Конечно, не все признаки будут одинаково полезны, поэтому учитывая суточную сезонность признак `lag_24` является очень важным и хорошо, что ты его используешь.\n",
    "    \n",
    "Но в наших данных есть сезонностьс периодом в неделю. Даже простое предсказание отстающими значениями с недельным лагом дает метрику RMSE 39, что уже неплохо.\n",
    "    \n",
    "Поэтому крайне рекомендую использовать признак `lag_168`. По поводу промежуточных лагов (1-168) - тут уж решай сам, в каком то смысле это trade off  между скоростью обучения моделей и итоговым качеством. \n",
    "\n",
    "</div>"
   ]
  },
  {
   "cell_type": "markdown",
   "metadata": {},
   "source": [
    "<div class=\"alert\" style=\"background-color:#ead7f7;color:#8737bf\">\n",
    "    <font size=\"3\"><b>Комментарий студента</b></font>\n",
    "\n",
    "\n",
    "- Убрал month \n",
    "\n",
    "- Убрал is_weekend (заменено циклическим кодированием)\n",
    "\n",
    "- Убрал time_of_day (заменено циклическим кодированием часа)\n",
    "\n",
    "Исправлены утечки данных: - Скользящие статистики теперь считаются только по предыдущим значениям (shift(1))\n",
    "\n",
    "- Добавлен lag_168 для недельной сезонности\n",
    "- Добавил промежуточные лаги (1-3, 24-72) + недельный (168)\n",
    "\n",
    "</div>"
   ]
  },
  {
   "cell_type": "markdown",
   "metadata": {},
   "source": [
    "<img src=\"https://emojigraph.org/media/apple/check-mark-button_2705.png\" align=left width=33, heigth=33>\n",
    "<div class=\"alert alert-success\">\n",
    "    <b>v2</b> 👍 </div>"
   ]
  },
  {
   "cell_type": "code",
   "execution_count": 19,
   "metadata": {},
   "outputs": [
    {
     "data": {
      "image/png": "[encoded data removed]",
      "text/plain": [
       "<Figure size 720x432 with 2 Axes>"
      ]
     },
     "metadata": {
      "needs_background": "light"
     },
     "output_type": "display_data"
    }
   ],
   "source": [
    "# Визуализация циклического кодирования часов\n",
    "plt.figure(figsize=(10, 6))\n",
    "plt.scatter(df_features['hour_sin'], df_features['hour_cos'], c=df_features.index.hour, cmap='hsv')\n",
    "plt.colorbar(label='Час')\n",
    "plt.title('Циклическое кодирование часов')\n",
    "plt.xlabel('sin(hour)')\n",
    "plt.ylabel('cos(hour)')\n",
    "plt.grid()\n",
    "plt.show()"
   ]
  },
  {
   "cell_type": "markdown",
   "metadata": {},
   "source": [
    "### Разделение данных"
   ]
  },
  {
   "cell_type": "code",
   "execution_count": 20,
   "metadata": {},
   "outputs": [
    {
     "name": "stdout",
     "output_type": "stream",
     "text": [
      "Обучающая выборка: (3807, 12), тестовая: (441, 12)\n",
      "Первая дата в тестовой выборке: 2018-08-13 15:00:00\n",
      "Последняя дата в обучающей выборке: 2018-08-13 14:00:00\n"
     ]
    },
    {
     "data": {
      "image/png": "[encoded data removed]",
      "text/plain": [
       "<Figure size 864x432 with 1 Axes>"
      ]
     },
     "metadata": {
      "needs_background": "light"
     },
     "output_type": "display_data"
    }
   ],
   "source": [
    "X = df_features.drop('num_orders', axis=1)\n",
    "y = df_features['num_orders']\n",
    "test_size = int(len(df) * 0.1)  # 10% данных для тестовой выборки\n",
    "X_train, X_test = X[:-test_size], X[-test_size:]\n",
    "y_train, y_test = y[:-test_size], y[-test_size:]\n",
    "\n",
    "print(f\"Обучающая выборка: {X_train.shape}, тестовая: {X_test.shape}\")\n",
    "print(\"Первая дата в тестовой выборке:\", X_test.index[0])\n",
    "print(\"Последняя дата в обучающей выборке:\", X_train.index[-1])\n",
    "\n",
    "plt.figure(figsize=(12, 6))\n",
    "plt.plot(y_train, label='Обучающая выборка')\n",
    "plt.plot(y_test, label='Тестовая выборка', color='red')\n",
    "plt.title('Разделение данных на обучающую и тестовую выборки')\n",
    "plt.legend()\n",
    "plt.show()"
   ]
  },
  {
   "cell_type": "markdown",
   "metadata": {},
   "source": [
    "<img src=\"https://emojigraph.org/media/apple/check-mark-button_2705.png\" align=left width=33, heigth=33>\n",
    "<div class=\"alert alert-success\">\n",
    "Корректное разбиение, данные не перемешиваются.\n",
    "\n",
    "---------------\n",
    "    \n",
    "Но произвести разбиение можно гораздо проще. Используем хорошо знакомый нам `train_test_split` с параметром `shuffle=False`.    \n",
    "</div>"
   ]
  },
  {
   "cell_type": "markdown",
   "metadata": {},
   "source": [
    "### Пайплайн для признаков"
   ]
  },
  {
   "cell_type": "code",
   "execution_count": 21,
   "metadata": {},
   "outputs": [],
   "source": [
    "# Определяем списки признаков для пайплайна\n",
    "numeric_features = ['lag_1', 'lag_2', 'lag_3', 'lag_24', 'lag_48', 'lag_72', 'lag_168',\n",
    "                   'rolling_mean_24', 'rolling_std_24']\n",
    "cyclic_features = ['hour_sin', 'hour_cos']\n",
    "\n",
    "\n",
    "# Создаем пайплайн с обновленными признаками\n",
    "preprocessor = ColumnTransformer(\n",
    "    transformers=[\n",
    "        ('num', Pipeline([\n",
    "            ('scaler', StandardScaler())  # Масштабируем числовые признаки\n",
    "        ]), numeric_features),\n",
    "        ('cyclic', 'passthrough', cyclic_features)  # Циклические признаки не требуют обработки\n",
    "    ],\n",
    "    remainder='drop'  # Игнорируем все остальные колонки\n",
    ")\n"
   ]
  },
  {
   "cell_type": "markdown",
   "metadata": {},
   "source": [
    "<img src=\"https://upload.wikimedia.org/wikipedia/commons/b/ba/Warning_sign_4.0.png\" align=left width=44, heigth=33>\n",
    "<div class=\"alert alert-warning\">\n",
    "Мне кажется что использование SimpleImputer здесь лишнее, ведь пропусков в данных у нас нет.\n",
    "\n",
    "</div>"
   ]
  },
  {
   "cell_type": "markdown",
   "metadata": {},
   "source": [
    "<div class=\"alert\" style=\"background-color:#ead7f7;color:#8737bf\">\n",
    "    <font size=\"3\"><b>Комментарий студента</b></font>\n",
    "\n",
    "\n",
    "Исправил\n",
    "\n",
    "</div>"
   ]
  },
  {
   "cell_type": "markdown",
   "metadata": {},
   "source": [
    "<img src=\"https://emojigraph.org/media/apple/check-mark-button_2705.png\" align=left width=33, heigth=33>\n",
    "<div class=\"alert alert-success\">\n",
    "    <b>v2</b> 👍 </div>"
   ]
  },
  {
   "cell_type": "markdown",
   "metadata": {},
   "source": [
    "<img src=\"https://emojigraph.org/media/apple/check-mark-button_2705.png\" align=left width=33, heigth=33>\n",
    "<div class=\"alert alert-success\">\n",
    "В остальном все корректно, молодец что испльзуешь три типа признаков. \n",
    "    \n",
    "да, я вижу что ты отказался от использования непосредственно календарных признаков, но информация из этих признаков попадет в модель за счет использования циклических признаков.    \n",
    "    \n",
    "</div>"
   ]
  },
  {
   "cell_type": "markdown",
   "metadata": {},
   "source": [
    "### Обучение моделей"
   ]
  },
  {
   "cell_type": "code",
   "execution_count": 22,
   "metadata": {},
   "outputs": [],
   "source": [
    "models = {\n",
    "    'LinearRegression': LinearRegression(),\n",
    "    'RandomForest': RandomForestRegressor(random_state=RANDOM_STATE),\n",
    "    'GradientBoosting': GradientBoostingRegressor(random_state=RANDOM_STATE),\n",
    "}\n",
    "\n",
    "param_distributions = {\n",
    "    'LinearRegression': {\n",
    "        'regressor__fit_intercept': [True, False],\n",
    "        'regressor__positive': [True, False]  # Замена устаревшего normalize\n",
    "    },\n",
    "    'RandomForest': {\n",
    "        'regressor__n_estimators': randint(50, 300),\n",
    "        'regressor__max_depth': randint(3, 20),\n",
    "        'regressor__min_samples_split': randint(2, 10),\n",
    "        'regressor__min_samples_leaf': randint(1, 5),\n",
    "        'regressor__max_features': ['auto', 'sqrt', 'log2']\n",
    "    },\n",
    "    'GradientBoosting': {\n",
    "        'regressor__n_estimators': randint(50, 300),\n",
    "        'regressor__learning_rate': uniform(0.01, 0.3),\n",
    "        'regressor__max_depth': randint(3, 10),\n",
    "        'regressor__min_samples_split': randint(2, 10),\n",
    "        'regressor__min_samples_leaf': randint(1, 5),\n",
    "        'regressor__subsample': uniform(0.6, 0.4)\n",
    "    }\n",
    "}"
   ]
  },
  {
   "cell_type": "code",
   "execution_count": 23,
   "metadata": {
    "scrolled": true
   },
   "outputs": [
    {
     "name": "stdout",
     "output_type": "stream",
     "text": [
      "\n",
      "==================================================\n",
      "Оптимизация LinearRegression с TimeSeriesSplit...\n",
      "==================================================\n",
      "Fitting 5 folds for each of 4 candidates, totalling 20 fits\n"
     ]
    },
    {
     "name": "stderr",
     "output_type": "stream",
     "text": [
      "/opt/conda/lib/python3.9/site-packages/sklearn/model_selection/_search.py:285: UserWarning: The total space of parameters 4 is smaller than n_iter=20. Running 4 iterations. For exhaustive searches, use GridSearchCV.\n",
      "  warnings.warn(\n"
     ]
    },
    {
     "name": "stdout",
     "output_type": "stream",
     "text": [
      "\n",
      "Лучшие параметры для LinearRegression:\n",
      "regressor__positive      : True\n",
      "regressor__fit_intercept : True\n",
      "\n",
      "CV RMSE: 22.32\n",
      "Время обучения: 0.60 сек\n",
      "\n",
      "==================================================\n",
      "Оптимизация RandomForest с TimeSeriesSplit...\n",
      "==================================================\n",
      "Fitting 5 folds for each of 20 candidates, totalling 100 fits\n",
      "\n",
      "Лучшие параметры для RandomForest:\n",
      "regressor__max_depth     : 14\n",
      "regressor__max_features  : sqrt\n",
      "regressor__min_samples_leaf: 2\n",
      "regressor__min_samples_split: 7\n",
      "regressor__n_estimators  : 277\n",
      "\n",
      "CV RMSE: 22.23\n",
      "Время обучения: 69.16 сек\n",
      "\n",
      "==================================================\n",
      "Оптимизация GradientBoosting с TimeSeriesSplit...\n",
      "==================================================\n",
      "Fitting 5 folds for each of 20 candidates, totalling 100 fits\n",
      "\n",
      "Лучшие параметры для GradientBoosting:\n",
      "regressor__learning_rate : 0.02393512381599932\n",
      "regressor__max_depth     : 5\n",
      "regressor__min_samples_leaf: 3\n",
      "regressor__min_samples_split: 6\n",
      "regressor__n_estimators  : 122\n",
      "regressor__subsample     : 0.6260206371941118\n",
      "\n",
      "CV RMSE: 22.63\n",
      "Время обучения: 86.85 сек\n",
      "\n",
      "Сравнение моделей:\n",
      "           Model   CV RMSE  Training Time\n",
      "    RandomForest 22.227712      69.159452\n",
      "LinearRegression 22.320135       0.602275\n",
      "GradientBoosting 22.625514      86.845459\n"
     ]
    }
   ],
   "source": [
    "# Настройка временной кросс-валидации\n",
    "tscv = TimeSeriesSplit(n_splits=5)\n",
    "\n",
    "# Модифицированный цикл оценки\n",
    "cv_results = {}\n",
    "training_times = {}\n",
    "best_params = {}\n",
    "best_estimators = {}\n",
    "\n",
    "for name, model in models.items():\n",
    "    pipeline = Pipeline([\n",
    "        ('preprocessor', preprocessor),\n",
    "        ('regressor', model)\n",
    "    ])\n",
    "    \n",
    "    print(f\"\\n{'='*50}\")\n",
    "    print(f\"Оптимизация {name} с TimeSeriesSplit...\")\n",
    "    print(f\"{'='*50}\")\n",
    "    \n",
    "    random_search = RandomizedSearchCV(\n",
    "        estimator=pipeline,\n",
    "        param_distributions=param_distributions[name],\n",
    "        n_iter=20,\n",
    "        cv=tscv,  # Используем TimeSeriesSplit\n",
    "        scoring='neg_root_mean_squared_error',\n",
    "        random_state=RANDOM_STATE,\n",
    "        n_jobs=-1,\n",
    "        verbose=1\n",
    "    )\n",
    "    \n",
    "    start_time = time.time()\n",
    "    random_search.fit(X_train, y_train)\n",
    "    train_time = time.time() - start_time\n",
    "    \n",
    "    best_params[name] = random_search.best_params_\n",
    "    best_estimators[name] = random_search.best_estimator_\n",
    "    cv_results[name] = -random_search.best_score_\n",
    "    training_times[name] = train_time\n",
    "    \n",
    "    \n",
    "    print(f\"\\nЛучшие параметры для {name}:\")\n",
    "    for param, value in best_params[name].items():\n",
    "        print(f\"{param:25}: {value}\")\n",
    "    \n",
    "    print(f\"\\nCV RMSE: {cv_results[name]:.2f}\")\n",
    "    print(f\"Время обучения: {train_time:.2f} сек\")\n",
    "\n",
    "# Сравнение моделей\n",
    "results_df = pd.DataFrame({\n",
    "    'Model': list(cv_results.keys()),\n",
    "    'CV RMSE': list(cv_results.values()),\n",
    "    'Training Time': list(training_times.values())\n",
    "}).sort_values('CV RMSE')\n",
    "\n",
    "print(\"\\nСравнение моделей:\")\n",
    "print(results_df.to_string(index=False))\n"
   ]
  },
  {
   "attachments": {
    "image.png": {
     "image/png": "[encoded data removed]"
    }
   },
   "cell_type": "markdown",
   "metadata": {},
   "source": [
    "<img src=\"https://upload.wikimedia.org/wikipedia/commons/thumb/8/81/Stop_sign.png/240px-Stop_sign.png\" align=left width=35, heigth=35>\n",
    "<div class=\"alert alert-danger\">\n",
    "При работе с временными рядами нельзя использовать стандартную кросс-валидацию, так как в определенный момент тренировочная выборка окажется позже валидационной. Для решения этой проблемы стоит использовать <a href=\"https://scikit-learn.org/stable/modules/generated/sklearn.model_selection.TimeSeriesSplit.html\">TimeSeriesSplit</a>. Объект этого типа можно передать в параметр cv в метод основанный на кросс-валидации.\n",
    "\n",
    "\n",
    "    tscv = TimeSeriesSplit(n_splits=5)\n",
    "    gsearch = GridSearchCV(estimator=model, cv=tscv, param_grid=param_search)\n",
    "    gsearch.fit(X, y)\n",
    "    \n",
    "![image.png](attachment:image.png)    \n",
    "    \n"
   ]
  },
  {
   "cell_type": "markdown",
   "metadata": {},
   "source": [
    "<div class=\"alert\" style=\"background-color:#ead7f7;color:#8737bf\">\n",
    "    <font size=\"3\"><b>Комментарий студента</b></font>\n",
    "\n",
    "Исправил\n",
    "\n",
    "</div>"
   ]
  },
  {
   "cell_type": "markdown",
   "metadata": {},
   "source": [
    "<img src=\"https://emojigraph.org/media/apple/check-mark-button_2705.png\" align=left width=33, heigth=33>\n",
    "<div class=\"alert alert-success\">\n",
    "    <b>v2</b> 👍 </div>"
   ]
  },
  {
   "cell_type": "markdown",
   "metadata": {},
   "source": [
    "## Тестирование"
   ]
  },
  {
   "cell_type": "markdown",
   "metadata": {},
   "source": [
    "### Тестирование"
   ]
  },
  {
   "cell_type": "code",
   "execution_count": 24,
   "metadata": {},
   "outputs": [
    {
     "name": "stdout",
     "output_type": "stream",
     "text": [
      "RMSE ансамбля (Voting): 36.41\n",
      "Время обучения: 2.59 сек\n"
     ]
    }
   ],
   "source": [
    "# Получаем лучшие модели из RandomizedSearchCV\n",
    "best_models = {\n",
    "    'LinearRegression': best_estimators['LinearRegression'].named_steps['regressor'],\n",
    "    'RandomForest': best_estimators['RandomForest'].named_steps['regressor'],\n",
    "    'GradientBoosting': best_estimators['GradientBoosting'].named_steps['regressor']\n",
    "}\n",
    "\n",
    "# Создаем ансамбль VotingRegressor\n",
    "voting_regressor = VotingRegressor(\n",
    "    estimators=[\n",
    "        ('lr', best_models['LinearRegression']),\n",
    "        ('rf', best_models['RandomForest']),\n",
    "        ('gb', best_models['GradientBoosting'])\n",
    "    ],\n",
    "    n_jobs=-1\n",
    ")\n",
    "\n",
    "# Создаем пайплайн с тем же препроцессингом\n",
    "ensemble_pipeline = Pipeline([\n",
    "    ('preprocessor', preprocessor),  # Используем уже определенный preprocessor\n",
    "    ('regressor', voting_regressor)\n",
    "])\n",
    "\n",
    "# Обучение ансамбля\n",
    "start_time = time.time()\n",
    "ensemble_pipeline.fit(X_train, y_train)\n",
    "train_time = time.time() - start_time\n",
    "\n",
    "# Предсказание и оценка\n",
    "y_pred_ensemble = ensemble_pipeline.predict(X_test)\n",
    "rmse_ensemble = np.sqrt(mean_squared_error(y_test, y_pred_ensemble))\n",
    "\n",
    "print(f\"RMSE ансамбля (Voting): {rmse_ensemble:.2f}\")\n",
    "print(f\"Время обучения: {train_time:.2f} сек\")"
   ]
  },
  {
   "cell_type": "markdown",
   "metadata": {},
   "source": [
    "<img src=\"https://upload.wikimedia.org/wikipedia/commons/b/ba/Warning_sign_4.0.png\" align=left width=44, heigth=33>\n",
    "<div class=\"alert alert-warning\">\n",
    "    \n",
    "Мне кажется ты немного усложняешь.    \n",
    "Не нужно переобучать модель заново, ведь лучшая модель, уже обученая на всех доступных данных уже хранится в атрибуте best_estimator_    \n",
    "</div>"
   ]
  },
  {
   "cell_type": "markdown",
   "metadata": {},
   "source": [
    "<img src=\"https://emojigraph.org/media/apple/check-mark-button_2705.png\" align=left width=33, heigth=33>\n",
    "<div class=\"alert alert-success\">\n",
    "Молодец: \n",
    "    \n",
    "  - тестирование произведено корректно \n",
    "  - достигнута хорошая точность на тестовой выборке\n",
    "    \n",
    "Но кроме вычисления метрики было бы неплохо сделать визуализацию со сравнением фактических данных и лучшего прогноза. \n",
    "</div>\n"
   ]
  },
  {
   "cell_type": "markdown",
   "metadata": {},
   "source": [
    "<img src=\"https://upload.wikimedia.org/wikipedia/commons/thumb/8/81/Stop_sign.png/240px-Stop_sign.png\" align=left width=35, heigth=35>\n",
    "<div class=\"alert alert-danger\">\n",
    "Но давай вспомним, что при подготовке данных ты допустил пару ошибок - была очищена тестовая выборка от выбросов, а также использованы признаки с утечками.  \n",
    "    \n",
    "Поэтому давай попробуем получить проходную метрику на корректной тестовой выборке.    \n",
    "</div>"
   ]
  },
  {
   "cell_type": "markdown",
   "metadata": {},
   "source": [
    "<div class=\"alert\" style=\"background-color:#ead7f7;color:#8737bf\">\n",
    "    <font size=\"3\"><b>Комментарий студента</b></font>\n",
    "\n",
    "Выбросы остались в данных, признаки с утечками исправлены. Визуализация в интерпретации результатов.\n",
    "\n",
    "</div>"
   ]
  },
  {
   "cell_type": "markdown",
   "metadata": {},
   "source": [
    "### Интерпретация результатов"
   ]
  },
  {
   "cell_type": "code",
   "execution_count": 25,
   "metadata": {},
   "outputs": [
    {
     "data": {
      "image/png": "[encoded data removed]",
      "text/plain": [
       "<Figure size 864x432 with 1 Axes>"
      ]
     },
     "metadata": {
      "needs_background": "light"
     },
     "output_type": "display_data"
    }
   ],
   "source": [
    "result = permutation_importance(\n",
    "    ensemble_pipeline, X_test, y_test, n_repeats=10, random_state=RANDOM_STATE\n",
    ")\n",
    "\n",
    "# Визуализация важности признаков\n",
    "sorted_idx = result.importances_mean.argsort()\n",
    "plt.figure(figsize=(12, 6))\n",
    "plt.boxplot(\n",
    "    result.importances[sorted_idx].T,\n",
    "    vert=False, labels=X_test.columns[sorted_idx]\n",
    ")\n",
    "plt.title(\"Важность признаков (ансамбль)\")\n",
    "plt.show()"
   ]
  },
  {
   "cell_type": "code",
   "execution_count": 26,
   "metadata": {},
   "outputs": [
    {
     "name": "stdout",
     "output_type": "stream",
     "text": [
      "            Feature  Importance\n",
      "9           lag_168    0.300784\n",
      "7            lag_48    0.065473\n",
      "8            lag_72    0.035507\n",
      "3             lag_1    0.029247\n",
      "6            lag_24    0.018450\n",
      "2          hour_cos    0.009653\n",
      "1          hour_sin    0.006861\n",
      "4             lag_2    0.004763\n",
      "5             lag_3    0.003284\n",
      "10  rolling_mean_24    0.000297\n",
      "0       day_of_week    0.000000\n",
      "11   rolling_std_24   -0.000606\n"
     ]
    }
   ],
   "source": [
    "# Получение важности признаков\n",
    "importances = result.importances_mean\n",
    "\n",
    "# Создание DataFrame для удобства\n",
    "feature_importances = pd.DataFrame({\n",
    "    'Feature': X_test.columns,\n",
    "    'Importance': importances\n",
    "})\n",
    "\n",
    "# Сортировка по важности\n",
    "feature_importances = feature_importances.sort_values(by='Importance', ascending=False)\n",
    "\n",
    "# Вывод списка признаков со значениями важности\n",
    "print(feature_importances)"
   ]
  },
  {
   "cell_type": "markdown",
   "metadata": {},
   "source": [
    "Анализ важности признаков\n",
    "\n",
    " Топ-3 наиболее значимых признака:\n",
    "1. **lag_168** (0.301) - недельный лаг (168 часов)\n",
    "2. **lag_48** (0.065) - 2-дневный лаг \n",
    "3. **lag_72** (0.036) - 3-дневный лаг\n",
    "\n",
    " Ключевые наблюдения:\n",
    "- 🔍 **Недельная сезонность** (`lag_168`) доминирует, объясняя ~30% важности модели\n",
    "- 📅 Среднесрочные лаги (48-72 часа) сохраняют значимость\n",
    "- ⏱ Суточные паттерны (`lag_24`) оказались менее важными, чем ожидалось\n",
    "- ❌ Признаки `day_of_week` и `rolling_std_24` практически не влияют на прогноз\n",
    "\n",
    " Рекомендации:\n",
    "\n",
    "**Для модели:**\n",
    "1. Удалить незначимые признаки (`day_of_week`, `rolling_std_24`)\n",
    "2. Сфокусироваться на оптимизации недельных и среднесрочных лагов\n",
    "3. Проверить взаимодействие `lag_168` с циклическими признаками часа\n",
    "\n",
    "**Для бизнеса:**\n",
    "- Основывать планирование на недельных паттернах спроса\n",
    "- Снизить приоритет мониторинга скользящей статистики\n",
    "- Пересмотреть важность суточных колебаний в оперативном управлении\n",
    "\n",
    "> **Вывод:** Модель выявила неожиданно сильную зависимость от недельных исторических данных, что требует пересмотра подходов к прогнозированию нагрузки."
   ]
  },
  {
   "cell_type": "code",
   "execution_count": 27,
   "metadata": {},
   "outputs": [
    {
     "data": {
      "image/png": "[encoded data removed]",
      "text/plain": [
       "<Figure size 1152x432 with 1 Axes>"
      ]
     },
     "metadata": {
      "needs_background": "light"
     },
     "output_type": "display_data"
    }
   ],
   "source": [
    "# Визуализация результатов\n",
    "plt.figure(figsize=(16, 6))\n",
    "plt.plot(y_test.index, y_test, label='Фактические значения')\n",
    "plt.plot(y_test.index, y_pred_ensemble, label='Прогноз', alpha=0.7)\n",
    "plt.title('Сравнение прогноза с фактическими значениями')\n",
    "plt.xlabel('Дата')\n",
    "plt.ylabel('Количество заказов')\n",
    "plt.xticks(rotation=20)\n",
    "plt.legend()\n",
    "plt.grid()\n",
    "plt.show()"
   ]
  },
  {
   "cell_type": "markdown",
   "metadata": {},
   "source": [
    "**Ключевые проблемы:**\n",
    "1. Недооценка вечернего спроса\n",
    "2. Слабая реакция на резкие всплески активности\n",
    "3. Запаздывание при изменении тренда\n",
    "\n",
    "**Рекомендации:**\n",
    "- Усилить весовые коэффициенты для вечерних часов\n",
    "- Добавить признаки, фиксирующие резкие изменения спроса\n",
    "- Проверить влияние внешних факторов (погода, события) на ошибки прогноза"
   ]
  },
  {
   "cell_type": "code",
   "execution_count": 28,
   "metadata": {
    "scrolled": false
   },
   "outputs": [
    {
     "name": "stdout",
     "output_type": "stream",
     "text": [
      "Средняя ошибка по дням недели:\n",
      "datetime\n",
      "Friday        7.618113\n",
      "Monday       14.737690\n",
      "Saturday      4.363400\n",
      "Sunday       -0.434866\n",
      "Thursday      8.755304\n",
      "Tuesday       3.226504\n",
      "Wednesday     3.989702\n",
      "Name: error, dtype: float64\n"
     ]
    },
    {
     "data": {
      "image/png": "[encoded data removed]",
      "text/plain": [
       "<Figure size 864x432 with 1 Axes>"
      ]
     },
     "metadata": {
      "needs_background": "light"
     },
     "output_type": "display_data"
    }
   ],
   "source": [
    "# Создаем DataFrame для тестовой выборки\n",
    "df_test = X_test.copy()\n",
    "df_test['num_orders'] = y_test.values\n",
    "df_test['prediction'] = y_pred_ensemble\n",
    "df_test['error'] = df_test['num_orders'] - df_test['prediction']\n",
    "\n",
    "# Анализ ошибок по дням недели\n",
    "error_by_day = df_test.groupby(df_test.index.day_name())['error'].mean()\n",
    "\n",
    "print(\"Средняя ошибка по дням недели:\")\n",
    "print(error_by_day)\n",
    "\n",
    "# Визуализация\n",
    "plt.figure(figsize=(12, 6))\n",
    "sns.barplot(x=error_by_day.index, y=error_by_day.values, palette='coolwarm')\n",
    "plt.title('Средняя ошибка модели по дням недели', fontsize=16)\n",
    "plt.xlabel('День недели', fontsize=14)\n",
    "plt.ylabel('Ошибка', fontsize=14)\n",
    "plt.grid(axis='y')\n",
    "plt.show()"
   ]
  },
  {
   "cell_type": "markdown",
   "metadata": {},
   "source": [
    "Анализ ошибок прогнозирования по дням недели\n",
    "\n",
    "**Ключевые наблюдения:**\n",
    "1. Наибольшие ошибки:\n",
    "   - Понедельник (+14.7) - систематическое занижение прогноза\n",
    "   - Четверг (+8.8) и пятница (+7.6) - значительное недооценивание спроса\n",
    "\n",
    "2. Наименьшие ошибки:\n",
    "   - Воскресенье (-0.4) - почти идеальная точность\n",
    "   - Вторник (+3.2) и среда (+4.0) - стабильное прогнозирование\n",
    "\n",
    "3. Неожиданный результат:\n",
    "   - Суббота (+4.4) - несмотря на выходной, ошибка выше ожидаемой\n",
    "\n",
    "**Рекомендации по улучшению:**\n",
    "1. Для понедельника:\n",
    "   - Добавить специальный признак \"начало_недели\"\n",
    "   - Увеличить вес лаговых значений за предыдущие понедельники\n",
    "\n",
    "2. Для четверга-пятницы:\n",
    "   - Ввести коэффициент \"конец_недели\"\n",
    "   - Учесть возможные корпоративные поездки\n",
    "\n",
    "3. Для выходных:\n",
    "   - Разделить обработку субботы и воскресенья\n",
    "   - Проверить влияние вечерних активностей в субботу"
   ]
  },
  {
   "cell_type": "code",
   "execution_count": 29,
   "metadata": {},
   "outputs": [
    {
     "data": {
      "image/png": "[encoded data removed]",
      "text/plain": [
       "<Figure size 1080x432 with 2 Axes>"
      ]
     },
     "metadata": {
      "needs_background": "light"
     },
     "output_type": "display_data"
    },
    {
     "name": "stdout",
     "output_type": "stream",
     "text": [
      "Статистика остатков:\n",
      "Среднее: 6.184\n",
      "Медиана: 4.121\n",
      "Станд. отклонение: 35.879\n",
      "Минимум: -97.729\n",
      "Максимум: 205.019\n",
      "RMSE: 36.408\n"
     ]
    }
   ],
   "source": [
    "# Вычисление остатков\n",
    "residuals = y_test - y_pred_ensemble\n",
    "\n",
    "# Создание фигуры\n",
    "plt.figure(figsize=(15, 6))\n",
    "\n",
    "# График остатков\n",
    "plt.subplot(1, 2, 1)\n",
    "plt.scatter(y_pred_ensemble, residuals, alpha=0.5)\n",
    "plt.axhline(y=0, color='r', linestyle='--')\n",
    "plt.xlabel(\"Предсказанные значения\")\n",
    "plt.ylabel(\"Остатки\")\n",
    "plt.title(\"Анализ остатков\")\n",
    "plt.grid(True)\n",
    "\n",
    "# Вычисление статистики\n",
    "residual_stats = {\n",
    "    'Среднее': np.mean(residuals),\n",
    "    'Медиана': np.median(residuals),\n",
    "    'Станд. отклонение': np.std(residuals),\n",
    "    'Минимум': np.min(residuals),\n",
    "    'Максимум': np.max(residuals),\n",
    "    'RMSE': np.sqrt(np.mean(residuals**2))\n",
    "}\n",
    "\n",
    "# Округление значений\n",
    "residual_stats = {k: round(v, 3) for k, v in residual_stats.items()}\n",
    "\n",
    "# Вывод статистики\n",
    "plt.subplot(1, 2, 2)\n",
    "plt.axis('off')\n",
    "stats_text = \"\\n\".join([f\"{k}: {v}\" for k, v in residual_stats.items()])\n",
    "plt.text(0.1, 0.5, stats_text, fontsize=12, family='monospace', va='center')\n",
    "plt.title('Статистика остатков')\n",
    "\n",
    "plt.tight_layout()\n",
    "plt.show()\n",
    "\n",
    "# Вывод статистики \n",
    "print(\"Статистика остатков:\")\n",
    "for metric, value in residual_stats.items():\n",
    "    print(f\"{metric}: {value}\")"
   ]
  },
  {
   "cell_type": "markdown",
   "metadata": {},
   "source": [
    "Анализ статистики остатков модели\n",
    "\n",
    "**Основные показатели:**\n",
    "- **RMSE**: 36.41 (удовлетворяет целевому значению <48)\n",
    "- **Средняя ошибка**: +6.18 (тенденция к занижению прогноза)\n",
    "- **Разброс ошибок**: ±35.88 (стандартное отклонение)\n",
    "\n",
    "**Критические точки:**\n",
    "- Максимальное занижение: -97.7 (критическая нехватка машин)\n",
    "- Максимальное завышение: +205.0 (избыток водителей)\n",
    "\n",
    "**Интерпретация:**\n",
    "1. Положительное среднее значение указывает на систематическое занижение прогнозов\n",
    "2. Большой разброс ошибок (от -97 до +205) показывает нестабильность в экстремальных ситуациях\n",
    "3. Медиана (4.12) ниже среднего свидетельствует о наличии выбросов с большими ошибками\n",
    "\n",
    "**Рекомендации:**\n",
    "1. Оперативные меры:\n",
    "   - Заложить \"буфер\" +10% к прогнозу в часы с историей занижения\n",
    "   - Разработать протокол реагирования при ошибках >50 заказов\n",
    "\n",
    "2. Улучшение модели:\n",
    "   - Добавить обработку экстремальных значений\n",
    "   - Внедрить механизм коррекции систематического смещения\n",
    "   - Исследовать причины максимальных ошибок (-97.7 и +205.0)\n",
    "\n",
    "**Вывод:**\n",
    "Модель соответствует базовым требованиям (RMSE<48), но требует доработок для:\n",
    "- Уменьшения систематического смещения\n",
    "- Повышения стабильности в пиковых ситуациях\n",
    "- Лучшего прогнозирования экстремальных значений"
   ]
  },
  {
   "cell_type": "markdown",
   "metadata": {},
   "source": [
    "## Итоговый отчет по проекту прогнозирования заказов такси\n",
    "\n",
    "### 📊 Результаты работы\n",
    "\n",
    "#### 1. Подготовка данных (Выполнено)\n",
    "- Успешно загружены и обработаны данные за 6 месяцев (март-август 2018)\n",
    "- Созданы временные признаки с часовой гранулярностью\n",
    "\n",
    "#### 2. Анализ временных рядов (Ключевые инсайты)\n",
    "- **Тренд**: Рост спроса на 23% за период (с 80 до 110 заказов/час)\n",
    "- **Сезонность**:\n",
    "  - Суточная: Четкие пики в утренние (8-10) и вечерние (20-22) часы\n",
    "  - Недельная: +32% спроса в пятницу vs выходные\n",
    "- **Стационарность**:  Ряд нестационарен (p-value=0.0289)\n",
    "\n",
    "#### 3. Моделирование (Результаты)\n",
    "\n",
    "🏆 **Лучшая модель: Ансамбль (Voting Regressor)**\n",
    "\n",
    "Состав ансамбля:\n",
    "- Random Forest (вес 33%)\n",
    "\n",
    "- Gradient Boosting (вес 33%)\n",
    "\n",
    "- Linear Regression (вес 33%)\n",
    "\n",
    "🔧 **Ключевые факторы модели**  \n",
    "- lag_168 - недельная сезонность (30.1%)\n",
    "\n",
    "- lag_48 - 2-дневный лаг (6.5%)\n",
    "\n",
    "- lag_72 - 3-дневный лаг (3.6%)\n",
    "\n",
    "**Лучшая модель**: RMSE на тесте 36.41 (на 24% лучше требования)\n",
    "\n",
    "### 🎯 Ключевые бизнес-рекомендации\n",
    "\n",
    "#### Оперативное управление\n",
    "1. **Пиковые часы**:\n",
    "\n",
    "   🚗 +15% водителей в понедельник (системное занижение на 14.7 заказа)\n",
    "\n",
    "   ⏳ +9% в четверг и +8% в пятницу\n",
    "   \n",
    "2. **Аномалии**:\n",
    "   - 🔔 Система оповещения при отклонениях >50 заказов\n",
    "\n",
    "#### Стратегические улучшения\n",
    "\n",
    "   - Добавить дополнительные признаки.   "
   ]
  },
  {
   "cell_type": "code",
   "execution_count": 30,
   "metadata": {},
   "outputs": [],
   "source": [
    "# Псевдокод для улучшений\n",
    "next_version_features = [\n",
    "    'weather_data',          # Влияние погодных условий\n",
    "    'airport_events',        # Информация о рейсах\n",
    "    'special_dates'          # Праздники и мероприятия\n",
    "]"
   ]
  },
  {
   "cell_type": "markdown",
   "metadata": {},
   "source": [
    "## Чек-лист проверки"
   ]
  },
  {
   "cell_type": "markdown",
   "metadata": {},
   "source": [
    "- [x]  Jupyter Notebook открыт\n",
    "- [x]  Весь код выполняется без ошибок\n",
    "- [x]  Ячейки с кодом расположены в порядке исполнения\n",
    "- [x]  Данные загружены и подготовлены\n",
    "- [x]  Данные проанализированы\n",
    "- [x]  Модель обучена, гиперпараметры подобраны\n",
    "- [x]  Качество моделей проверено, выводы сделаны\n",
    "- [x]  Значение *RMSE* на тестовой выборке не больше 48"
   ]
  },
  {
   "cell_type": "markdown",
   "metadata": {},
   "source": [
    "<img src=\"http://s3.amazonaws.com/pix.iemoji.com/images/emoji/apple/ios-12/256/waving-hand.png\" align=left width=44, heigth=44>\n",
    "<div class=\"alert alert-info\">\n",
    "<b> Заключительный комментарий v2</b>\n",
    "    \n",
    "Да, я вижу что ты провел очень большую работу и проект стал значительно более корректный и \"приземленный\" к теме специфике временных рядов.\n",
    "    \n",
    "Метрика конечно не такая красивая, как на первой итерации, зато честная )).\n",
    "\n",
    "Проект принят. Поздравляю и желаю дальнейших успехов!\n",
    "</div>"
   ]
  },
  {
   "cell_type": "markdown",
   "metadata": {},
   "source": [
    "<img src=\"http://s3.amazonaws.com/pix.iemoji.com/images/emoji/apple/ios-12/256/waving-hand.png\" align=left width=44, heigth=44>\n",
    "<div class=\"alert alert-info\">\n",
    "<b> Заключительный комментарий</b>\n",
    "\n",
    "В целом мне все понравилось: твоя работа выполнена на хорошем уровне, ты изучил данные, нашел сезоность и тренд,  корректно подготовил признаки и обучил модели. Также в проекте много графиков и пояснений.\n",
    "\n",
    "Очень интересное решение с циклическими фукнциями для календарных признаков.    \n",
    "    \n",
    " - нельзя удалять выбросы, тем более делать это из тестовых данных\n",
    " - нужно исправить ошибку в легенде к графику, визуализируещему ряд\n",
    " - пожалуйста построй читаемые графики демонстрирующие сезонность\n",
    " - нужно удалить календарный признак \"месяц\"\n",
    " - нужно устранить утечку при рассчете скользящего среднего и скользящего стандартного отклонения\n",
    " - При выполнении кросс-валидации для временых рядов нужно следить, чтобы фолды не перемешивались.\n",
    "    \n",
    "    \n",
    "Желтые комментарии на твое усмотрение. Но очень советую испльзовать отстающие значения за предыдущую неделю.\n",
    "    \n",
    "Жду твой проект на финальное ревью :)\n",
    "</div>"
   ]
  },
  {
   "cell_type": "markdown",
   "metadata": {},
   "source": [
    "<img src=\"http://s3.amazonaws.com/pix.iemoji.com/images/emoji/apple/ios-12/256/waving-hand.png\" align=left width=44, heigth=44>\n",
    "<div class=\"alert alert-info\">\n",
    "<b> Дополнительные материалы </b>\n",
    "\n",
    "Если решишь глубже погрузиться в тему временных рядов, думаю тебе стоит знать что подход, изученный в курсе далеко не единственный. Вот к чему возможно стоит обратиться:\n",
    " - Авторегрессионные модели семейства ARIMA. В качестве экскурса очень полезно следующее видео: https://www.youtube.com/watch?v=u433nrxdf5k&t=110s\n",
    " - Библиотека prophet от Facebook. По моим наблюдениям, качество решения этой моделью ниже, но она очень проста в применении. https://habr.com/ru/company/ods/blog/323730/\n",
    "    \n",
    " - Урок по временным рядам из курса ML от ODS (https://habr.com/ru/company/ods/blog/327242/)\n",
    " - Лекция по прогнозированию временных рядов из курса Computer Science Center (https://www.youtube.com/watch?v=COBcXzKmOyk)   \n",
    "\n",
    "\n",
    "</div>"
   ]
  }
 ],
 "metadata": {
  "ExecuteTimeLog": [
   {
    "duration": 3443,
    "start_time": "2025-03-25T12:11:35.688Z"
   },
   {
    "duration": 52,
    "start_time": "2025-03-25T12:11:49.259Z"
   },
   {
    "duration": 1812,
    "start_time": "2025-03-25T12:12:00.065Z"
   },
   {
    "duration": 49,
    "start_time": "2025-03-25T12:14:03.936Z"
   },
   {
    "duration": 84,
    "start_time": "2025-03-25T12:20:37.237Z"
   },
   {
    "duration": 34,
    "start_time": "2025-03-25T12:20:51.166Z"
   },
   {
    "duration": 11,
    "start_time": "2025-03-25T12:20:53.725Z"
   },
   {
    "duration": 7,
    "start_time": "2025-03-25T12:21:30.821Z"
   },
   {
    "duration": 12,
    "start_time": "2025-03-25T12:22:28.034Z"
   },
   {
    "duration": 18,
    "start_time": "2025-03-25T12:23:08.808Z"
   },
   {
    "duration": 16,
    "start_time": "2025-03-25T12:23:21.596Z"
   },
   {
    "duration": 13,
    "start_time": "2025-03-25T12:23:25.834Z"
   },
   {
    "duration": 16,
    "start_time": "2025-03-25T12:23:28.137Z"
   },
   {
    "duration": 11,
    "start_time": "2025-03-25T12:28:04.352Z"
   },
   {
    "duration": 153,
    "start_time": "2025-03-25T12:28:51.099Z"
   },
   {
    "duration": 18,
    "start_time": "2025-03-25T12:29:05.464Z"
   },
   {
    "duration": 10,
    "start_time": "2025-03-25T12:38:18.384Z"
   },
   {
    "duration": 1509,
    "start_time": "2025-03-25T12:38:28.862Z"
   },
   {
    "duration": 2372,
    "start_time": "2025-03-25T12:39:06.012Z"
   },
   {
    "duration": 1575,
    "start_time": "2025-03-25T12:39:08.386Z"
   },
   {
    "duration": 36,
    "start_time": "2025-03-25T12:39:09.963Z"
   },
   {
    "duration": 10,
    "start_time": "2025-03-25T12:39:10.001Z"
   },
   {
    "duration": 85,
    "start_time": "2025-03-25T12:39:10.013Z"
   },
   {
    "duration": 32,
    "start_time": "2025-03-25T12:39:10.100Z"
   },
   {
    "duration": 11,
    "start_time": "2025-03-25T12:39:10.134Z"
   },
   {
    "duration": 14,
    "start_time": "2025-03-25T12:39:10.147Z"
   },
   {
    "duration": 9,
    "start_time": "2025-03-25T13:07:32.822Z"
   },
   {
    "duration": 12,
    "start_time": "2025-03-25T13:07:42.307Z"
   },
   {
    "duration": 2336,
    "start_time": "2025-03-25T13:10:11.005Z"
   },
   {
    "duration": 1621,
    "start_time": "2025-03-25T13:10:13.344Z"
   },
   {
    "duration": 49,
    "start_time": "2025-03-25T13:10:14.967Z"
   },
   {
    "duration": 11,
    "start_time": "2025-03-25T13:10:15.018Z"
   },
   {
    "duration": 45,
    "start_time": "2025-03-25T13:10:15.030Z"
   },
   {
    "duration": 39,
    "start_time": "2025-03-25T13:10:15.077Z"
   },
   {
    "duration": 33,
    "start_time": "2025-03-25T13:10:15.117Z"
   },
   {
    "duration": 44,
    "start_time": "2025-03-25T13:10:15.152Z"
   },
   {
    "duration": 51,
    "start_time": "2025-03-25T13:10:15.198Z"
   },
   {
    "duration": 974,
    "start_time": "2025-03-25T13:17:43.343Z"
   },
   {
    "duration": 132,
    "start_time": "2025-03-25T13:21:03.655Z"
   },
   {
    "duration": 15,
    "start_time": "2025-03-25T13:21:21.192Z"
   },
   {
    "duration": 2350,
    "start_time": "2025-03-25T13:21:33.069Z"
   },
   {
    "duration": 1617,
    "start_time": "2025-03-25T13:21:35.422Z"
   },
   {
    "duration": 36,
    "start_time": "2025-03-25T13:21:37.041Z"
   },
   {
    "duration": 10,
    "start_time": "2025-03-25T13:21:37.079Z"
   },
   {
    "duration": 28,
    "start_time": "2025-03-25T13:21:37.090Z"
   },
   {
    "duration": 20,
    "start_time": "2025-03-25T13:21:37.120Z"
   },
   {
    "duration": 15,
    "start_time": "2025-03-25T13:21:37.142Z"
   },
   {
    "duration": 13,
    "start_time": "2025-03-25T13:21:37.159Z"
   },
   {
    "duration": 49,
    "start_time": "2025-03-25T13:21:37.174Z"
   },
   {
    "duration": 12,
    "start_time": "2025-03-25T13:21:37.225Z"
   },
   {
    "duration": 949,
    "start_time": "2025-03-25T13:25:13.966Z"
   },
   {
    "duration": 750,
    "start_time": "2025-03-25T13:26:06.297Z"
   },
   {
    "duration": 2323,
    "start_time": "2025-03-25T13:29:31.431Z"
   },
   {
    "duration": 1623,
    "start_time": "2025-03-25T13:29:33.757Z"
   },
   {
    "duration": 40,
    "start_time": "2025-03-25T13:29:35.381Z"
   },
   {
    "duration": 12,
    "start_time": "2025-03-25T13:29:35.423Z"
   },
   {
    "duration": 43,
    "start_time": "2025-03-25T13:29:35.437Z"
   },
   {
    "duration": 52,
    "start_time": "2025-03-25T13:29:35.482Z"
   },
   {
    "duration": 23,
    "start_time": "2025-03-25T13:29:35.536Z"
   },
   {
    "duration": 40,
    "start_time": "2025-03-25T13:29:35.561Z"
   },
   {
    "duration": 31,
    "start_time": "2025-03-25T13:29:35.603Z"
   },
   {
    "duration": 11,
    "start_time": "2025-03-25T13:29:35.636Z"
   },
   {
    "duration": 2015,
    "start_time": "2025-03-25T13:29:35.649Z"
   },
   {
    "duration": 643,
    "start_time": "2025-03-25T13:29:37.668Z"
   },
   {
    "duration": 10,
    "start_time": "2025-03-25T13:31:37.567Z"
   },
   {
    "duration": 1765,
    "start_time": "2025-03-25T13:31:57.792Z"
   },
   {
    "duration": 1106,
    "start_time": "2025-03-25T13:33:43.423Z"
   },
   {
    "duration": 9,
    "start_time": "2025-03-25T13:34:06.765Z"
   },
   {
    "duration": 270,
    "start_time": "2025-03-25T13:35:05.992Z"
   },
   {
    "duration": 7,
    "start_time": "2025-03-25T13:41:50.958Z"
   },
   {
    "duration": 10,
    "start_time": "2025-03-25T13:46:44.971Z"
   },
   {
    "duration": 11,
    "start_time": "2025-03-25T13:49:25.966Z"
   },
   {
    "duration": 309,
    "start_time": "2025-03-25T13:50:13.146Z"
   },
   {
    "duration": 2296,
    "start_time": "2025-03-25T13:50:40.666Z"
   },
   {
    "duration": 1632,
    "start_time": "2025-03-25T13:50:42.965Z"
   },
   {
    "duration": 34,
    "start_time": "2025-03-25T13:50:44.599Z"
   },
   {
    "duration": 11,
    "start_time": "2025-03-25T13:50:44.635Z"
   },
   {
    "duration": 33,
    "start_time": "2025-03-25T13:50:44.648Z"
   },
   {
    "duration": 20,
    "start_time": "2025-03-25T13:50:44.682Z"
   },
   {
    "duration": 10,
    "start_time": "2025-03-25T13:50:44.704Z"
   },
   {
    "duration": 14,
    "start_time": "2025-03-25T13:50:44.715Z"
   },
   {
    "duration": 18,
    "start_time": "2025-03-25T13:50:44.731Z"
   },
   {
    "duration": 16,
    "start_time": "2025-03-25T13:50:44.751Z"
   },
   {
    "duration": 1897,
    "start_time": "2025-03-25T13:50:44.768Z"
   },
   {
    "duration": 192,
    "start_time": "2025-03-25T13:50:46.666Z"
   },
   {
    "duration": 365,
    "start_time": "2025-03-25T13:50:46.859Z"
   },
   {
    "duration": 6,
    "start_time": "2025-03-25T13:50:47.226Z"
   },
   {
    "duration": 24,
    "start_time": "2025-03-25T13:50:47.233Z"
   },
   {
    "duration": 782,
    "start_time": "2025-03-25T13:50:47.258Z"
   },
   {
    "duration": 757,
    "start_time": "2025-03-25T14:00:36.018Z"
   },
   {
    "duration": 810,
    "start_time": "2025-03-25T14:00:40.922Z"
   },
   {
    "duration": 301,
    "start_time": "2025-03-25T14:04:17.144Z"
   },
   {
    "duration": 215,
    "start_time": "2025-03-25T14:04:28.015Z"
   },
   {
    "duration": 198,
    "start_time": "2025-03-25T14:04:32.139Z"
   },
   {
    "duration": 2339,
    "start_time": "2025-03-25T14:04:41.897Z"
   },
   {
    "duration": 1635,
    "start_time": "2025-03-25T14:04:44.238Z"
   },
   {
    "duration": 35,
    "start_time": "2025-03-25T14:04:45.875Z"
   },
   {
    "duration": 10,
    "start_time": "2025-03-25T14:04:45.912Z"
   },
   {
    "duration": 12,
    "start_time": "2025-03-25T14:04:45.924Z"
   },
   {
    "duration": 67,
    "start_time": "2025-03-25T14:04:45.938Z"
   },
   {
    "duration": 27,
    "start_time": "2025-03-25T14:04:46.006Z"
   },
   {
    "duration": 14,
    "start_time": "2025-03-25T14:04:46.034Z"
   },
   {
    "duration": 18,
    "start_time": "2025-03-25T14:04:46.049Z"
   },
   {
    "duration": 12,
    "start_time": "2025-03-25T14:04:46.068Z"
   },
   {
    "duration": 1977,
    "start_time": "2025-03-25T14:04:46.081Z"
   },
   {
    "duration": 98,
    "start_time": "2025-03-25T14:04:48.060Z"
   },
   {
    "duration": 378,
    "start_time": "2025-03-25T14:04:48.160Z"
   },
   {
    "duration": 6,
    "start_time": "2025-03-25T14:04:48.540Z"
   },
   {
    "duration": 18,
    "start_time": "2025-03-25T14:04:48.556Z"
   },
   {
    "duration": 847,
    "start_time": "2025-03-25T14:04:48.575Z"
   },
   {
    "duration": 14,
    "start_time": "2025-03-25T14:19:14.961Z"
   },
   {
    "duration": 6,
    "start_time": "2025-03-25T14:28:07.201Z"
   },
   {
    "duration": 8,
    "start_time": "2025-03-25T14:35:38.896Z"
   },
   {
    "duration": 136,
    "start_time": "2025-03-25T14:36:02.554Z"
   },
   {
    "duration": 7,
    "start_time": "2025-03-25T14:36:05.485Z"
   },
   {
    "duration": 7,
    "start_time": "2025-03-25T14:36:15.251Z"
   },
   {
    "duration": 85,
    "start_time": "2025-03-25T14:37:25.121Z"
   },
   {
    "duration": 6,
    "start_time": "2025-03-25T14:37:28.340Z"
   },
   {
    "duration": 8,
    "start_time": "2025-03-25T14:37:52.899Z"
   },
   {
    "duration": 7,
    "start_time": "2025-03-25T14:42:00.469Z"
   },
   {
    "duration": 245,
    "start_time": "2025-03-25T14:42:16.196Z"
   },
   {
    "duration": 10,
    "start_time": "2025-03-25T14:44:19.747Z"
   },
   {
    "duration": 16,
    "start_time": "2025-03-25T14:44:25.166Z"
   },
   {
    "duration": 12,
    "start_time": "2025-03-25T14:44:36.528Z"
   },
   {
    "duration": 15,
    "start_time": "2025-03-25T14:50:06.796Z"
   },
   {
    "duration": 265,
    "start_time": "2025-03-25T14:50:24.271Z"
   },
   {
    "duration": 11,
    "start_time": "2025-03-25T14:56:36.632Z"
   },
   {
    "duration": 2441,
    "start_time": "2025-03-25T14:57:05.918Z"
   },
   {
    "duration": 1746,
    "start_time": "2025-03-25T14:57:08.362Z"
   },
   {
    "duration": 0,
    "start_time": "2025-03-25T14:57:10.112Z"
   },
   {
    "duration": 0,
    "start_time": "2025-03-25T14:57:10.114Z"
   },
   {
    "duration": 0,
    "start_time": "2025-03-25T14:57:10.115Z"
   },
   {
    "duration": 0,
    "start_time": "2025-03-25T14:57:10.116Z"
   },
   {
    "duration": 0,
    "start_time": "2025-03-25T14:57:10.118Z"
   },
   {
    "duration": 0,
    "start_time": "2025-03-25T14:57:10.119Z"
   },
   {
    "duration": 0,
    "start_time": "2025-03-25T14:57:10.121Z"
   },
   {
    "duration": 0,
    "start_time": "2025-03-25T14:57:10.122Z"
   },
   {
    "duration": 0,
    "start_time": "2025-03-25T14:57:10.123Z"
   },
   {
    "duration": 0,
    "start_time": "2025-03-25T14:57:10.124Z"
   },
   {
    "duration": 0,
    "start_time": "2025-03-25T14:57:10.125Z"
   },
   {
    "duration": 0,
    "start_time": "2025-03-25T14:57:10.126Z"
   },
   {
    "duration": 0,
    "start_time": "2025-03-25T14:57:10.126Z"
   },
   {
    "duration": 0,
    "start_time": "2025-03-25T14:57:10.157Z"
   },
   {
    "duration": 0,
    "start_time": "2025-03-25T14:57:10.159Z"
   },
   {
    "duration": 0,
    "start_time": "2025-03-25T14:57:10.159Z"
   },
   {
    "duration": 0,
    "start_time": "2025-03-25T14:57:10.160Z"
   },
   {
    "duration": 0,
    "start_time": "2025-03-25T14:57:10.161Z"
   },
   {
    "duration": 0,
    "start_time": "2025-03-25T14:57:10.162Z"
   },
   {
    "duration": 8401,
    "start_time": "2025-03-25T14:58:53.989Z"
   },
   {
    "duration": 1805,
    "start_time": "2025-03-25T14:59:02.392Z"
   },
   {
    "duration": 38,
    "start_time": "2025-03-25T14:59:04.199Z"
   },
   {
    "duration": 11,
    "start_time": "2025-03-25T14:59:04.238Z"
   },
   {
    "duration": 14,
    "start_time": "2025-03-25T14:59:04.256Z"
   },
   {
    "duration": 16,
    "start_time": "2025-03-25T14:59:04.271Z"
   },
   {
    "duration": 53,
    "start_time": "2025-03-25T14:59:04.288Z"
   },
   {
    "duration": 12,
    "start_time": "2025-03-25T14:59:04.343Z"
   },
   {
    "duration": 15,
    "start_time": "2025-03-25T14:59:04.357Z"
   },
   {
    "duration": 11,
    "start_time": "2025-03-25T14:59:04.374Z"
   },
   {
    "duration": 1870,
    "start_time": "2025-03-25T14:59:04.387Z"
   },
   {
    "duration": 100,
    "start_time": "2025-03-25T14:59:06.260Z"
   },
   {
    "duration": 335,
    "start_time": "2025-03-25T14:59:06.361Z"
   },
   {
    "duration": 7,
    "start_time": "2025-03-25T14:59:06.698Z"
   },
   {
    "duration": 29,
    "start_time": "2025-03-25T14:59:06.706Z"
   },
   {
    "duration": 787,
    "start_time": "2025-03-25T14:59:06.737Z"
   },
   {
    "duration": 14,
    "start_time": "2025-03-25T14:59:07.525Z"
   },
   {
    "duration": 267,
    "start_time": "2025-03-25T14:59:07.540Z"
   },
   {
    "duration": 15,
    "start_time": "2025-03-25T14:59:07.809Z"
   },
   {
    "duration": 292,
    "start_time": "2025-03-25T14:59:07.825Z"
   },
   {
    "duration": 4,
    "start_time": "2025-03-25T14:59:08.119Z"
   },
   {
    "duration": 1605,
    "start_time": "2025-03-25T15:00:45.296Z"
   },
   {
    "duration": 3,
    "start_time": "2025-03-25T15:02:39.542Z"
   },
   {
    "duration": 1511,
    "start_time": "2025-03-25T15:04:21.524Z"
   },
   {
    "duration": 5073,
    "start_time": "2025-03-25T15:04:39.950Z"
   },
   {
    "duration": 1859,
    "start_time": "2025-03-25T15:04:45.025Z"
   },
   {
    "duration": 48,
    "start_time": "2025-03-25T15:04:46.885Z"
   },
   {
    "duration": 2746,
    "start_time": "2025-03-25T15:04:46.935Z"
   },
   {
    "duration": 15,
    "start_time": "2025-03-25T15:04:49.682Z"
   },
   {
    "duration": 17,
    "start_time": "2025-03-25T15:04:49.699Z"
   },
   {
    "duration": 12,
    "start_time": "2025-03-25T15:04:49.717Z"
   },
   {
    "duration": 26,
    "start_time": "2025-03-25T15:04:49.731Z"
   },
   {
    "duration": 15,
    "start_time": "2025-03-25T15:04:49.758Z"
   },
   {
    "duration": 15,
    "start_time": "2025-03-25T15:04:49.776Z"
   },
   {
    "duration": 1669,
    "start_time": "2025-03-25T15:04:49.793Z"
   },
   {
    "duration": 101,
    "start_time": "2025-03-25T15:04:51.465Z"
   },
   {
    "duration": 399,
    "start_time": "2025-03-25T15:04:51.568Z"
   },
   {
    "duration": 7,
    "start_time": "2025-03-25T15:04:51.969Z"
   },
   {
    "duration": 32,
    "start_time": "2025-03-25T15:04:51.978Z"
   },
   {
    "duration": 885,
    "start_time": "2025-03-25T15:04:52.012Z"
   },
   {
    "duration": 12,
    "start_time": "2025-03-25T15:04:52.899Z"
   },
   {
    "duration": 257,
    "start_time": "2025-03-25T15:04:52.913Z"
   },
   {
    "duration": 18,
    "start_time": "2025-03-25T15:04:53.171Z"
   },
   {
    "duration": 354,
    "start_time": "2025-03-25T15:04:53.191Z"
   },
   {
    "duration": 4,
    "start_time": "2025-03-25T15:04:53.547Z"
   },
   {
    "duration": 13,
    "start_time": "2025-03-25T15:04:53.557Z"
   },
   {
    "duration": 1586,
    "start_time": "2025-03-25T15:04:53.571Z"
   },
   {
    "duration": 17,
    "start_time": "2025-03-25T15:13:40.698Z"
   },
   {
    "duration": 18,
    "start_time": "2025-03-25T15:13:47.720Z"
   },
   {
    "duration": 243,
    "start_time": "2025-03-25T15:13:50.667Z"
   },
   {
    "duration": 5,
    "start_time": "2025-03-25T15:17:13.201Z"
   },
   {
    "duration": 344,
    "start_time": "2025-03-25T15:17:15.710Z"
   },
   {
    "duration": 3,
    "start_time": "2025-03-25T15:17:19.018Z"
   },
   {
    "duration": 4,
    "start_time": "2025-03-25T15:17:21.043Z"
   },
   {
    "duration": 94,
    "start_time": "2025-03-25T15:17:23.965Z"
   },
   {
    "duration": 4831,
    "start_time": "2025-03-25T15:17:58.095Z"
   },
   {
    "duration": 1882,
    "start_time": "2025-03-25T15:18:02.928Z"
   },
   {
    "duration": 34,
    "start_time": "2025-03-25T15:18:04.812Z"
   },
   {
    "duration": 10,
    "start_time": "2025-03-25T15:18:04.847Z"
   },
   {
    "duration": 32,
    "start_time": "2025-03-25T15:18:04.859Z"
   },
   {
    "duration": 24,
    "start_time": "2025-03-25T15:18:04.893Z"
   },
   {
    "duration": 18,
    "start_time": "2025-03-25T15:18:04.918Z"
   },
   {
    "duration": 13,
    "start_time": "2025-03-25T15:18:04.937Z"
   },
   {
    "duration": 15,
    "start_time": "2025-03-25T15:18:04.952Z"
   },
   {
    "duration": 12,
    "start_time": "2025-03-25T15:18:04.968Z"
   },
   {
    "duration": 1876,
    "start_time": "2025-03-25T15:18:04.982Z"
   },
   {
    "duration": 98,
    "start_time": "2025-03-25T15:18:06.861Z"
   },
   {
    "duration": 299,
    "start_time": "2025-03-25T15:18:06.961Z"
   },
   {
    "duration": 6,
    "start_time": "2025-03-25T15:18:07.262Z"
   },
   {
    "duration": 54,
    "start_time": "2025-03-25T15:18:07.269Z"
   },
   {
    "duration": 789,
    "start_time": "2025-03-25T15:18:07.325Z"
   },
   {
    "duration": 19,
    "start_time": "2025-03-25T15:18:08.115Z"
   },
   {
    "duration": 257,
    "start_time": "2025-03-25T15:18:08.135Z"
   },
   {
    "duration": 4,
    "start_time": "2025-03-25T15:18:08.393Z"
   },
   {
    "duration": 277,
    "start_time": "2025-03-25T15:18:08.398Z"
   },
   {
    "duration": 4,
    "start_time": "2025-03-25T15:18:08.676Z"
   },
   {
    "duration": 9,
    "start_time": "2025-03-25T15:18:08.681Z"
   },
   {
    "duration": 1651,
    "start_time": "2025-03-25T15:18:08.692Z"
   },
   {
    "duration": 21,
    "start_time": "2025-03-25T15:21:02.221Z"
   },
   {
    "duration": 250,
    "start_time": "2025-03-25T15:21:17.799Z"
   },
   {
    "duration": 4,
    "start_time": "2025-03-25T15:21:25.786Z"
   },
   {
    "duration": 4,
    "start_time": "2025-03-25T15:21:51.218Z"
   },
   {
    "duration": 358,
    "start_time": "2025-03-25T15:21:53.715Z"
   },
   {
    "duration": 3,
    "start_time": "2025-03-25T15:22:04.220Z"
   },
   {
    "duration": 3,
    "start_time": "2025-03-25T15:22:05.986Z"
   },
   {
    "duration": 115,
    "start_time": "2025-03-25T15:22:12.350Z"
   },
   {
    "duration": 4963,
    "start_time": "2025-03-25T15:22:32.581Z"
   },
   {
    "duration": 1887,
    "start_time": "2025-03-25T15:22:37.546Z"
   },
   {
    "duration": 46,
    "start_time": "2025-03-25T15:22:39.434Z"
   },
   {
    "duration": 12,
    "start_time": "2025-03-25T15:22:39.482Z"
   },
   {
    "duration": 13,
    "start_time": "2025-03-25T15:22:39.495Z"
   },
   {
    "duration": 25,
    "start_time": "2025-03-25T15:22:39.510Z"
   },
   {
    "duration": 31,
    "start_time": "2025-03-25T15:22:39.537Z"
   },
   {
    "duration": 20,
    "start_time": "2025-03-25T15:22:39.570Z"
   },
   {
    "duration": 18,
    "start_time": "2025-03-25T15:22:39.591Z"
   },
   {
    "duration": 13,
    "start_time": "2025-03-25T15:22:39.611Z"
   },
   {
    "duration": 1735,
    "start_time": "2025-03-25T15:22:39.625Z"
   },
   {
    "duration": 99,
    "start_time": "2025-03-25T15:22:41.362Z"
   },
   {
    "duration": 314,
    "start_time": "2025-03-25T15:22:41.463Z"
   },
   {
    "duration": 7,
    "start_time": "2025-03-25T15:22:41.779Z"
   },
   {
    "duration": 14,
    "start_time": "2025-03-25T15:22:41.787Z"
   },
   {
    "duration": 846,
    "start_time": "2025-03-25T15:22:41.803Z"
   },
   {
    "duration": 27,
    "start_time": "2025-03-25T15:22:42.650Z"
   },
   {
    "duration": 271,
    "start_time": "2025-03-25T15:22:42.679Z"
   },
   {
    "duration": 4,
    "start_time": "2025-03-25T15:22:42.957Z"
   },
   {
    "duration": 335,
    "start_time": "2025-03-25T15:22:42.963Z"
   },
   {
    "duration": 4,
    "start_time": "2025-03-25T15:22:43.299Z"
   },
   {
    "duration": 81101,
    "start_time": "2025-03-25T15:22:43.304Z"
   },
   {
    "duration": 6,
    "start_time": "2025-03-25T15:26:34.491Z"
   },
   {
    "duration": 6,
    "start_time": "2025-03-25T15:27:42.594Z"
   },
   {
    "duration": 90,
    "start_time": "2025-03-25T15:27:51.842Z"
   },
   {
    "duration": 5,
    "start_time": "2025-03-25T15:27:54.650Z"
   },
   {
    "duration": 1939,
    "start_time": "2025-03-25T15:28:02.648Z"
   },
   {
    "duration": 383,
    "start_time": "2025-03-25T15:29:15.027Z"
   },
   {
    "duration": 153,
    "start_time": "2025-03-25T15:29:50.640Z"
   },
   {
    "duration": 1695,
    "start_time": "2025-03-25T15:35:28.587Z"
   },
   {
    "duration": 43,
    "start_time": "2025-03-25T15:35:30.284Z"
   },
   {
    "duration": 21,
    "start_time": "2025-03-25T15:35:30.329Z"
   },
   {
    "duration": 11,
    "start_time": "2025-03-25T15:35:30.352Z"
   },
   {
    "duration": 18,
    "start_time": "2025-03-25T15:35:30.365Z"
   },
   {
    "duration": 21,
    "start_time": "2025-03-25T15:35:30.385Z"
   },
   {
    "duration": 14,
    "start_time": "2025-03-25T15:35:30.408Z"
   },
   {
    "duration": 21,
    "start_time": "2025-03-25T15:35:30.424Z"
   },
   {
    "duration": 10,
    "start_time": "2025-03-25T15:35:30.456Z"
   },
   {
    "duration": 1993,
    "start_time": "2025-03-25T15:35:30.468Z"
   },
   {
    "duration": 195,
    "start_time": "2025-03-25T15:35:32.466Z"
   },
   {
    "duration": 382,
    "start_time": "2025-03-25T15:35:32.662Z"
   },
   {
    "duration": 13,
    "start_time": "2025-03-25T15:35:33.045Z"
   },
   {
    "duration": 16,
    "start_time": "2025-03-25T15:35:33.060Z"
   },
   {
    "duration": 843,
    "start_time": "2025-03-25T15:35:33.078Z"
   },
   {
    "duration": 22,
    "start_time": "2025-03-25T15:35:33.922Z"
   },
   {
    "duration": 261,
    "start_time": "2025-03-25T15:35:33.946Z"
   },
   {
    "duration": 4,
    "start_time": "2025-03-25T15:35:34.209Z"
   },
   {
    "duration": 275,
    "start_time": "2025-03-25T15:35:34.214Z"
   },
   {
    "duration": 4,
    "start_time": "2025-03-25T15:35:34.490Z"
   },
   {
    "duration": 25901,
    "start_time": "2025-03-25T15:35:34.495Z"
   },
   {
    "duration": 191,
    "start_time": "2025-03-25T15:36:00.398Z"
   },
   {
    "duration": 0,
    "start_time": "2025-03-25T15:36:00.591Z"
   },
   {
    "duration": 4,
    "start_time": "2025-03-25T15:37:07.532Z"
   },
   {
    "duration": 67812,
    "start_time": "2025-03-25T15:39:43.892Z"
   },
   {
    "duration": 31,
    "start_time": "2025-03-25T15:41:52.861Z"
   },
   {
    "duration": 30,
    "start_time": "2025-03-25T15:44:46.453Z"
   },
   {
    "duration": 1685,
    "start_time": "2025-03-25T15:53:34.034Z"
   },
   {
    "duration": 38,
    "start_time": "2025-03-25T15:53:35.721Z"
   },
   {
    "duration": 12,
    "start_time": "2025-03-25T15:53:35.761Z"
   },
   {
    "duration": 71,
    "start_time": "2025-03-25T15:53:35.775Z"
   },
   {
    "duration": 65,
    "start_time": "2025-03-25T15:53:35.848Z"
   },
   {
    "duration": 41,
    "start_time": "2025-03-25T15:53:35.915Z"
   },
   {
    "duration": 28,
    "start_time": "2025-03-25T15:53:35.958Z"
   },
   {
    "duration": 28,
    "start_time": "2025-03-25T15:53:35.987Z"
   },
   {
    "duration": 21,
    "start_time": "2025-03-25T15:53:36.017Z"
   },
   {
    "duration": 4318,
    "start_time": "2025-03-25T15:53:36.041Z"
   },
   {
    "duration": 97,
    "start_time": "2025-03-25T15:53:40.369Z"
   },
   {
    "duration": 319,
    "start_time": "2025-03-25T15:53:40.469Z"
   },
   {
    "duration": 7,
    "start_time": "2025-03-25T15:53:40.789Z"
   },
   {
    "duration": 15,
    "start_time": "2025-03-25T15:53:40.797Z"
   },
   {
    "duration": 998,
    "start_time": "2025-03-25T15:53:40.815Z"
   },
   {
    "duration": 21,
    "start_time": "2025-03-25T15:53:41.814Z"
   },
   {
    "duration": 270,
    "start_time": "2025-03-25T15:53:41.836Z"
   },
   {
    "duration": 3,
    "start_time": "2025-03-25T15:53:42.108Z"
   },
   {
    "duration": 279,
    "start_time": "2025-03-25T15:53:42.113Z"
   },
   {
    "duration": 3,
    "start_time": "2025-03-25T15:53:42.394Z"
   },
   {
    "duration": 410165,
    "start_time": "2025-03-25T15:53:42.398Z"
   },
   {
    "duration": 147,
    "start_time": "2025-03-25T16:00:32.566Z"
   },
   {
    "duration": 0,
    "start_time": "2025-03-25T16:00:32.714Z"
   },
   {
    "duration": 0,
    "start_time": "2025-03-25T16:00:32.716Z"
   },
   {
    "duration": 3,
    "start_time": "2025-03-25T16:12:08.129Z"
   },
   {
    "duration": 1545,
    "start_time": "2025-03-25T16:12:30.973Z"
   },
   {
    "duration": 47,
    "start_time": "2025-03-25T16:12:32.520Z"
   },
   {
    "duration": 10,
    "start_time": "2025-03-25T16:12:32.571Z"
   },
   {
    "duration": 35,
    "start_time": "2025-03-25T16:12:32.584Z"
   },
   {
    "duration": 17,
    "start_time": "2025-03-25T16:12:32.621Z"
   },
   {
    "duration": 19,
    "start_time": "2025-03-25T16:12:32.639Z"
   },
   {
    "duration": 12,
    "start_time": "2025-03-25T16:12:32.660Z"
   },
   {
    "duration": 16,
    "start_time": "2025-03-25T16:12:32.674Z"
   },
   {
    "duration": 12,
    "start_time": "2025-03-25T16:12:32.692Z"
   },
   {
    "duration": 1960,
    "start_time": "2025-03-25T16:12:32.706Z"
   },
   {
    "duration": 104,
    "start_time": "2025-03-25T16:12:34.758Z"
   },
   {
    "duration": 301,
    "start_time": "2025-03-25T16:12:34.864Z"
   },
   {
    "duration": 6,
    "start_time": "2025-03-25T16:12:35.168Z"
   },
   {
    "duration": 20,
    "start_time": "2025-03-25T16:12:35.176Z"
   },
   {
    "duration": 925,
    "start_time": "2025-03-25T16:12:35.198Z"
   },
   {
    "duration": 32,
    "start_time": "2025-03-25T16:12:36.125Z"
   },
   {
    "duration": 251,
    "start_time": "2025-03-25T16:12:36.159Z"
   },
   {
    "duration": 4,
    "start_time": "2025-03-25T16:12:36.411Z"
   },
   {
    "duration": 296,
    "start_time": "2025-03-25T16:12:36.417Z"
   },
   {
    "duration": 3,
    "start_time": "2025-03-25T16:12:36.715Z"
   },
   {
    "duration": 6992,
    "start_time": "2025-03-25T16:12:36.719Z"
   },
   {
    "duration": 94,
    "start_time": "2025-03-25T16:12:43.713Z"
   },
   {
    "duration": 0,
    "start_time": "2025-03-25T16:12:43.809Z"
   },
   {
    "duration": 0,
    "start_time": "2025-03-25T16:12:43.810Z"
   },
   {
    "duration": 98,
    "start_time": "2025-03-25T16:12:53.158Z"
   },
   {
    "duration": 3,
    "start_time": "2025-03-25T16:13:58.120Z"
   },
   {
    "duration": 682,
    "start_time": "2025-03-25T16:14:06.608Z"
   },
   {
    "duration": 11,
    "start_time": "2025-03-25T16:14:10.034Z"
   },
   {
    "duration": 1532,
    "start_time": "2025-03-25T16:19:15.457Z"
   },
   {
    "duration": 45,
    "start_time": "2025-03-25T16:19:16.991Z"
   },
   {
    "duration": 10,
    "start_time": "2025-03-25T16:19:17.037Z"
   },
   {
    "duration": 20,
    "start_time": "2025-03-25T16:19:17.049Z"
   },
   {
    "duration": 39,
    "start_time": "2025-03-25T16:19:17.070Z"
   },
   {
    "duration": 10,
    "start_time": "2025-03-25T16:19:17.110Z"
   },
   {
    "duration": 31,
    "start_time": "2025-03-25T16:19:17.121Z"
   },
   {
    "duration": 19,
    "start_time": "2025-03-25T16:19:17.153Z"
   },
   {
    "duration": 11,
    "start_time": "2025-03-25T16:19:17.173Z"
   },
   {
    "duration": 2280,
    "start_time": "2025-03-25T16:19:17.185Z"
   },
   {
    "duration": 191,
    "start_time": "2025-03-25T16:19:19.467Z"
   },
   {
    "duration": 309,
    "start_time": "2025-03-25T16:19:19.659Z"
   },
   {
    "duration": 6,
    "start_time": "2025-03-25T16:19:19.969Z"
   },
   {
    "duration": 33,
    "start_time": "2025-03-25T16:19:19.977Z"
   },
   {
    "duration": 913,
    "start_time": "2025-03-25T16:19:20.012Z"
   },
   {
    "duration": 31,
    "start_time": "2025-03-25T16:19:20.926Z"
   },
   {
    "duration": 252,
    "start_time": "2025-03-25T16:19:20.958Z"
   },
   {
    "duration": 4,
    "start_time": "2025-03-25T16:19:21.212Z"
   },
   {
    "duration": 280,
    "start_time": "2025-03-25T16:19:21.217Z"
   },
   {
    "duration": 11,
    "start_time": "2025-03-25T16:19:21.498Z"
   },
   {
    "duration": 151661,
    "start_time": "2025-03-25T16:19:21.510Z"
   },
   {
    "duration": 3,
    "start_time": "2025-03-25T16:21:53.173Z"
   },
   {
    "duration": 151,
    "start_time": "2025-03-25T16:21:53.177Z"
   },
   {
    "duration": 0,
    "start_time": "2025-03-25T16:21:53.330Z"
   },
   {
    "duration": 4,
    "start_time": "2025-03-25T16:22:21.115Z"
   },
   {
    "duration": 12,
    "start_time": "2025-03-25T16:23:07.789Z"
   },
   {
    "duration": 11,
    "start_time": "2025-03-25T16:23:20.087Z"
   },
   {
    "duration": 854,
    "start_time": "2025-03-25T16:24:24.360Z"
   },
   {
    "duration": 11,
    "start_time": "2025-03-25T16:24:42.253Z"
   },
   {
    "duration": 876,
    "start_time": "2025-03-25T16:26:52.323Z"
   },
   {
    "duration": 884,
    "start_time": "2025-03-25T16:27:01.947Z"
   },
   {
    "duration": 11,
    "start_time": "2025-03-25T16:27:06.240Z"
   },
   {
    "duration": 1611,
    "start_time": "2025-03-25T16:28:05.613Z"
   },
   {
    "duration": 46,
    "start_time": "2025-03-25T16:28:07.227Z"
   },
   {
    "duration": 11,
    "start_time": "2025-03-25T16:28:07.275Z"
   },
   {
    "duration": 30,
    "start_time": "2025-03-25T16:28:07.288Z"
   },
   {
    "duration": 17,
    "start_time": "2025-03-25T16:28:07.320Z"
   },
   {
    "duration": 29,
    "start_time": "2025-03-25T16:28:07.338Z"
   },
   {
    "duration": 18,
    "start_time": "2025-03-25T16:28:07.368Z"
   },
   {
    "duration": 23,
    "start_time": "2025-03-25T16:28:07.387Z"
   },
   {
    "duration": 12,
    "start_time": "2025-03-25T16:28:07.412Z"
   },
   {
    "duration": 1836,
    "start_time": "2025-03-25T16:28:07.427Z"
   },
   {
    "duration": 104,
    "start_time": "2025-03-25T16:28:09.265Z"
   },
   {
    "duration": 305,
    "start_time": "2025-03-25T16:28:09.458Z"
   },
   {
    "duration": 6,
    "start_time": "2025-03-25T16:28:09.765Z"
   },
   {
    "duration": 42,
    "start_time": "2025-03-25T16:28:09.773Z"
   },
   {
    "duration": 925,
    "start_time": "2025-03-25T16:28:09.816Z"
   },
   {
    "duration": 29,
    "start_time": "2025-03-25T16:28:10.743Z"
   },
   {
    "duration": 257,
    "start_time": "2025-03-25T16:28:10.773Z"
   },
   {
    "duration": 5,
    "start_time": "2025-03-25T16:28:11.032Z"
   },
   {
    "duration": 275,
    "start_time": "2025-03-25T16:28:11.039Z"
   },
   {
    "duration": 10,
    "start_time": "2025-03-25T16:28:11.316Z"
   },
   {
    "duration": 154183,
    "start_time": "2025-03-25T16:28:11.328Z"
   },
   {
    "duration": 4,
    "start_time": "2025-03-25T16:30:45.512Z"
   },
   {
    "duration": 876,
    "start_time": "2025-03-25T16:30:45.517Z"
   },
   {
    "duration": 13,
    "start_time": "2025-03-25T16:30:46.394Z"
   },
   {
    "duration": 11,
    "start_time": "2025-03-25T16:34:01.281Z"
   },
   {
    "duration": 1489,
    "start_time": "2025-03-26T11:29:16.239Z"
   },
   {
    "duration": 0,
    "start_time": "2025-03-26T11:29:17.729Z"
   },
   {
    "duration": 0,
    "start_time": "2025-03-26T11:29:17.735Z"
   },
   {
    "duration": 0,
    "start_time": "2025-03-26T11:29:17.736Z"
   },
   {
    "duration": 0,
    "start_time": "2025-03-26T11:29:17.737Z"
   },
   {
    "duration": 0,
    "start_time": "2025-03-26T11:29:17.738Z"
   },
   {
    "duration": 0,
    "start_time": "2025-03-26T11:29:17.739Z"
   },
   {
    "duration": 0,
    "start_time": "2025-03-26T11:29:17.740Z"
   },
   {
    "duration": 0,
    "start_time": "2025-03-26T11:29:17.741Z"
   },
   {
    "duration": 0,
    "start_time": "2025-03-26T11:29:17.742Z"
   },
   {
    "duration": 0,
    "start_time": "2025-03-26T11:29:17.743Z"
   },
   {
    "duration": 0,
    "start_time": "2025-03-26T11:29:17.744Z"
   },
   {
    "duration": 0,
    "start_time": "2025-03-26T11:29:17.745Z"
   },
   {
    "duration": 0,
    "start_time": "2025-03-26T11:29:17.746Z"
   },
   {
    "duration": 0,
    "start_time": "2025-03-26T11:29:17.748Z"
   },
   {
    "duration": 0,
    "start_time": "2025-03-26T11:29:17.749Z"
   },
   {
    "duration": 0,
    "start_time": "2025-03-26T11:29:17.750Z"
   },
   {
    "duration": 0,
    "start_time": "2025-03-26T11:29:17.751Z"
   },
   {
    "duration": 0,
    "start_time": "2025-03-26T11:29:17.752Z"
   },
   {
    "duration": 0,
    "start_time": "2025-03-26T11:29:17.753Z"
   },
   {
    "duration": 0,
    "start_time": "2025-03-26T11:29:17.754Z"
   },
   {
    "duration": 0,
    "start_time": "2025-03-26T11:29:17.755Z"
   },
   {
    "duration": 0,
    "start_time": "2025-03-26T11:29:17.756Z"
   },
   {
    "duration": 0,
    "start_time": "2025-03-26T11:29:17.757Z"
   },
   {
    "duration": 1462,
    "start_time": "2025-03-26T11:35:32.296Z"
   },
   {
    "duration": 34,
    "start_time": "2025-03-26T11:35:33.760Z"
   },
   {
    "duration": 9,
    "start_time": "2025-03-26T11:35:33.796Z"
   },
   {
    "duration": 10,
    "start_time": "2025-03-26T11:35:33.807Z"
   },
   {
    "duration": 27,
    "start_time": "2025-03-26T11:35:33.819Z"
   },
   {
    "duration": 11,
    "start_time": "2025-03-26T11:35:33.847Z"
   },
   {
    "duration": 12,
    "start_time": "2025-03-26T11:35:33.859Z"
   },
   {
    "duration": 14,
    "start_time": "2025-03-26T11:35:33.873Z"
   },
   {
    "duration": 16,
    "start_time": "2025-03-26T11:35:33.889Z"
   },
   {
    "duration": 1929,
    "start_time": "2025-03-26T11:35:33.907Z"
   },
   {
    "duration": 100,
    "start_time": "2025-03-26T11:35:35.840Z"
   },
   {
    "duration": 369,
    "start_time": "2025-03-26T11:35:35.942Z"
   },
   {
    "duration": 6,
    "start_time": "2025-03-26T11:35:36.313Z"
   },
   {
    "duration": 23,
    "start_time": "2025-03-26T11:35:36.322Z"
   },
   {
    "duration": 988,
    "start_time": "2025-03-26T11:35:36.347Z"
   },
   {
    "duration": 22,
    "start_time": "2025-03-26T11:35:37.337Z"
   },
   {
    "duration": 299,
    "start_time": "2025-03-26T11:35:37.360Z"
   },
   {
    "duration": 4,
    "start_time": "2025-03-26T11:35:37.660Z"
   },
   {
    "duration": 260,
    "start_time": "2025-03-26T11:35:37.665Z"
   },
   {
    "duration": 10,
    "start_time": "2025-03-26T11:35:37.935Z"
   },
   {
    "duration": 151137,
    "start_time": "2025-03-26T11:35:37.947Z"
   },
   {
    "duration": 4,
    "start_time": "2025-03-26T11:38:09.086Z"
   },
   {
    "duration": 878,
    "start_time": "2025-03-26T11:38:09.091Z"
   },
   {
    "duration": 10,
    "start_time": "2025-03-26T11:38:09.971Z"
   },
   {
    "duration": 1580,
    "start_time": "2025-03-26T11:44:42.119Z"
   },
   {
    "duration": 122,
    "start_time": "2025-03-26T11:45:01.289Z"
   },
   {
    "duration": 123,
    "start_time": "2025-03-26T11:45:53.208Z"
   },
   {
    "duration": 1783,
    "start_time": "2025-03-26T11:46:26.270Z"
   },
   {
    "duration": 1184,
    "start_time": "2025-03-26T11:46:35.711Z"
   },
   {
    "duration": 255,
    "start_time": "2025-03-26T11:47:07.300Z"
   },
   {
    "duration": 313,
    "start_time": "2025-03-26T11:48:39.578Z"
   },
   {
    "duration": 1502,
    "start_time": "2025-03-26T11:49:57.631Z"
   },
   {
    "duration": 35,
    "start_time": "2025-03-26T11:49:59.135Z"
   },
   {
    "duration": 11,
    "start_time": "2025-03-26T11:49:59.171Z"
   },
   {
    "duration": 12,
    "start_time": "2025-03-26T11:49:59.183Z"
   },
   {
    "duration": 16,
    "start_time": "2025-03-26T11:49:59.197Z"
   },
   {
    "duration": 27,
    "start_time": "2025-03-26T11:49:59.214Z"
   },
   {
    "duration": 12,
    "start_time": "2025-03-26T11:49:59.243Z"
   },
   {
    "duration": 15,
    "start_time": "2025-03-26T11:49:59.256Z"
   },
   {
    "duration": 10,
    "start_time": "2025-03-26T11:49:59.272Z"
   },
   {
    "duration": 1959,
    "start_time": "2025-03-26T11:49:59.285Z"
   },
   {
    "duration": 101,
    "start_time": "2025-03-26T11:50:01.342Z"
   },
   {
    "duration": 323,
    "start_time": "2025-03-26T11:50:01.445Z"
   },
   {
    "duration": 7,
    "start_time": "2025-03-26T11:50:01.769Z"
   },
   {
    "duration": 32,
    "start_time": "2025-03-26T11:50:01.777Z"
   },
   {
    "duration": 429,
    "start_time": "2025-03-26T11:50:01.811Z"
   },
   {
    "duration": 276,
    "start_time": "2025-03-26T11:50:02.242Z"
   },
   {
    "duration": 544,
    "start_time": "2025-03-26T11:50:02.519Z"
   },
   {
    "duration": 140,
    "start_time": "2025-03-26T11:50:03.065Z"
   },
   {
    "duration": 37,
    "start_time": "2025-03-26T11:50:03.207Z"
   },
   {
    "duration": 281,
    "start_time": "2025-03-26T11:50:03.246Z"
   },
   {
    "duration": 9,
    "start_time": "2025-03-26T11:50:03.528Z"
   },
   {
    "duration": 372,
    "start_time": "2025-03-26T11:50:03.539Z"
   },
   {
    "duration": 11,
    "start_time": "2025-03-26T11:50:03.912Z"
   },
   {
    "duration": 150118,
    "start_time": "2025-03-26T11:50:03.924Z"
   },
   {
    "duration": 3,
    "start_time": "2025-03-26T11:52:34.044Z"
   },
   {
    "duration": 880,
    "start_time": "2025-03-26T11:52:34.048Z"
   },
   {
    "duration": 15,
    "start_time": "2025-03-26T11:52:34.930Z"
   },
   {
    "duration": 1554,
    "start_time": "2025-03-26T11:59:27.906Z"
   },
   {
    "duration": 46,
    "start_time": "2025-03-26T11:59:29.462Z"
   },
   {
    "duration": 10,
    "start_time": "2025-03-26T11:59:29.510Z"
   },
   {
    "duration": 53,
    "start_time": "2025-03-26T11:59:29.521Z"
   },
   {
    "duration": 65,
    "start_time": "2025-03-26T11:59:29.576Z"
   },
   {
    "duration": 74,
    "start_time": "2025-03-26T11:59:29.643Z"
   },
   {
    "duration": 13,
    "start_time": "2025-03-26T11:59:29.719Z"
   },
   {
    "duration": 15,
    "start_time": "2025-03-26T11:59:29.733Z"
   },
   {
    "duration": 12,
    "start_time": "2025-03-26T11:59:29.750Z"
   },
   {
    "duration": 1878,
    "start_time": "2025-03-26T11:59:29.765Z"
   },
   {
    "duration": 110,
    "start_time": "2025-03-26T11:59:31.735Z"
   },
   {
    "duration": 312,
    "start_time": "2025-03-26T11:59:31.847Z"
   },
   {
    "duration": 7,
    "start_time": "2025-03-26T11:59:32.161Z"
   },
   {
    "duration": 26,
    "start_time": "2025-03-26T11:59:32.169Z"
   },
   {
    "duration": 391,
    "start_time": "2025-03-26T11:59:32.197Z"
   },
   {
    "duration": 2318,
    "start_time": "2025-03-26T11:59:32.589Z"
   },
   {
    "duration": 571,
    "start_time": "2025-03-26T11:59:34.908Z"
   },
   {
    "duration": 145,
    "start_time": "2025-03-26T11:59:35.480Z"
   },
   {
    "duration": 26,
    "start_time": "2025-03-26T11:59:35.627Z"
   },
   {
    "duration": 324,
    "start_time": "2025-03-26T11:59:35.654Z"
   },
   {
    "duration": 4,
    "start_time": "2025-03-26T11:59:35.979Z"
   },
   {
    "duration": 328,
    "start_time": "2025-03-26T11:59:35.984Z"
   },
   {
    "duration": 11,
    "start_time": "2025-03-26T11:59:36.313Z"
   },
   {
    "duration": 153353,
    "start_time": "2025-03-26T11:59:36.335Z"
   },
   {
    "duration": 3,
    "start_time": "2025-03-26T12:02:09.690Z"
   },
   {
    "duration": 908,
    "start_time": "2025-03-26T12:02:09.694Z"
   },
   {
    "duration": 11,
    "start_time": "2025-03-26T12:02:10.604Z"
   },
   {
    "duration": 13,
    "start_time": "2025-03-26T12:06:28.682Z"
   },
   {
    "duration": 24,
    "start_time": "2025-03-26T12:09:14.681Z"
   },
   {
    "duration": 23,
    "start_time": "2025-03-26T12:15:30.622Z"
   },
   {
    "duration": 23,
    "start_time": "2025-03-26T12:19:46.164Z"
   },
   {
    "duration": 126,
    "start_time": "2025-03-26T12:20:46.751Z"
   },
   {
    "duration": 22,
    "start_time": "2025-03-26T12:20:56.228Z"
   },
   {
    "duration": 20,
    "start_time": "2025-03-26T12:21:23.224Z"
   },
   {
    "duration": 20,
    "start_time": "2025-03-26T12:21:34.412Z"
   },
   {
    "duration": 1463,
    "start_time": "2025-03-26T12:31:14.060Z"
   },
   {
    "duration": 47,
    "start_time": "2025-03-26T12:31:15.526Z"
   },
   {
    "duration": 11,
    "start_time": "2025-03-26T12:31:15.575Z"
   },
   {
    "duration": 21,
    "start_time": "2025-03-26T12:31:15.587Z"
   },
   {
    "duration": 17,
    "start_time": "2025-03-26T12:31:15.609Z"
   },
   {
    "duration": 70,
    "start_time": "2025-03-26T12:31:15.627Z"
   },
   {
    "duration": 14,
    "start_time": "2025-03-26T12:31:15.698Z"
   },
   {
    "duration": 15,
    "start_time": "2025-03-26T12:31:15.713Z"
   },
   {
    "duration": 75,
    "start_time": "2025-03-26T12:31:15.729Z"
   },
   {
    "duration": 1836,
    "start_time": "2025-03-26T12:31:15.805Z"
   },
   {
    "duration": 192,
    "start_time": "2025-03-26T12:31:17.644Z"
   },
   {
    "duration": 304,
    "start_time": "2025-03-26T12:31:17.838Z"
   },
   {
    "duration": 6,
    "start_time": "2025-03-26T12:31:18.143Z"
   },
   {
    "duration": 15,
    "start_time": "2025-03-26T12:31:18.152Z"
   },
   {
    "duration": 2319,
    "start_time": "2025-03-26T12:31:18.169Z"
   },
   {
    "duration": 20,
    "start_time": "2025-03-26T12:31:20.489Z"
   },
   {
    "duration": 502,
    "start_time": "2025-03-26T12:31:20.511Z"
   },
   {
    "duration": 139,
    "start_time": "2025-03-26T12:31:21.014Z"
   },
   {
    "duration": 21,
    "start_time": "2025-03-26T12:31:21.155Z"
   },
   {
    "duration": 285,
    "start_time": "2025-03-26T12:31:21.178Z"
   },
   {
    "duration": 4,
    "start_time": "2025-03-26T12:31:21.464Z"
   },
   {
    "duration": 331,
    "start_time": "2025-03-26T12:31:21.470Z"
   },
   {
    "duration": 10,
    "start_time": "2025-03-26T12:31:21.803Z"
   },
   {
    "duration": 152244,
    "start_time": "2025-03-26T12:31:21.814Z"
   },
   {
    "duration": 3,
    "start_time": "2025-03-26T12:33:54.060Z"
   },
   {
    "duration": 916,
    "start_time": "2025-03-26T12:33:54.064Z"
   },
   {
    "duration": 10,
    "start_time": "2025-03-26T12:33:54.981Z"
   },
   {
    "duration": 19,
    "start_time": "2025-03-26T12:43:46.367Z"
   },
   {
    "duration": 234,
    "start_time": "2025-03-26T12:43:53.577Z"
   },
   {
    "duration": 4,
    "start_time": "2025-03-26T12:44:21.412Z"
   },
   {
    "duration": 165,
    "start_time": "2025-03-26T12:44:35.552Z"
   },
   {
    "duration": 1484,
    "start_time": "2025-03-26T12:46:01.485Z"
   },
   {
    "duration": 36,
    "start_time": "2025-03-26T12:46:02.971Z"
   },
   {
    "duration": 10,
    "start_time": "2025-03-26T12:46:03.009Z"
   },
   {
    "duration": 23,
    "start_time": "2025-03-26T12:46:03.021Z"
   },
   {
    "duration": 18,
    "start_time": "2025-03-26T12:46:03.046Z"
   },
   {
    "duration": 12,
    "start_time": "2025-03-26T12:46:03.065Z"
   },
   {
    "duration": 27,
    "start_time": "2025-03-26T12:46:03.079Z"
   },
   {
    "duration": 15,
    "start_time": "2025-03-26T12:46:03.107Z"
   },
   {
    "duration": 11,
    "start_time": "2025-03-26T12:46:03.135Z"
   },
   {
    "duration": 1997,
    "start_time": "2025-03-26T12:46:03.148Z"
   },
   {
    "duration": 99,
    "start_time": "2025-03-26T12:46:05.237Z"
   },
   {
    "duration": 308,
    "start_time": "2025-03-26T12:46:05.339Z"
   },
   {
    "duration": 7,
    "start_time": "2025-03-26T12:46:05.649Z"
   },
   {
    "duration": 103,
    "start_time": "2025-03-26T12:46:05.658Z"
   },
   {
    "duration": 2362,
    "start_time": "2025-03-26T12:46:05.762Z"
   },
   {
    "duration": 23,
    "start_time": "2025-03-26T12:46:08.126Z"
   },
   {
    "duration": 552,
    "start_time": "2025-03-26T12:46:08.151Z"
   },
   {
    "duration": 132,
    "start_time": "2025-03-26T12:46:08.705Z"
   },
   {
    "duration": 25,
    "start_time": "2025-03-26T12:46:08.839Z"
   },
   {
    "duration": 176,
    "start_time": "2025-03-26T12:46:08.866Z"
   },
   {
    "duration": 275,
    "start_time": "2025-03-26T12:46:09.044Z"
   },
   {
    "duration": 244,
    "start_time": "2025-03-26T12:46:09.322Z"
   },
   {
    "duration": 5,
    "start_time": "2025-03-26T12:46:09.568Z"
   },
   {
    "duration": 49,
    "start_time": "2025-03-26T12:46:09.575Z"
   },
   {
    "duration": 149987,
    "start_time": "2025-03-26T12:46:09.625Z"
   },
   {
    "duration": 3,
    "start_time": "2025-03-26T12:48:39.614Z"
   },
   {
    "duration": 1674,
    "start_time": "2025-03-26T12:48:39.618Z"
   },
   {
    "duration": 14,
    "start_time": "2025-03-26T12:48:41.294Z"
   },
   {
    "duration": 121,
    "start_time": "2025-03-26T13:07:59.126Z"
   },
   {
    "duration": 1677,
    "start_time": "2025-03-26T13:08:58.465Z"
   },
   {
    "duration": 37,
    "start_time": "2025-03-26T13:09:00.144Z"
   },
   {
    "duration": 11,
    "start_time": "2025-03-26T13:09:00.184Z"
   },
   {
    "duration": 22,
    "start_time": "2025-03-26T13:09:00.198Z"
   },
   {
    "duration": 25,
    "start_time": "2025-03-26T13:09:00.221Z"
   },
   {
    "duration": 11,
    "start_time": "2025-03-26T13:09:00.248Z"
   },
   {
    "duration": 13,
    "start_time": "2025-03-26T13:09:00.260Z"
   },
   {
    "duration": 47,
    "start_time": "2025-03-26T13:09:00.275Z"
   },
   {
    "duration": 32,
    "start_time": "2025-03-26T13:09:00.323Z"
   },
   {
    "duration": 2481,
    "start_time": "2025-03-26T13:09:00.356Z"
   },
   {
    "duration": 102,
    "start_time": "2025-03-26T13:09:02.840Z"
   },
   {
    "duration": 791,
    "start_time": "2025-03-26T13:09:02.944Z"
   },
   {
    "duration": 7,
    "start_time": "2025-03-26T13:09:03.738Z"
   },
   {
    "duration": 96,
    "start_time": "2025-03-26T13:09:03.746Z"
   },
   {
    "duration": 2420,
    "start_time": "2025-03-26T13:09:03.844Z"
   },
   {
    "duration": 22,
    "start_time": "2025-03-26T13:09:06.265Z"
   },
   {
    "duration": 539,
    "start_time": "2025-03-26T13:09:06.289Z"
   },
   {
    "duration": 135,
    "start_time": "2025-03-26T13:09:06.829Z"
   },
   {
    "duration": 3,
    "start_time": "2025-03-26T13:09:06.965Z"
   },
   {
    "duration": 140,
    "start_time": "2025-03-26T13:09:06.969Z"
   },
   {
    "duration": 0,
    "start_time": "2025-03-26T13:09:07.111Z"
   },
   {
    "duration": 0,
    "start_time": "2025-03-26T13:09:07.113Z"
   },
   {
    "duration": 0,
    "start_time": "2025-03-26T13:09:07.114Z"
   },
   {
    "duration": 0,
    "start_time": "2025-03-26T13:09:07.115Z"
   },
   {
    "duration": 0,
    "start_time": "2025-03-26T13:09:07.117Z"
   },
   {
    "duration": 0,
    "start_time": "2025-03-26T13:09:07.118Z"
   },
   {
    "duration": 0,
    "start_time": "2025-03-26T13:09:07.136Z"
   },
   {
    "duration": 0,
    "start_time": "2025-03-26T13:09:07.137Z"
   },
   {
    "duration": 0,
    "start_time": "2025-03-26T13:09:07.138Z"
   },
   {
    "duration": 0,
    "start_time": "2025-03-26T13:09:07.140Z"
   },
   {
    "duration": 0,
    "start_time": "2025-03-26T13:09:07.141Z"
   },
   {
    "duration": 12,
    "start_time": "2025-03-26T13:10:05.003Z"
   },
   {
    "duration": 27,
    "start_time": "2025-03-26T13:10:49.654Z"
   },
   {
    "duration": 1585,
    "start_time": "2025-03-26T13:13:28.147Z"
   },
   {
    "duration": 36,
    "start_time": "2025-03-26T13:13:29.733Z"
   },
   {
    "duration": 51,
    "start_time": "2025-03-26T13:13:29.771Z"
   },
   {
    "duration": 11,
    "start_time": "2025-03-26T13:13:29.824Z"
   },
   {
    "duration": 15,
    "start_time": "2025-03-26T13:13:29.836Z"
   },
   {
    "duration": 10,
    "start_time": "2025-03-26T13:13:29.853Z"
   },
   {
    "duration": 12,
    "start_time": "2025-03-26T13:13:29.865Z"
   },
   {
    "duration": 78,
    "start_time": "2025-03-26T13:13:29.879Z"
   },
   {
    "duration": 37,
    "start_time": "2025-03-26T13:13:29.958Z"
   },
   {
    "duration": 1938,
    "start_time": "2025-03-26T13:13:29.998Z"
   },
   {
    "duration": 101,
    "start_time": "2025-03-26T13:13:31.939Z"
   },
   {
    "duration": 296,
    "start_time": "2025-03-26T13:13:32.041Z"
   },
   {
    "duration": 6,
    "start_time": "2025-03-26T13:13:32.339Z"
   },
   {
    "duration": 28,
    "start_time": "2025-03-26T13:13:32.346Z"
   },
   {
    "duration": 2333,
    "start_time": "2025-03-26T13:13:32.375Z"
   },
   {
    "duration": 21,
    "start_time": "2025-03-26T13:13:34.710Z"
   },
   {
    "duration": 527,
    "start_time": "2025-03-26T13:13:34.733Z"
   },
   {
    "duration": 135,
    "start_time": "2025-03-26T13:13:35.262Z"
   },
   {
    "duration": 3,
    "start_time": "2025-03-26T13:13:35.399Z"
   },
   {
    "duration": 87,
    "start_time": "2025-03-26T13:13:35.403Z"
   },
   {
    "duration": 164,
    "start_time": "2025-03-26T13:13:35.492Z"
   },
   {
    "duration": 277,
    "start_time": "2025-03-26T13:13:35.658Z"
   },
   {
    "duration": 249,
    "start_time": "2025-03-26T13:13:35.937Z"
   },
   {
    "duration": 3,
    "start_time": "2025-03-26T13:13:36.188Z"
   },
   {
    "duration": 124,
    "start_time": "2025-03-26T13:13:36.192Z"
   },
   {
    "duration": 11,
    "start_time": "2025-03-26T13:13:36.318Z"
   },
   {
    "duration": 201000,
    "start_time": "2025-03-26T13:13:36.331Z"
   },
   {
    "duration": 3,
    "start_time": "2025-03-26T13:16:57.338Z"
   },
   {
    "duration": 2024,
    "start_time": "2025-03-26T13:16:57.343Z"
   },
   {
    "duration": 16,
    "start_time": "2025-03-26T13:16:59.369Z"
   },
   {
    "duration": 1561,
    "start_time": "2025-03-26T13:17:45.821Z"
   },
   {
    "duration": 36,
    "start_time": "2025-03-26T13:17:47.384Z"
   },
   {
    "duration": 17,
    "start_time": "2025-03-26T13:17:47.421Z"
   },
   {
    "duration": 12,
    "start_time": "2025-03-26T13:17:47.440Z"
   },
   {
    "duration": 16,
    "start_time": "2025-03-26T13:17:47.455Z"
   },
   {
    "duration": 12,
    "start_time": "2025-03-26T13:17:47.473Z"
   },
   {
    "duration": 14,
    "start_time": "2025-03-26T13:17:47.487Z"
   },
   {
    "duration": 18,
    "start_time": "2025-03-26T13:17:47.536Z"
   },
   {
    "duration": 13,
    "start_time": "2025-03-26T13:17:47.557Z"
   },
   {
    "duration": 2869,
    "start_time": "2025-03-26T13:17:47.572Z"
   },
   {
    "duration": 192,
    "start_time": "2025-03-26T13:17:50.444Z"
   },
   {
    "duration": 299,
    "start_time": "2025-03-26T13:17:50.638Z"
   },
   {
    "duration": 6,
    "start_time": "2025-03-26T13:17:50.939Z"
   },
   {
    "duration": 15,
    "start_time": "2025-03-26T13:17:50.948Z"
   },
   {
    "duration": 2392,
    "start_time": "2025-03-26T13:17:50.964Z"
   },
   {
    "duration": 21,
    "start_time": "2025-03-26T13:17:53.358Z"
   },
   {
    "duration": 590,
    "start_time": "2025-03-26T13:17:53.380Z"
   },
   {
    "duration": 137,
    "start_time": "2025-03-26T13:17:53.972Z"
   },
   {
    "duration": 4,
    "start_time": "2025-03-26T13:17:54.111Z"
   },
   {
    "duration": 0,
    "start_time": "2025-03-26T13:17:54.116Z"
   },
   {
    "duration": 0,
    "start_time": "2025-03-26T13:17:54.117Z"
   },
   {
    "duration": 0,
    "start_time": "2025-03-26T13:17:54.135Z"
   },
   {
    "duration": 0,
    "start_time": "2025-03-26T13:17:54.137Z"
   },
   {
    "duration": 0,
    "start_time": "2025-03-26T13:17:54.138Z"
   },
   {
    "duration": 0,
    "start_time": "2025-03-26T13:17:54.141Z"
   },
   {
    "duration": 0,
    "start_time": "2025-03-26T13:17:54.147Z"
   },
   {
    "duration": 0,
    "start_time": "2025-03-26T13:17:54.149Z"
   },
   {
    "duration": 0,
    "start_time": "2025-03-26T13:17:54.150Z"
   },
   {
    "duration": 1609,
    "start_time": "2025-03-26T13:19:13.704Z"
   },
   {
    "duration": 36,
    "start_time": "2025-03-26T13:19:15.315Z"
   },
   {
    "duration": 10,
    "start_time": "2025-03-26T13:19:15.353Z"
   },
   {
    "duration": 67,
    "start_time": "2025-03-26T13:19:15.365Z"
   },
   {
    "duration": 22,
    "start_time": "2025-03-26T13:19:15.434Z"
   },
   {
    "duration": 29,
    "start_time": "2025-03-26T13:19:15.458Z"
   },
   {
    "duration": 15,
    "start_time": "2025-03-26T13:19:15.489Z"
   },
   {
    "duration": 26,
    "start_time": "2025-03-26T13:19:15.506Z"
   },
   {
    "duration": 16,
    "start_time": "2025-03-26T13:19:15.534Z"
   },
   {
    "duration": 1887,
    "start_time": "2025-03-26T13:19:15.553Z"
   },
   {
    "duration": 194,
    "start_time": "2025-03-26T13:19:17.442Z"
   },
   {
    "duration": 308,
    "start_time": "2025-03-26T13:19:17.638Z"
   },
   {
    "duration": 7,
    "start_time": "2025-03-26T13:19:17.948Z"
   },
   {
    "duration": 27,
    "start_time": "2025-03-26T13:19:17.957Z"
   },
   {
    "duration": 2382,
    "start_time": "2025-03-26T13:19:17.986Z"
   },
   {
    "duration": 24,
    "start_time": "2025-03-26T13:19:20.370Z"
   },
   {
    "duration": 539,
    "start_time": "2025-03-26T13:19:20.396Z"
   },
   {
    "duration": 136,
    "start_time": "2025-03-26T13:19:20.937Z"
   },
   {
    "duration": 24,
    "start_time": "2025-03-26T13:19:21.075Z"
   },
   {
    "duration": 173,
    "start_time": "2025-03-26T13:19:21.101Z"
   },
   {
    "duration": 274,
    "start_time": "2025-03-26T13:19:21.276Z"
   },
   {
    "duration": 261,
    "start_time": "2025-03-26T13:19:21.552Z"
   },
   {
    "duration": 4,
    "start_time": "2025-03-26T13:19:21.815Z"
   },
   {
    "duration": 43,
    "start_time": "2025-03-26T13:19:21.821Z"
   },
   {
    "duration": 152122,
    "start_time": "2025-03-26T13:19:21.866Z"
   },
   {
    "duration": 4,
    "start_time": "2025-03-26T13:21:53.990Z"
   },
   {
    "duration": 1727,
    "start_time": "2025-03-26T13:21:53.996Z"
   },
   {
    "duration": 19,
    "start_time": "2025-03-26T13:21:55.726Z"
   },
   {
    "duration": 100659,
    "start_time": "2025-03-26T13:26:25.965Z"
   },
   {
    "duration": 358,
    "start_time": "2025-03-26T13:44:46.364Z"
   },
   {
    "duration": 45,
    "start_time": "2025-03-26T13:49:20.988Z"
   },
   {
    "duration": 47,
    "start_time": "2025-03-26T13:55:44.714Z"
   },
   {
    "duration": 23,
    "start_time": "2025-03-26T13:58:38.852Z"
   },
   {
    "duration": 4695,
    "start_time": "2025-03-26T13:58:53.441Z"
   },
   {
    "duration": 2515,
    "start_time": "2025-03-26T14:00:39.646Z"
   },
   {
    "duration": 2617,
    "start_time": "2025-03-26T14:02:51.844Z"
   },
   {
    "duration": 2333,
    "start_time": "2025-03-26T14:03:43.600Z"
   },
   {
    "duration": 2388,
    "start_time": "2025-03-26T14:03:45.936Z"
   },
   {
    "duration": 38,
    "start_time": "2025-03-26T14:03:48.336Z"
   },
   {
    "duration": 12,
    "start_time": "2025-03-26T14:03:48.376Z"
   },
   {
    "duration": 78,
    "start_time": "2025-03-26T14:03:48.390Z"
   },
   {
    "duration": 17,
    "start_time": "2025-03-26T14:03:48.470Z"
   },
   {
    "duration": 12,
    "start_time": "2025-03-26T14:03:48.488Z"
   },
   {
    "duration": 13,
    "start_time": "2025-03-26T14:03:48.502Z"
   },
   {
    "duration": 23,
    "start_time": "2025-03-26T14:03:48.519Z"
   },
   {
    "duration": 13,
    "start_time": "2025-03-26T14:03:48.544Z"
   },
   {
    "duration": 1782,
    "start_time": "2025-03-26T14:03:48.559Z"
   },
   {
    "duration": 193,
    "start_time": "2025-03-26T14:03:50.343Z"
   },
   {
    "duration": 297,
    "start_time": "2025-03-26T14:03:50.538Z"
   },
   {
    "duration": 6,
    "start_time": "2025-03-26T14:03:50.837Z"
   },
   {
    "duration": 11,
    "start_time": "2025-03-26T14:03:50.845Z"
   },
   {
    "duration": 2387,
    "start_time": "2025-03-26T14:03:50.857Z"
   },
   {
    "duration": 21,
    "start_time": "2025-03-26T14:03:53.245Z"
   },
   {
    "duration": 552,
    "start_time": "2025-03-26T14:03:53.268Z"
   },
   {
    "duration": 142,
    "start_time": "2025-03-26T14:03:53.822Z"
   },
   {
    "duration": 43,
    "start_time": "2025-03-26T14:03:53.966Z"
   },
   {
    "duration": 179,
    "start_time": "2025-03-26T14:03:54.011Z"
   },
   {
    "duration": 277,
    "start_time": "2025-03-26T14:03:54.192Z"
   },
   {
    "duration": 255,
    "start_time": "2025-03-26T14:03:54.471Z"
   },
   {
    "duration": 4,
    "start_time": "2025-03-26T14:03:54.736Z"
   },
   {
    "duration": 12,
    "start_time": "2025-03-26T14:03:54.742Z"
   },
   {
    "duration": 149110,
    "start_time": "2025-03-26T14:03:54.755Z"
   },
   {
    "duration": 3,
    "start_time": "2025-03-26T14:06:23.868Z"
   },
   {
    "duration": 1704,
    "start_time": "2025-03-26T14:06:23.872Z"
   },
   {
    "duration": 15,
    "start_time": "2025-03-26T14:06:25.578Z"
   },
   {
    "duration": 5229,
    "start_time": "2025-03-26T14:06:25.594Z"
   },
   {
    "duration": 2304,
    "start_time": "2025-03-26T14:10:06.629Z"
   },
   {
    "duration": 1983,
    "start_time": "2025-03-26T14:10:08.935Z"
   },
   {
    "duration": 38,
    "start_time": "2025-03-26T14:10:10.919Z"
   },
   {
    "duration": 11,
    "start_time": "2025-03-26T14:10:10.959Z"
   },
   {
    "duration": 13,
    "start_time": "2025-03-26T14:10:10.972Z"
   },
   {
    "duration": 16,
    "start_time": "2025-03-26T14:10:10.986Z"
   },
   {
    "duration": 36,
    "start_time": "2025-03-26T14:10:11.004Z"
   },
   {
    "duration": 14,
    "start_time": "2025-03-26T14:10:11.042Z"
   },
   {
    "duration": 22,
    "start_time": "2025-03-26T14:10:11.057Z"
   },
   {
    "duration": 11,
    "start_time": "2025-03-26T14:10:11.082Z"
   },
   {
    "duration": 1846,
    "start_time": "2025-03-26T14:10:11.095Z"
   },
   {
    "duration": 193,
    "start_time": "2025-03-26T14:10:12.943Z"
   },
   {
    "duration": 286,
    "start_time": "2025-03-26T14:10:13.138Z"
   },
   {
    "duration": 13,
    "start_time": "2025-03-26T14:10:13.425Z"
   },
   {
    "duration": 10,
    "start_time": "2025-03-26T14:10:13.439Z"
   },
   {
    "duration": 2385,
    "start_time": "2025-03-26T14:10:13.451Z"
   },
   {
    "duration": 22,
    "start_time": "2025-03-26T14:10:15.838Z"
   },
   {
    "duration": 551,
    "start_time": "2025-03-26T14:10:15.862Z"
   },
   {
    "duration": 169,
    "start_time": "2025-03-26T14:10:16.415Z"
   },
   {
    "duration": 25,
    "start_time": "2025-03-26T14:10:16.586Z"
   },
   {
    "duration": 176,
    "start_time": "2025-03-26T14:10:16.613Z"
   },
   {
    "duration": 298,
    "start_time": "2025-03-26T14:10:16.791Z"
   },
   {
    "duration": 261,
    "start_time": "2025-03-26T14:10:17.091Z"
   },
   {
    "duration": 4,
    "start_time": "2025-03-26T14:10:17.354Z"
   },
   {
    "duration": 13,
    "start_time": "2025-03-26T14:10:17.360Z"
   },
   {
    "duration": 149107,
    "start_time": "2025-03-26T14:10:17.374Z"
   },
   {
    "duration": 3,
    "start_time": "2025-03-26T14:12:46.483Z"
   },
   {
    "duration": 1690,
    "start_time": "2025-03-26T14:12:46.489Z"
   },
   {
    "duration": 14,
    "start_time": "2025-03-26T14:12:48.181Z"
   },
   {
    "duration": 150,
    "start_time": "2025-03-26T14:14:25.565Z"
   },
   {
    "duration": 20,
    "start_time": "2025-03-26T14:15:17.919Z"
   },
   {
    "duration": 13,
    "start_time": "2025-03-26T14:16:11.789Z"
   },
   {
    "duration": 284,
    "start_time": "2025-03-26T14:16:20.737Z"
   },
   {
    "duration": 310,
    "start_time": "2025-03-26T14:18:41.802Z"
   },
   {
    "duration": 315,
    "start_time": "2025-03-26T14:18:46.652Z"
   },
   {
    "duration": 353,
    "start_time": "2025-03-26T14:19:07.889Z"
   },
   {
    "duration": 6,
    "start_time": "2025-03-26T14:20:42.066Z"
   },
   {
    "duration": 6,
    "start_time": "2025-03-26T14:20:49.127Z"
   },
   {
    "duration": 13,
    "start_time": "2025-03-26T14:21:02.326Z"
   },
   {
    "duration": 352,
    "start_time": "2025-03-26T14:21:06.470Z"
   },
   {
    "duration": 362,
    "start_time": "2025-03-26T14:27:38.396Z"
   },
   {
    "duration": 3151,
    "start_time": "2025-03-26T14:28:43.242Z"
   },
   {
    "duration": 28,
    "start_time": "2025-03-26T14:30:05.223Z"
   },
   {
    "duration": 1221,
    "start_time": "2025-03-26T14:30:17.163Z"
   },
   {
    "duration": 411,
    "start_time": "2025-03-26T14:31:05.621Z"
   },
   {
    "duration": 402,
    "start_time": "2025-03-26T14:31:19.747Z"
   },
   {
    "duration": 28,
    "start_time": "2025-03-26T14:32:08.013Z"
   },
   {
    "duration": 155,
    "start_time": "2025-03-26T14:33:11.118Z"
   },
   {
    "duration": 283,
    "start_time": "2025-03-26T14:37:59.927Z"
   },
   {
    "duration": 326,
    "start_time": "2025-03-26T14:38:15.540Z"
   },
   {
    "duration": 14,
    "start_time": "2025-03-26T14:40:27.972Z"
   },
   {
    "duration": 393,
    "start_time": "2025-03-26T14:41:38.373Z"
   },
   {
    "duration": 10,
    "start_time": "2025-03-26T15:33:36.844Z"
   },
   {
    "duration": 3,
    "start_time": "2025-03-26T15:34:04.736Z"
   },
   {
    "duration": 1506,
    "start_time": "2025-03-26T15:44:17.945Z"
   },
   {
    "duration": 34,
    "start_time": "2025-03-26T15:44:19.453Z"
   },
   {
    "duration": 9,
    "start_time": "2025-03-26T15:44:19.488Z"
   },
   {
    "duration": 12,
    "start_time": "2025-03-26T15:44:19.499Z"
   },
   {
    "duration": 23,
    "start_time": "2025-03-26T15:44:19.513Z"
   },
   {
    "duration": 11,
    "start_time": "2025-03-26T15:44:19.537Z"
   },
   {
    "duration": 12,
    "start_time": "2025-03-26T15:44:19.550Z"
   },
   {
    "duration": 16,
    "start_time": "2025-03-26T15:44:19.563Z"
   },
   {
    "duration": 11,
    "start_time": "2025-03-26T15:44:19.580Z"
   },
   {
    "duration": 1852,
    "start_time": "2025-03-26T15:44:19.592Z"
   },
   {
    "duration": 103,
    "start_time": "2025-03-26T15:44:21.537Z"
   },
   {
    "duration": 302,
    "start_time": "2025-03-26T15:44:21.642Z"
   },
   {
    "duration": 6,
    "start_time": "2025-03-26T15:44:21.946Z"
   },
   {
    "duration": 20,
    "start_time": "2025-03-26T15:44:21.955Z"
   },
   {
    "duration": 2359,
    "start_time": "2025-03-26T15:44:21.977Z"
   },
   {
    "duration": 22,
    "start_time": "2025-03-26T15:44:24.338Z"
   },
   {
    "duration": 534,
    "start_time": "2025-03-26T15:44:24.361Z"
   },
   {
    "duration": 130,
    "start_time": "2025-03-26T15:44:24.897Z"
   },
   {
    "duration": 27,
    "start_time": "2025-03-26T15:44:25.029Z"
   },
   {
    "duration": 170,
    "start_time": "2025-03-26T15:44:25.057Z"
   },
   {
    "duration": 263,
    "start_time": "2025-03-26T15:44:25.229Z"
   },
   {
    "duration": 245,
    "start_time": "2025-03-26T15:44:25.493Z"
   },
   {
    "duration": 3,
    "start_time": "2025-03-26T15:44:25.740Z"
   },
   {
    "duration": 87,
    "start_time": "2025-03-26T15:44:25.745Z"
   },
   {
    "duration": 148895,
    "start_time": "2025-03-26T15:44:25.833Z"
   },
   {
    "duration": 7,
    "start_time": "2025-03-26T15:46:54.730Z"
   },
   {
    "duration": 1678,
    "start_time": "2025-03-26T15:46:54.739Z"
   },
   {
    "duration": 20,
    "start_time": "2025-03-26T15:46:56.419Z"
   },
   {
    "duration": 382,
    "start_time": "2025-03-26T15:46:56.441Z"
   },
   {
    "duration": 133,
    "start_time": "2025-03-26T15:46:56.825Z"
   },
   {
    "duration": 0,
    "start_time": "2025-03-26T15:46:56.960Z"
   },
   {
    "duration": 0,
    "start_time": "2025-03-26T15:46:56.961Z"
   },
   {
    "duration": 160,
    "start_time": "2025-03-26T15:49:24.333Z"
   },
   {
    "duration": 407,
    "start_time": "2025-03-26T15:49:42.265Z"
   },
   {
    "duration": 2,
    "start_time": "2025-03-26T15:50:36.674Z"
   },
   {
    "duration": 3,
    "start_time": "2025-03-26T15:51:23.475Z"
   },
   {
    "duration": 3,
    "start_time": "2025-03-26T15:53:48.847Z"
   },
   {
    "duration": 1566,
    "start_time": "2025-03-26T16:09:57.035Z"
   },
   {
    "duration": 45,
    "start_time": "2025-03-26T16:09:58.603Z"
   },
   {
    "duration": 11,
    "start_time": "2025-03-26T16:09:58.649Z"
   },
   {
    "duration": 11,
    "start_time": "2025-03-26T16:09:58.661Z"
   },
   {
    "duration": 17,
    "start_time": "2025-03-26T16:09:58.674Z"
   },
   {
    "duration": 12,
    "start_time": "2025-03-26T16:09:58.692Z"
   },
   {
    "duration": 13,
    "start_time": "2025-03-26T16:09:58.735Z"
   },
   {
    "duration": 16,
    "start_time": "2025-03-26T16:09:58.749Z"
   },
   {
    "duration": 11,
    "start_time": "2025-03-26T16:09:58.766Z"
   },
   {
    "duration": 1467,
    "start_time": "2025-03-26T16:09:58.778Z"
   },
   {
    "duration": 98,
    "start_time": "2025-03-26T16:10:00.247Z"
   },
   {
    "duration": 305,
    "start_time": "2025-03-26T16:10:00.436Z"
   },
   {
    "duration": 7,
    "start_time": "2025-03-26T16:10:00.743Z"
   },
   {
    "duration": 14,
    "start_time": "2025-03-26T16:10:00.752Z"
   },
   {
    "duration": 2460,
    "start_time": "2025-03-26T16:10:00.768Z"
   },
   {
    "duration": 22,
    "start_time": "2025-03-26T16:10:03.229Z"
   },
   {
    "duration": 553,
    "start_time": "2025-03-26T16:10:03.253Z"
   },
   {
    "duration": 136,
    "start_time": "2025-03-26T16:10:03.808Z"
   },
   {
    "duration": 23,
    "start_time": "2025-03-26T16:10:03.945Z"
   },
   {
    "duration": 175,
    "start_time": "2025-03-26T16:10:03.970Z"
   },
   {
    "duration": 316,
    "start_time": "2025-03-26T16:10:04.148Z"
   },
   {
    "duration": 252,
    "start_time": "2025-03-26T16:10:04.465Z"
   },
   {
    "duration": 4,
    "start_time": "2025-03-26T16:10:04.719Z"
   },
   {
    "duration": 80,
    "start_time": "2025-03-26T16:10:04.736Z"
   },
   {
    "duration": 148990,
    "start_time": "2025-03-26T16:10:04.818Z"
   },
   {
    "duration": 4,
    "start_time": "2025-03-26T16:12:33.810Z"
   },
   {
    "duration": 1664,
    "start_time": "2025-03-26T16:12:33.815Z"
   },
   {
    "duration": 15,
    "start_time": "2025-03-26T16:12:35.480Z"
   },
   {
    "duration": 344,
    "start_time": "2025-03-26T16:12:35.497Z"
   },
   {
    "duration": 168,
    "start_time": "2025-03-26T16:12:35.843Z"
   },
   {
    "duration": 569,
    "start_time": "2025-03-26T16:12:36.013Z"
   },
   {
    "duration": 3,
    "start_time": "2025-03-26T16:12:36.584Z"
   },
   {
    "duration": 57,
    "start_time": "2025-03-26T17:22:53.466Z"
   },
   {
    "duration": 3869,
    "start_time": "2025-03-26T17:23:10.261Z"
   },
   {
    "duration": 35,
    "start_time": "2025-03-26T17:23:14.132Z"
   },
   {
    "duration": 11,
    "start_time": "2025-03-26T17:23:14.169Z"
   },
   {
    "duration": 11,
    "start_time": "2025-03-26T17:23:14.182Z"
   },
   {
    "duration": 17,
    "start_time": "2025-03-26T17:23:14.195Z"
   },
   {
    "duration": 13,
    "start_time": "2025-03-26T17:23:14.214Z"
   },
   {
    "duration": 46,
    "start_time": "2025-03-26T17:23:14.228Z"
   },
   {
    "duration": 16,
    "start_time": "2025-03-26T17:23:14.276Z"
   },
   {
    "duration": 11,
    "start_time": "2025-03-26T17:23:14.294Z"
   },
   {
    "duration": 1975,
    "start_time": "2025-03-26T17:23:14.308Z"
   },
   {
    "duration": 188,
    "start_time": "2025-03-26T17:23:16.285Z"
   },
   {
    "duration": 335,
    "start_time": "2025-03-26T17:23:16.476Z"
   },
   {
    "duration": 7,
    "start_time": "2025-03-26T17:23:16.813Z"
   },
   {
    "duration": 25,
    "start_time": "2025-03-26T17:23:16.822Z"
   },
   {
    "duration": 3140,
    "start_time": "2025-03-26T17:23:16.849Z"
   },
   {
    "duration": 21,
    "start_time": "2025-03-26T17:23:19.990Z"
   },
   {
    "duration": 580,
    "start_time": "2025-03-26T17:23:20.013Z"
   },
   {
    "duration": 137,
    "start_time": "2025-03-26T17:23:20.595Z"
   },
   {
    "duration": 23,
    "start_time": "2025-03-26T17:23:20.733Z"
   },
   {
    "duration": 181,
    "start_time": "2025-03-26T17:23:20.757Z"
   },
   {
    "duration": 278,
    "start_time": "2025-03-26T17:23:20.939Z"
   },
   {
    "duration": 264,
    "start_time": "2025-03-26T17:23:21.219Z"
   },
   {
    "duration": 4,
    "start_time": "2025-03-26T17:23:21.485Z"
   },
   {
    "duration": 16,
    "start_time": "2025-03-26T17:23:21.491Z"
   },
   {
    "duration": 158948,
    "start_time": "2025-03-26T17:23:21.509Z"
   },
   {
    "duration": 4,
    "start_time": "2025-03-26T17:26:00.459Z"
   },
   {
    "duration": 1743,
    "start_time": "2025-03-26T17:26:00.464Z"
   },
   {
    "duration": 14,
    "start_time": "2025-03-26T17:26:02.210Z"
   },
   {
    "duration": 334,
    "start_time": "2025-03-26T17:26:02.225Z"
   },
   {
    "duration": 175,
    "start_time": "2025-03-26T17:26:02.573Z"
   },
   {
    "duration": 536,
    "start_time": "2025-03-26T17:26:02.750Z"
   },
   {
    "duration": 2,
    "start_time": "2025-03-26T17:26:03.288Z"
   },
   {
    "duration": 98,
    "start_time": "2025-03-27T13:06:00.758Z"
   },
   {
    "duration": 1721,
    "start_time": "2025-03-27T13:07:01.637Z"
   },
   {
    "duration": 1649,
    "start_time": "2025-03-27T13:07:22.612Z"
   },
   {
    "duration": 86,
    "start_time": "2025-03-27T13:07:24.262Z"
   },
   {
    "duration": 11,
    "start_time": "2025-03-27T13:07:24.349Z"
   },
   {
    "duration": 39,
    "start_time": "2025-03-27T13:07:24.362Z"
   },
   {
    "duration": 123,
    "start_time": "2025-03-27T13:07:24.402Z"
   },
   {
    "duration": 161,
    "start_time": "2025-03-27T13:07:24.526Z"
   },
   {
    "duration": 90,
    "start_time": "2025-03-27T13:07:24.689Z"
   },
   {
    "duration": 44,
    "start_time": "2025-03-27T13:07:24.781Z"
   },
   {
    "duration": 10,
    "start_time": "2025-03-27T13:07:24.827Z"
   },
   {
    "duration": 2274,
    "start_time": "2025-03-27T13:07:24.840Z"
   },
   {
    "duration": 92,
    "start_time": "2025-03-27T13:07:27.125Z"
   },
   {
    "duration": 422,
    "start_time": "2025-03-27T13:07:27.219Z"
   },
   {
    "duration": 6,
    "start_time": "2025-03-27T13:07:27.643Z"
   },
   {
    "duration": 15,
    "start_time": "2025-03-27T13:07:27.650Z"
   },
   {
    "duration": 2385,
    "start_time": "2025-03-27T13:07:27.667Z"
   },
   {
    "duration": 22,
    "start_time": "2025-03-27T13:07:30.054Z"
   },
   {
    "duration": 597,
    "start_time": "2025-03-27T13:07:30.078Z"
   },
   {
    "duration": 146,
    "start_time": "2025-03-27T13:07:30.677Z"
   },
   {
    "duration": 22,
    "start_time": "2025-03-27T13:07:30.825Z"
   },
   {
    "duration": 215,
    "start_time": "2025-03-27T13:07:30.848Z"
   },
   {
    "duration": 275,
    "start_time": "2025-03-27T13:07:31.065Z"
   },
   {
    "duration": 247,
    "start_time": "2025-03-27T13:07:31.342Z"
   },
   {
    "duration": 13,
    "start_time": "2025-03-27T13:07:31.591Z"
   },
   {
    "duration": 26,
    "start_time": "2025-03-27T13:07:31.605Z"
   },
   {
    "duration": 147593,
    "start_time": "2025-03-27T13:07:31.633Z"
   },
   {
    "duration": 3,
    "start_time": "2025-03-27T13:09:59.227Z"
   },
   {
    "duration": 1645,
    "start_time": "2025-03-27T13:09:59.231Z"
   },
   {
    "duration": 25,
    "start_time": "2025-03-27T13:10:00.879Z"
   },
   {
    "duration": 282,
    "start_time": "2025-03-27T13:10:00.905Z"
   },
   {
    "duration": 164,
    "start_time": "2025-03-27T13:10:01.189Z"
   },
   {
    "duration": 467,
    "start_time": "2025-03-27T13:10:01.354Z"
   },
   {
    "duration": 3,
    "start_time": "2025-03-27T13:10:01.823Z"
   },
   {
    "duration": 13,
    "start_time": "2025-03-27T13:12:22.962Z"
   },
   {
    "duration": 1261,
    "start_time": "2025-03-27T13:15:05.966Z"
   },
   {
    "duration": 1138,
    "start_time": "2025-03-27T13:17:03.366Z"
   },
   {
    "duration": 1543,
    "start_time": "2025-03-27T13:22:28.690Z"
   },
   {
    "duration": 36,
    "start_time": "2025-03-27T13:22:30.234Z"
   },
   {
    "duration": 119,
    "start_time": "2025-03-27T13:22:30.272Z"
   },
   {
    "duration": 172,
    "start_time": "2025-03-27T13:22:30.393Z"
   },
   {
    "duration": 177,
    "start_time": "2025-03-27T13:22:30.567Z"
   },
   {
    "duration": 46,
    "start_time": "2025-03-27T13:22:30.746Z"
   },
   {
    "duration": 14,
    "start_time": "2025-03-27T13:22:30.794Z"
   },
   {
    "duration": 66,
    "start_time": "2025-03-27T13:22:30.810Z"
   },
   {
    "duration": 42,
    "start_time": "2025-03-27T13:22:30.877Z"
   },
   {
    "duration": 1593,
    "start_time": "2025-03-27T13:22:30.920Z"
   },
   {
    "duration": 100,
    "start_time": "2025-03-27T13:22:32.515Z"
   },
   {
    "duration": 375,
    "start_time": "2025-03-27T13:22:32.704Z"
   },
   {
    "duration": 7,
    "start_time": "2025-03-27T13:22:33.081Z"
   },
   {
    "duration": 2367,
    "start_time": "2025-03-27T13:22:33.090Z"
   },
   {
    "duration": 22,
    "start_time": "2025-03-27T13:22:35.458Z"
   },
   {
    "duration": 690,
    "start_time": "2025-03-27T13:22:35.482Z"
   },
   {
    "duration": 147,
    "start_time": "2025-03-27T13:22:36.174Z"
   },
   {
    "duration": 22,
    "start_time": "2025-03-27T13:22:36.323Z"
   },
   {
    "duration": 162,
    "start_time": "2025-03-27T13:22:36.347Z"
   },
   {
    "duration": 263,
    "start_time": "2025-03-27T13:22:36.510Z"
   },
   {
    "duration": 208,
    "start_time": "2025-03-27T13:22:36.775Z"
   },
   {
    "duration": 4,
    "start_time": "2025-03-27T13:22:36.985Z"
   },
   {
    "duration": 41,
    "start_time": "2025-03-27T13:22:36.990Z"
   },
   {
    "duration": 155531,
    "start_time": "2025-03-27T13:22:37.033Z"
   },
   {
    "duration": 3,
    "start_time": "2025-03-27T13:25:12.566Z"
   },
   {
    "duration": 1419,
    "start_time": "2025-03-27T13:25:12.571Z"
   },
   {
    "duration": 20,
    "start_time": "2025-03-27T13:25:13.992Z"
   },
   {
    "duration": 360,
    "start_time": "2025-03-27T13:25:14.014Z"
   },
   {
    "duration": 177,
    "start_time": "2025-03-27T13:25:14.376Z"
   },
   {
    "duration": 579,
    "start_time": "2025-03-27T13:25:14.555Z"
   },
   {
    "duration": 2,
    "start_time": "2025-03-27T13:25:15.136Z"
   },
   {
    "duration": 3157,
    "start_time": "2025-03-27T13:31:25.726Z"
   },
   {
    "duration": 255,
    "start_time": "2025-03-27T13:38:02.069Z"
   },
   {
    "duration": 230,
    "start_time": "2025-03-27T13:38:17.893Z"
   },
   {
    "duration": 142,
    "start_time": "2025-03-27T13:39:27.963Z"
   },
   {
    "duration": 185,
    "start_time": "2025-03-27T13:40:38.797Z"
   },
   {
    "duration": 552,
    "start_time": "2025-03-27T13:42:09.900Z"
   },
   {
    "duration": 547,
    "start_time": "2025-03-27T13:46:52.263Z"
   },
   {
    "duration": 827,
    "start_time": "2025-03-27T13:47:05.170Z"
   },
   {
    "duration": 1126,
    "start_time": "2025-03-27T13:47:45.408Z"
   },
   {
    "duration": 792,
    "start_time": "2025-03-27T13:50:40.972Z"
   },
   {
    "duration": 744,
    "start_time": "2025-03-27T13:50:58.871Z"
   },
   {
    "duration": 815,
    "start_time": "2025-03-27T13:53:33.969Z"
   },
   {
    "duration": 330,
    "start_time": "2025-03-27T13:54:13.856Z"
   },
   {
    "duration": 496,
    "start_time": "2025-03-27T13:54:49.134Z"
   },
   {
    "duration": 385,
    "start_time": "2025-03-27T13:55:46.489Z"
   },
   {
    "duration": 23,
    "start_time": "2025-03-27T14:15:13.460Z"
   },
   {
    "duration": 152,
    "start_time": "2025-03-27T14:15:32.908Z"
   },
   {
    "duration": 448,
    "start_time": "2025-03-27T14:15:35.341Z"
   },
   {
    "duration": 207,
    "start_time": "2025-03-27T14:17:23.982Z"
   },
   {
    "duration": 5,
    "start_time": "2025-03-27T14:19:18.370Z"
   },
   {
    "duration": 11,
    "start_time": "2025-03-27T14:19:22.274Z"
   },
   {
    "duration": 4942,
    "start_time": "2025-03-27T14:19:27.935Z"
   },
   {
    "duration": 1712,
    "start_time": "2025-03-27T14:21:00.481Z"
   },
   {
    "duration": 39,
    "start_time": "2025-03-27T14:21:02.195Z"
   },
   {
    "duration": 35,
    "start_time": "2025-03-27T14:21:02.236Z"
   },
   {
    "duration": 42,
    "start_time": "2025-03-27T14:21:02.273Z"
   },
   {
    "duration": 21,
    "start_time": "2025-03-27T14:21:02.318Z"
   },
   {
    "duration": 28,
    "start_time": "2025-03-27T14:21:02.341Z"
   },
   {
    "duration": 45,
    "start_time": "2025-03-27T14:21:02.371Z"
   },
   {
    "duration": 11,
    "start_time": "2025-03-27T14:21:02.419Z"
   },
   {
    "duration": 15,
    "start_time": "2025-03-27T14:21:02.432Z"
   },
   {
    "duration": 1961,
    "start_time": "2025-03-27T14:21:02.449Z"
   },
   {
    "duration": 102,
    "start_time": "2025-03-27T14:21:04.413Z"
   },
   {
    "duration": 405,
    "start_time": "2025-03-27T14:21:04.518Z"
   },
   {
    "duration": 8,
    "start_time": "2025-03-27T14:21:04.925Z"
   },
   {
    "duration": 2665,
    "start_time": "2025-03-27T14:21:04.936Z"
   },
   {
    "duration": 27,
    "start_time": "2025-03-27T14:21:07.604Z"
   },
   {
    "duration": 778,
    "start_time": "2025-03-27T14:21:07.633Z"
   },
   {
    "duration": 400,
    "start_time": "2025-03-27T14:21:08.413Z"
   },
   {
    "duration": 33,
    "start_time": "2025-03-27T14:21:08.815Z"
   },
   {
    "duration": 283,
    "start_time": "2025-03-27T14:21:08.850Z"
   },
   {
    "duration": 0,
    "start_time": "2025-03-27T14:21:09.135Z"
   },
   {
    "duration": 0,
    "start_time": "2025-03-27T14:21:09.137Z"
   },
   {
    "duration": 0,
    "start_time": "2025-03-27T14:21:09.139Z"
   },
   {
    "duration": 0,
    "start_time": "2025-03-27T14:21:09.140Z"
   },
   {
    "duration": 0,
    "start_time": "2025-03-27T14:21:09.142Z"
   },
   {
    "duration": 0,
    "start_time": "2025-03-27T14:21:09.144Z"
   },
   {
    "duration": 0,
    "start_time": "2025-03-27T14:21:09.145Z"
   },
   {
    "duration": 0,
    "start_time": "2025-03-27T14:21:09.146Z"
   },
   {
    "duration": 0,
    "start_time": "2025-03-27T14:21:09.148Z"
   },
   {
    "duration": 0,
    "start_time": "2025-03-27T14:21:09.150Z"
   },
   {
    "duration": 0,
    "start_time": "2025-03-27T14:21:09.150Z"
   },
   {
    "duration": 0,
    "start_time": "2025-03-27T14:21:09.152Z"
   },
   {
    "duration": 1678,
    "start_time": "2025-03-27T14:21:42.153Z"
   },
   {
    "duration": 41,
    "start_time": "2025-03-27T14:21:43.833Z"
   },
   {
    "duration": 50,
    "start_time": "2025-03-27T14:21:43.876Z"
   },
   {
    "duration": 15,
    "start_time": "2025-03-27T14:21:43.929Z"
   },
   {
    "duration": 19,
    "start_time": "2025-03-27T14:21:43.948Z"
   },
   {
    "duration": 35,
    "start_time": "2025-03-27T14:21:43.969Z"
   },
   {
    "duration": 15,
    "start_time": "2025-03-27T14:21:44.006Z"
   },
   {
    "duration": 20,
    "start_time": "2025-03-27T14:21:44.023Z"
   },
   {
    "duration": 13,
    "start_time": "2025-03-27T14:21:44.045Z"
   },
   {
    "duration": 2751,
    "start_time": "2025-03-27T14:21:44.060Z"
   },
   {
    "duration": 92,
    "start_time": "2025-03-27T14:21:46.818Z"
   },
   {
    "duration": 443,
    "start_time": "2025-03-27T14:21:46.912Z"
   },
   {
    "duration": 7,
    "start_time": "2025-03-27T14:21:47.358Z"
   },
   {
    "duration": 2861,
    "start_time": "2025-03-27T14:21:47.368Z"
   },
   {
    "duration": 25,
    "start_time": "2025-03-27T14:21:50.230Z"
   },
   {
    "duration": 756,
    "start_time": "2025-03-27T14:21:50.257Z"
   },
   {
    "duration": 402,
    "start_time": "2025-03-27T14:21:51.015Z"
   },
   {
    "duration": 27,
    "start_time": "2025-03-27T14:21:51.418Z"
   },
   {
    "duration": 1600,
    "start_time": "2025-03-27T14:21:51.448Z"
   },
   {
    "duration": 0,
    "start_time": "2025-03-27T14:21:53.050Z"
   },
   {
    "duration": 0,
    "start_time": "2025-03-27T14:21:53.052Z"
   },
   {
    "duration": 0,
    "start_time": "2025-03-27T14:21:53.053Z"
   },
   {
    "duration": 0,
    "start_time": "2025-03-27T14:21:53.055Z"
   },
   {
    "duration": 0,
    "start_time": "2025-03-27T14:21:53.056Z"
   },
   {
    "duration": 0,
    "start_time": "2025-03-27T14:21:53.058Z"
   },
   {
    "duration": 0,
    "start_time": "2025-03-27T14:21:53.060Z"
   },
   {
    "duration": 0,
    "start_time": "2025-03-27T14:21:53.062Z"
   },
   {
    "duration": 0,
    "start_time": "2025-03-27T14:21:53.063Z"
   },
   {
    "duration": 0,
    "start_time": "2025-03-27T14:21:53.065Z"
   },
   {
    "duration": 0,
    "start_time": "2025-03-27T14:21:53.067Z"
   },
   {
    "duration": 300,
    "start_time": "2025-03-27T14:23:38.306Z"
   },
   {
    "duration": 229,
    "start_time": "2025-03-27T14:23:48.259Z"
   },
   {
    "duration": 4,
    "start_time": "2025-03-27T14:30:09.548Z"
   },
   {
    "duration": 11,
    "start_time": "2025-03-27T14:30:14.266Z"
   },
   {
    "duration": 254760,
    "start_time": "2025-03-27T14:30:16.941Z"
   },
   {
    "duration": 1805,
    "start_time": "2025-03-27T14:43:01.201Z"
   },
   {
    "duration": 39,
    "start_time": "2025-03-27T14:43:03.008Z"
   },
   {
    "duration": 13,
    "start_time": "2025-03-27T14:43:03.049Z"
   },
   {
    "duration": 36,
    "start_time": "2025-03-27T14:43:03.064Z"
   },
   {
    "duration": 23,
    "start_time": "2025-03-27T14:43:03.102Z"
   },
   {
    "duration": 25,
    "start_time": "2025-03-27T14:43:03.127Z"
   },
   {
    "duration": 18,
    "start_time": "2025-03-27T14:43:03.154Z"
   },
   {
    "duration": 32,
    "start_time": "2025-03-27T14:43:03.173Z"
   },
   {
    "duration": 14,
    "start_time": "2025-03-27T14:43:03.207Z"
   },
   {
    "duration": 2581,
    "start_time": "2025-03-27T14:43:03.224Z"
   },
   {
    "duration": 101,
    "start_time": "2025-03-27T14:43:05.807Z"
   },
   {
    "duration": 348,
    "start_time": "2025-03-27T14:43:05.910Z"
   },
   {
    "duration": 7,
    "start_time": "2025-03-27T14:43:06.260Z"
   },
   {
    "duration": 3001,
    "start_time": "2025-03-27T14:43:06.268Z"
   },
   {
    "duration": 24,
    "start_time": "2025-03-27T14:43:09.270Z"
   },
   {
    "duration": 829,
    "start_time": "2025-03-27T14:43:09.296Z"
   },
   {
    "duration": 417,
    "start_time": "2025-03-27T14:43:10.127Z"
   },
   {
    "duration": 27,
    "start_time": "2025-03-27T14:43:10.546Z"
   },
   {
    "duration": 372,
    "start_time": "2025-03-27T14:43:10.575Z"
   },
   {
    "duration": 260,
    "start_time": "2025-03-27T14:43:10.949Z"
   },
   {
    "duration": 7,
    "start_time": "2025-03-27T14:43:11.211Z"
   },
   {
    "duration": 55,
    "start_time": "2025-03-27T14:43:11.220Z"
   },
   {
    "duration": 170424,
    "start_time": "2025-03-27T14:43:11.277Z"
   },
   {
    "duration": 4,
    "start_time": "2025-03-27T14:46:01.705Z"
   },
   {
    "duration": 928,
    "start_time": "2025-03-27T14:46:01.710Z"
   },
   {
    "duration": 18,
    "start_time": "2025-03-27T14:46:02.641Z"
   },
   {
    "duration": 194,
    "start_time": "2025-03-27T14:46:02.661Z"
   },
   {
    "duration": 0,
    "start_time": "2025-03-27T14:46:02.856Z"
   },
   {
    "duration": 0,
    "start_time": "2025-03-27T14:46:02.858Z"
   },
   {
    "duration": 0,
    "start_time": "2025-03-27T14:46:02.859Z"
   },
   {
    "duration": 5,
    "start_time": "2025-03-27T14:46:41.023Z"
   },
   {
    "duration": 943,
    "start_time": "2025-03-27T14:46:44.035Z"
   },
   {
    "duration": 16,
    "start_time": "2025-03-27T14:46:51.147Z"
   },
   {
    "duration": 17,
    "start_time": "2025-03-27T14:46:56.435Z"
   },
   {
    "duration": 22,
    "start_time": "2025-03-27T14:47:05.107Z"
   },
   {
    "duration": 15,
    "start_time": "2025-03-27T14:48:30.768Z"
   },
   {
    "duration": 11,
    "start_time": "2025-03-27T14:48:35.236Z"
   },
   {
    "duration": 12,
    "start_time": "2025-03-27T14:49:40.451Z"
   },
   {
    "duration": 17,
    "start_time": "2025-03-27T14:50:01.365Z"
   },
   {
    "duration": 366,
    "start_time": "2025-03-27T14:50:26.008Z"
   },
   {
    "duration": 517,
    "start_time": "2025-03-27T14:57:34.652Z"
   },
   {
    "duration": 279,
    "start_time": "2025-03-27T14:57:55.089Z"
   },
   {
    "duration": 291,
    "start_time": "2025-03-27T14:58:05.689Z"
   },
   {
    "duration": 195,
    "start_time": "2025-03-27T15:15:26.861Z"
   },
   {
    "duration": 912394,
    "start_time": "2025-03-27T15:17:20.235Z"
   },
   {
    "duration": 471,
    "start_time": "2025-03-27T15:33:26.998Z"
   },
   {
    "duration": 16,
    "start_time": "2025-03-27T15:33:32.811Z"
   },
   {
    "duration": 72,
    "start_time": "2025-03-27T15:34:49.118Z"
   },
   {
    "duration": 356,
    "start_time": "2025-03-27T15:35:00.089Z"
   },
   {
    "duration": 33,
    "start_time": "2025-03-27T15:40:48.751Z"
   },
   {
    "duration": 1815,
    "start_time": "2025-03-27T15:43:07.206Z"
   },
   {
    "duration": 41,
    "start_time": "2025-03-27T15:43:09.023Z"
   },
   {
    "duration": 36,
    "start_time": "2025-03-27T15:43:09.066Z"
   },
   {
    "duration": 18,
    "start_time": "2025-03-27T15:43:09.104Z"
   },
   {
    "duration": 22,
    "start_time": "2025-03-27T15:43:09.125Z"
   },
   {
    "duration": 13,
    "start_time": "2025-03-27T15:43:09.149Z"
   },
   {
    "duration": 45,
    "start_time": "2025-03-27T15:43:09.163Z"
   },
   {
    "duration": 166,
    "start_time": "2025-03-27T15:43:09.209Z"
   },
   {
    "duration": 18,
    "start_time": "2025-03-27T15:43:09.377Z"
   },
   {
    "duration": 2419,
    "start_time": "2025-03-27T15:43:09.397Z"
   },
   {
    "duration": 187,
    "start_time": "2025-03-27T15:43:11.818Z"
   },
   {
    "duration": 367,
    "start_time": "2025-03-27T15:43:12.007Z"
   },
   {
    "duration": 8,
    "start_time": "2025-03-27T15:43:12.376Z"
   },
   {
    "duration": 2872,
    "start_time": "2025-03-27T15:43:12.405Z"
   },
   {
    "duration": 25,
    "start_time": "2025-03-27T15:43:15.279Z"
   },
   {
    "duration": 901,
    "start_time": "2025-03-27T15:43:15.306Z"
   },
   {
    "duration": 422,
    "start_time": "2025-03-27T15:43:16.211Z"
   },
   {
    "duration": 23,
    "start_time": "2025-03-27T15:43:16.635Z"
   },
   {
    "duration": 378,
    "start_time": "2025-03-27T15:43:16.660Z"
   },
   {
    "duration": 247,
    "start_time": "2025-03-27T15:43:17.040Z"
   },
   {
    "duration": 3,
    "start_time": "2025-03-27T15:43:17.289Z"
   },
   {
    "duration": 100,
    "start_time": "2025-03-27T15:43:17.294Z"
   },
   {
    "duration": 168922,
    "start_time": "2025-03-27T15:43:17.396Z"
   },
   {
    "duration": 5,
    "start_time": "2025-03-27T15:46:06.320Z"
   },
   {
    "duration": 47,
    "start_time": "2025-03-27T15:46:06.326Z"
   },
   {
    "duration": 363,
    "start_time": "2025-03-27T15:46:06.375Z"
   },
   {
    "duration": 376,
    "start_time": "2025-03-27T15:46:06.739Z"
   },
   {
    "duration": 364,
    "start_time": "2025-03-27T15:46:07.117Z"
   },
   {
    "duration": 575,
    "start_time": "2025-03-27T15:46:07.483Z"
   },
   {
    "duration": 3,
    "start_time": "2025-03-27T15:46:08.061Z"
   },
   {
    "duration": 1680,
    "start_time": "2025-03-27T15:54:26.995Z"
   },
   {
    "duration": 51,
    "start_time": "2025-03-27T15:54:28.677Z"
   },
   {
    "duration": 11,
    "start_time": "2025-03-27T15:54:28.730Z"
   },
   {
    "duration": 14,
    "start_time": "2025-03-27T15:54:28.742Z"
   },
   {
    "duration": 19,
    "start_time": "2025-03-27T15:54:28.758Z"
   },
   {
    "duration": 36,
    "start_time": "2025-03-27T15:54:28.778Z"
   },
   {
    "duration": 15,
    "start_time": "2025-03-27T15:54:28.816Z"
   },
   {
    "duration": 16,
    "start_time": "2025-03-27T15:54:28.833Z"
   },
   {
    "duration": 13,
    "start_time": "2025-03-27T15:54:28.851Z"
   },
   {
    "duration": 2139,
    "start_time": "2025-03-27T15:54:28.866Z"
   },
   {
    "duration": 100,
    "start_time": "2025-03-27T15:54:31.013Z"
   },
   {
    "duration": 340,
    "start_time": "2025-03-27T15:54:31.114Z"
   },
   {
    "duration": 7,
    "start_time": "2025-03-27T15:54:31.456Z"
   },
   {
    "duration": 2662,
    "start_time": "2025-03-27T15:54:31.466Z"
   },
   {
    "duration": 25,
    "start_time": "2025-03-27T15:54:34.130Z"
   },
   {
    "duration": 721,
    "start_time": "2025-03-27T15:54:34.157Z"
   },
   {
    "duration": 358,
    "start_time": "2025-03-27T15:54:34.880Z"
   },
   {
    "duration": 3,
    "start_time": "2025-03-27T15:54:35.240Z"
   },
   {
    "duration": 158,
    "start_time": "2025-03-27T15:54:35.245Z"
   },
   {
    "duration": 336,
    "start_time": "2025-03-27T15:54:35.405Z"
   },
   {
    "duration": 235,
    "start_time": "2025-03-27T15:54:35.742Z"
   },
   {
    "duration": 4,
    "start_time": "2025-03-27T15:54:35.979Z"
   },
   {
    "duration": 28,
    "start_time": "2025-03-27T15:54:35.985Z"
   },
   {
    "duration": 629,
    "start_time": "2025-03-27T15:54:36.015Z"
   },
   {
    "duration": 0,
    "start_time": "2025-03-27T15:54:36.646Z"
   },
   {
    "duration": 0,
    "start_time": "2025-03-27T15:54:36.647Z"
   },
   {
    "duration": 0,
    "start_time": "2025-03-27T15:54:36.648Z"
   },
   {
    "duration": 0,
    "start_time": "2025-03-27T15:54:36.650Z"
   },
   {
    "duration": 0,
    "start_time": "2025-03-27T15:54:36.651Z"
   },
   {
    "duration": 0,
    "start_time": "2025-03-27T15:54:36.653Z"
   },
   {
    "duration": 0,
    "start_time": "2025-03-27T15:54:36.654Z"
   },
   {
    "duration": 1769,
    "start_time": "2025-03-27T15:56:36.581Z"
   },
   {
    "duration": 38,
    "start_time": "2025-03-27T15:56:38.352Z"
   },
   {
    "duration": 126,
    "start_time": "2025-03-27T15:56:38.392Z"
   },
   {
    "duration": 24,
    "start_time": "2025-03-27T15:56:38.520Z"
   },
   {
    "duration": 18,
    "start_time": "2025-03-27T15:56:38.546Z"
   },
   {
    "duration": 12,
    "start_time": "2025-03-27T15:56:38.566Z"
   },
   {
    "duration": 27,
    "start_time": "2025-03-27T15:56:38.580Z"
   },
   {
    "duration": 9,
    "start_time": "2025-03-27T15:56:38.609Z"
   },
   {
    "duration": 13,
    "start_time": "2025-03-27T15:56:38.620Z"
   },
   {
    "duration": 2572,
    "start_time": "2025-03-27T15:56:38.635Z"
   },
   {
    "duration": 102,
    "start_time": "2025-03-27T15:56:41.213Z"
   },
   {
    "duration": 391,
    "start_time": "2025-03-27T15:56:41.317Z"
   },
   {
    "duration": 8,
    "start_time": "2025-03-27T15:56:41.711Z"
   },
   {
    "duration": 2676,
    "start_time": "2025-03-27T15:56:41.720Z"
   },
   {
    "duration": 25,
    "start_time": "2025-03-27T15:56:44.398Z"
   },
   {
    "duration": 858,
    "start_time": "2025-03-27T15:56:44.424Z"
   },
   {
    "duration": 405,
    "start_time": "2025-03-27T15:56:45.283Z"
   },
   {
    "duration": 3,
    "start_time": "2025-03-27T15:56:45.690Z"
   },
   {
    "duration": 57,
    "start_time": "2025-03-27T15:56:45.704Z"
   },
   {
    "duration": 314,
    "start_time": "2025-03-27T15:56:45.763Z"
   },
   {
    "duration": 239,
    "start_time": "2025-03-27T15:56:46.078Z"
   },
   {
    "duration": 4,
    "start_time": "2025-03-27T15:56:46.319Z"
   },
   {
    "duration": 191,
    "start_time": "2025-03-27T15:56:46.325Z"
   },
   {
    "duration": 239863,
    "start_time": "2025-03-27T15:56:46.518Z"
   },
   {
    "duration": 4,
    "start_time": "2025-03-27T16:00:46.382Z"
   },
   {
    "duration": 22,
    "start_time": "2025-03-27T16:00:46.388Z"
   },
   {
    "duration": 417,
    "start_time": "2025-03-27T16:00:46.412Z"
   },
   {
    "duration": 419,
    "start_time": "2025-03-27T16:00:46.833Z"
   },
   {
    "duration": 182,
    "start_time": "2025-03-27T16:00:47.253Z"
   },
   {
    "duration": 507,
    "start_time": "2025-03-27T16:00:47.437Z"
   },
   {
    "duration": 2,
    "start_time": "2025-03-27T16:00:47.946Z"
   },
   {
    "duration": 5,
    "start_time": "2025-03-27T16:01:51.935Z"
   },
   {
    "duration": 1705,
    "start_time": "2025-03-27T16:12:21.676Z"
   },
   {
    "duration": 38,
    "start_time": "2025-03-27T16:12:23.383Z"
   },
   {
    "duration": 86,
    "start_time": "2025-03-27T16:12:23.423Z"
   },
   {
    "duration": 30,
    "start_time": "2025-03-27T16:12:23.511Z"
   },
   {
    "duration": 40,
    "start_time": "2025-03-27T16:12:23.543Z"
   },
   {
    "duration": 34,
    "start_time": "2025-03-27T16:12:23.585Z"
   },
   {
    "duration": 21,
    "start_time": "2025-03-27T16:12:23.620Z"
   },
   {
    "duration": 45,
    "start_time": "2025-03-27T16:12:23.642Z"
   },
   {
    "duration": 24,
    "start_time": "2025-03-27T16:12:23.688Z"
   },
   {
    "duration": 2196,
    "start_time": "2025-03-27T16:12:23.714Z"
   },
   {
    "duration": 193,
    "start_time": "2025-03-27T16:12:25.912Z"
   },
   {
    "duration": 331,
    "start_time": "2025-03-27T16:12:26.106Z"
   },
   {
    "duration": 7,
    "start_time": "2025-03-27T16:12:26.438Z"
   },
   {
    "duration": 2734,
    "start_time": "2025-03-27T16:12:26.447Z"
   },
   {
    "duration": 23,
    "start_time": "2025-03-27T16:12:29.182Z"
   },
   {
    "duration": 747,
    "start_time": "2025-03-27T16:12:29.207Z"
   },
   {
    "duration": 369,
    "start_time": "2025-03-27T16:12:29.956Z"
   },
   {
    "duration": 3,
    "start_time": "2025-03-27T16:12:30.327Z"
   },
   {
    "duration": 407,
    "start_time": "2025-03-27T16:12:30.332Z"
   },
   {
    "duration": 0,
    "start_time": "2025-03-27T16:12:30.741Z"
   },
   {
    "duration": 0,
    "start_time": "2025-03-27T16:12:30.742Z"
   },
   {
    "duration": 0,
    "start_time": "2025-03-27T16:12:30.743Z"
   },
   {
    "duration": 0,
    "start_time": "2025-03-27T16:12:30.744Z"
   },
   {
    "duration": 0,
    "start_time": "2025-03-27T16:12:30.746Z"
   },
   {
    "duration": 0,
    "start_time": "2025-03-27T16:12:30.746Z"
   },
   {
    "duration": 0,
    "start_time": "2025-03-27T16:12:30.747Z"
   },
   {
    "duration": 0,
    "start_time": "2025-03-27T16:12:30.749Z"
   },
   {
    "duration": 0,
    "start_time": "2025-03-27T16:12:30.750Z"
   },
   {
    "duration": 0,
    "start_time": "2025-03-27T16:12:30.751Z"
   },
   {
    "duration": 0,
    "start_time": "2025-03-27T16:12:30.752Z"
   },
   {
    "duration": 0,
    "start_time": "2025-03-27T16:12:30.753Z"
   },
   {
    "duration": 1577,
    "start_time": "2025-03-27T16:14:23.798Z"
   },
   {
    "duration": 37,
    "start_time": "2025-03-27T16:14:25.377Z"
   },
   {
    "duration": 35,
    "start_time": "2025-03-27T16:14:25.416Z"
   },
   {
    "duration": 13,
    "start_time": "2025-03-27T16:14:25.453Z"
   },
   {
    "duration": 39,
    "start_time": "2025-03-27T16:14:25.468Z"
   },
   {
    "duration": 13,
    "start_time": "2025-03-27T16:14:25.508Z"
   },
   {
    "duration": 26,
    "start_time": "2025-03-27T16:14:25.523Z"
   },
   {
    "duration": 17,
    "start_time": "2025-03-27T16:14:25.551Z"
   },
   {
    "duration": 13,
    "start_time": "2025-03-27T16:14:25.569Z"
   },
   {
    "duration": 2127,
    "start_time": "2025-03-27T16:14:25.584Z"
   },
   {
    "duration": 105,
    "start_time": "2025-03-27T16:14:27.803Z"
   },
   {
    "duration": 344,
    "start_time": "2025-03-27T16:14:27.909Z"
   },
   {
    "duration": 8,
    "start_time": "2025-03-27T16:14:28.255Z"
   },
   {
    "duration": 2631,
    "start_time": "2025-03-27T16:14:28.266Z"
   },
   {
    "duration": 24,
    "start_time": "2025-03-27T16:14:30.899Z"
   },
   {
    "duration": 743,
    "start_time": "2025-03-27T16:14:30.924Z"
   },
   {
    "duration": 363,
    "start_time": "2025-03-27T16:14:31.669Z"
   },
   {
    "duration": 3,
    "start_time": "2025-03-27T16:14:32.033Z"
   },
   {
    "duration": 74,
    "start_time": "2025-03-27T16:14:32.039Z"
   },
   {
    "duration": 321,
    "start_time": "2025-03-27T16:14:32.115Z"
   },
   {
    "duration": 232,
    "start_time": "2025-03-27T16:14:32.438Z"
   },
   {
    "duration": 7,
    "start_time": "2025-03-27T16:14:32.672Z"
   },
   {
    "duration": 27,
    "start_time": "2025-03-27T16:14:32.680Z"
   },
   {
    "duration": 457463,
    "start_time": "2025-03-27T16:14:32.708Z"
   },
   {
    "duration": 4,
    "start_time": "2025-03-27T16:22:10.173Z"
   },
   {
    "duration": 25,
    "start_time": "2025-03-27T16:22:10.179Z"
   },
   {
    "duration": 410,
    "start_time": "2025-03-27T16:22:10.205Z"
   },
   {
    "duration": 544,
    "start_time": "2025-03-27T16:22:10.619Z"
   },
   {
    "duration": 182,
    "start_time": "2025-03-27T16:22:11.166Z"
   },
   {
    "duration": 483,
    "start_time": "2025-03-27T16:22:11.350Z"
   },
   {
    "duration": 4,
    "start_time": "2025-03-27T16:22:11.835Z"
   },
   {
    "duration": 137,
    "start_time": "2025-03-27T16:24:02.857Z"
   },
   {
    "duration": 12,
    "start_time": "2025-03-27T16:26:42.622Z"
   },
   {
    "duration": 30,
    "start_time": "2025-03-27T16:32:27.736Z"
   },
   {
    "duration": 1654,
    "start_time": "2025-03-27T16:32:57.856Z"
   },
   {
    "duration": 51,
    "start_time": "2025-03-27T16:32:59.512Z"
   },
   {
    "duration": 14,
    "start_time": "2025-03-27T16:32:59.565Z"
   },
   {
    "duration": 12,
    "start_time": "2025-03-27T16:32:59.581Z"
   },
   {
    "duration": 37,
    "start_time": "2025-03-27T16:32:59.595Z"
   },
   {
    "duration": 13,
    "start_time": "2025-03-27T16:32:59.633Z"
   },
   {
    "duration": 14,
    "start_time": "2025-03-27T16:32:59.648Z"
   },
   {
    "duration": 13,
    "start_time": "2025-03-27T16:32:59.664Z"
   },
   {
    "duration": 26,
    "start_time": "2025-03-27T16:32:59.679Z"
   },
   {
    "duration": 2102,
    "start_time": "2025-03-27T16:32:59.708Z"
   },
   {
    "duration": 191,
    "start_time": "2025-03-27T16:33:01.812Z"
   },
   {
    "duration": 339,
    "start_time": "2025-03-27T16:33:02.005Z"
   },
   {
    "duration": 6,
    "start_time": "2025-03-27T16:33:02.347Z"
   },
   {
    "duration": 2605,
    "start_time": "2025-03-27T16:33:02.355Z"
   },
   {
    "duration": 23,
    "start_time": "2025-03-27T16:33:04.962Z"
   },
   {
    "duration": 775,
    "start_time": "2025-03-27T16:33:04.986Z"
   },
   {
    "duration": 368,
    "start_time": "2025-03-27T16:33:05.763Z"
   },
   {
    "duration": 4,
    "start_time": "2025-03-27T16:33:06.132Z"
   },
   {
    "duration": 72,
    "start_time": "2025-03-27T16:33:06.137Z"
   },
   {
    "duration": 327,
    "start_time": "2025-03-27T16:33:06.210Z"
   },
   {
    "duration": 237,
    "start_time": "2025-03-27T16:33:06.539Z"
   },
   {
    "duration": 5,
    "start_time": "2025-03-27T16:33:06.777Z"
   },
   {
    "duration": 44,
    "start_time": "2025-03-27T16:33:06.783Z"
   },
   {
    "duration": 189260,
    "start_time": "2025-03-27T16:33:06.829Z"
   },
   {
    "duration": 4,
    "start_time": "2025-03-27T16:36:16.090Z"
   },
   {
    "duration": 15,
    "start_time": "2025-03-27T16:36:16.104Z"
   },
   {
    "duration": 273,
    "start_time": "2025-03-27T16:36:16.120Z"
   },
   {
    "duration": 386,
    "start_time": "2025-03-27T16:36:16.403Z"
   },
   {
    "duration": 18,
    "start_time": "2025-03-27T16:36:16.791Z"
   },
   {
    "duration": 344,
    "start_time": "2025-03-27T16:36:16.811Z"
   },
   {
    "duration": 499,
    "start_time": "2025-03-27T16:36:17.157Z"
   },
   {
    "duration": 4,
    "start_time": "2025-03-27T16:36:17.658Z"
   },
   {
    "duration": 2926,
    "start_time": "2025-03-27T16:51:55.619Z"
   },
   {
    "duration": 38,
    "start_time": "2025-03-27T16:51:58.547Z"
   },
   {
    "duration": 106,
    "start_time": "2025-03-27T16:51:58.587Z"
   },
   {
    "duration": 16,
    "start_time": "2025-03-27T16:51:58.694Z"
   },
   {
    "duration": 43,
    "start_time": "2025-03-27T16:51:58.713Z"
   },
   {
    "duration": 36,
    "start_time": "2025-03-27T16:51:58.758Z"
   },
   {
    "duration": 16,
    "start_time": "2025-03-27T16:51:58.796Z"
   },
   {
    "duration": 11,
    "start_time": "2025-03-27T16:51:58.814Z"
   },
   {
    "duration": 14,
    "start_time": "2025-03-27T16:51:58.827Z"
   },
   {
    "duration": 2165,
    "start_time": "2025-03-27T16:51:58.842Z"
   },
   {
    "duration": 101,
    "start_time": "2025-03-27T16:52:01.013Z"
   },
   {
    "duration": 339,
    "start_time": "2025-03-27T16:52:01.116Z"
   },
   {
    "duration": 8,
    "start_time": "2025-03-27T16:52:01.456Z"
   },
   {
    "duration": 2610,
    "start_time": "2025-03-27T16:52:01.467Z"
   },
   {
    "duration": 23,
    "start_time": "2025-03-27T16:52:04.078Z"
   },
   {
    "duration": 755,
    "start_time": "2025-03-27T16:52:04.104Z"
   },
   {
    "duration": 380,
    "start_time": "2025-03-27T16:52:04.861Z"
   },
   {
    "duration": 3,
    "start_time": "2025-03-27T16:52:05.243Z"
   },
   {
    "duration": 73,
    "start_time": "2025-03-27T16:52:05.248Z"
   },
   {
    "duration": 0,
    "start_time": "2025-03-27T16:52:05.323Z"
   },
   {
    "duration": 0,
    "start_time": "2025-03-27T16:52:05.324Z"
   },
   {
    "duration": 0,
    "start_time": "2025-03-27T16:52:05.325Z"
   },
   {
    "duration": 0,
    "start_time": "2025-03-27T16:52:05.326Z"
   },
   {
    "duration": 0,
    "start_time": "2025-03-27T16:52:05.328Z"
   },
   {
    "duration": 0,
    "start_time": "2025-03-27T16:52:05.329Z"
   },
   {
    "duration": 0,
    "start_time": "2025-03-27T16:52:05.330Z"
   },
   {
    "duration": 0,
    "start_time": "2025-03-27T16:52:05.332Z"
   },
   {
    "duration": 0,
    "start_time": "2025-03-27T16:52:05.333Z"
   },
   {
    "duration": 0,
    "start_time": "2025-03-27T16:52:05.334Z"
   },
   {
    "duration": 0,
    "start_time": "2025-03-27T16:52:05.335Z"
   },
   {
    "duration": 0,
    "start_time": "2025-03-27T16:52:05.336Z"
   },
   {
    "duration": 0,
    "start_time": "2025-03-27T16:52:05.337Z"
   },
   {
    "duration": 0,
    "start_time": "2025-03-27T16:52:05.338Z"
   },
   {
    "duration": 0,
    "start_time": "2025-03-27T16:52:05.339Z"
   },
   {
    "duration": 1741,
    "start_time": "2025-03-27T16:52:25.993Z"
   },
   {
    "duration": 39,
    "start_time": "2025-03-27T16:52:27.736Z"
   },
   {
    "duration": 12,
    "start_time": "2025-03-27T16:52:27.777Z"
   },
   {
    "duration": 22,
    "start_time": "2025-03-27T16:52:27.791Z"
   },
   {
    "duration": 26,
    "start_time": "2025-03-27T16:52:27.816Z"
   },
   {
    "duration": 12,
    "start_time": "2025-03-27T16:52:27.844Z"
   },
   {
    "duration": 14,
    "start_time": "2025-03-27T16:52:27.858Z"
   },
   {
    "duration": 38,
    "start_time": "2025-03-27T16:52:27.873Z"
   },
   {
    "duration": 13,
    "start_time": "2025-03-27T16:52:27.913Z"
   },
   {
    "duration": 1984,
    "start_time": "2025-03-27T16:52:27.927Z"
   },
   {
    "duration": 194,
    "start_time": "2025-03-27T16:52:29.913Z"
   },
   {
    "duration": 383,
    "start_time": "2025-03-27T16:52:30.109Z"
   },
   {
    "duration": 10,
    "start_time": "2025-03-27T16:52:30.494Z"
   },
   {
    "duration": 2754,
    "start_time": "2025-03-27T16:52:30.507Z"
   },
   {
    "duration": 25,
    "start_time": "2025-03-27T16:52:33.263Z"
   },
   {
    "duration": 859,
    "start_time": "2025-03-27T16:52:33.289Z"
   },
   {
    "duration": 386,
    "start_time": "2025-03-27T16:52:34.150Z"
   },
   {
    "duration": 4,
    "start_time": "2025-03-27T16:52:34.538Z"
   },
   {
    "duration": 328,
    "start_time": "2025-03-27T16:52:34.544Z"
   },
   {
    "duration": 0,
    "start_time": "2025-03-27T16:52:34.875Z"
   },
   {
    "duration": 0,
    "start_time": "2025-03-27T16:52:34.876Z"
   },
   {
    "duration": 0,
    "start_time": "2025-03-27T16:52:34.878Z"
   },
   {
    "duration": 0,
    "start_time": "2025-03-27T16:52:34.879Z"
   },
   {
    "duration": 0,
    "start_time": "2025-03-27T16:52:34.881Z"
   },
   {
    "duration": 0,
    "start_time": "2025-03-27T16:52:34.883Z"
   },
   {
    "duration": 0,
    "start_time": "2025-03-27T16:52:34.884Z"
   },
   {
    "duration": 0,
    "start_time": "2025-03-27T16:52:34.905Z"
   },
   {
    "duration": 0,
    "start_time": "2025-03-27T16:52:34.907Z"
   },
   {
    "duration": 0,
    "start_time": "2025-03-27T16:52:34.909Z"
   },
   {
    "duration": 0,
    "start_time": "2025-03-27T16:52:34.910Z"
   },
   {
    "duration": 0,
    "start_time": "2025-03-27T16:52:34.912Z"
   },
   {
    "duration": 0,
    "start_time": "2025-03-27T16:52:34.913Z"
   },
   {
    "duration": 0,
    "start_time": "2025-03-27T16:52:34.915Z"
   },
   {
    "duration": 0,
    "start_time": "2025-03-27T16:52:34.917Z"
   },
   {
    "duration": 1654,
    "start_time": "2025-03-27T16:53:15.381Z"
   },
   {
    "duration": 39,
    "start_time": "2025-03-27T16:53:17.037Z"
   },
   {
    "duration": 12,
    "start_time": "2025-03-27T16:53:17.077Z"
   },
   {
    "duration": 16,
    "start_time": "2025-03-27T16:53:17.091Z"
   },
   {
    "duration": 18,
    "start_time": "2025-03-27T16:53:17.109Z"
   },
   {
    "duration": 13,
    "start_time": "2025-03-27T16:53:17.128Z"
   },
   {
    "duration": 14,
    "start_time": "2025-03-27T16:53:17.143Z"
   },
   {
    "duration": 46,
    "start_time": "2025-03-27T16:53:17.159Z"
   },
   {
    "duration": 13,
    "start_time": "2025-03-27T16:53:17.207Z"
   },
   {
    "duration": 3594,
    "start_time": "2025-03-27T16:53:17.223Z"
   },
   {
    "duration": 184,
    "start_time": "2025-03-27T16:53:20.820Z"
   },
   {
    "duration": 342,
    "start_time": "2025-03-27T16:53:21.007Z"
   },
   {
    "duration": 7,
    "start_time": "2025-03-27T16:53:21.351Z"
   },
   {
    "duration": 2669,
    "start_time": "2025-03-27T16:53:21.360Z"
   },
   {
    "duration": 24,
    "start_time": "2025-03-27T16:53:24.031Z"
   },
   {
    "duration": 731,
    "start_time": "2025-03-27T16:53:24.057Z"
   },
   {
    "duration": 384,
    "start_time": "2025-03-27T16:53:24.790Z"
   },
   {
    "duration": 3,
    "start_time": "2025-03-27T16:53:25.176Z"
   },
   {
    "duration": 6610,
    "start_time": "2025-03-27T16:53:25.181Z"
   },
   {
    "duration": 0,
    "start_time": "2025-03-27T16:53:31.793Z"
   },
   {
    "duration": 0,
    "start_time": "2025-03-27T16:53:31.794Z"
   },
   {
    "duration": 0,
    "start_time": "2025-03-27T16:53:31.795Z"
   },
   {
    "duration": 0,
    "start_time": "2025-03-27T16:53:31.796Z"
   },
   {
    "duration": 0,
    "start_time": "2025-03-27T16:53:31.797Z"
   },
   {
    "duration": 0,
    "start_time": "2025-03-27T16:53:31.798Z"
   },
   {
    "duration": 0,
    "start_time": "2025-03-27T16:53:31.800Z"
   },
   {
    "duration": 0,
    "start_time": "2025-03-27T16:53:31.801Z"
   },
   {
    "duration": 0,
    "start_time": "2025-03-27T16:53:31.801Z"
   },
   {
    "duration": 0,
    "start_time": "2025-03-27T16:53:31.802Z"
   },
   {
    "duration": 0,
    "start_time": "2025-03-27T16:53:31.803Z"
   },
   {
    "duration": 0,
    "start_time": "2025-03-27T16:53:31.804Z"
   },
   {
    "duration": 0,
    "start_time": "2025-03-27T16:53:31.805Z"
   },
   {
    "duration": 0,
    "start_time": "2025-03-27T16:53:31.807Z"
   },
   {
    "duration": 0,
    "start_time": "2025-03-27T16:53:31.808Z"
   },
   {
    "duration": 1714,
    "start_time": "2025-03-27T16:54:57.445Z"
   },
   {
    "duration": 37,
    "start_time": "2025-03-27T16:54:59.161Z"
   },
   {
    "duration": 22,
    "start_time": "2025-03-27T16:54:59.200Z"
   },
   {
    "duration": 56,
    "start_time": "2025-03-27T16:54:59.224Z"
   },
   {
    "duration": 59,
    "start_time": "2025-03-27T16:54:59.282Z"
   },
   {
    "duration": 14,
    "start_time": "2025-03-27T16:54:59.342Z"
   },
   {
    "duration": 15,
    "start_time": "2025-03-27T16:54:59.357Z"
   },
   {
    "duration": 11,
    "start_time": "2025-03-27T16:54:59.373Z"
   },
   {
    "duration": 31,
    "start_time": "2025-03-27T16:54:59.386Z"
   },
   {
    "duration": 3198,
    "start_time": "2025-03-27T16:54:59.420Z"
   },
   {
    "duration": 195,
    "start_time": "2025-03-27T16:55:02.620Z"
   },
   {
    "duration": 336,
    "start_time": "2025-03-27T16:55:02.817Z"
   },
   {
    "duration": 6,
    "start_time": "2025-03-27T16:55:03.155Z"
   },
   {
    "duration": 2758,
    "start_time": "2025-03-27T16:55:03.163Z"
   },
   {
    "duration": 27,
    "start_time": "2025-03-27T16:55:05.923Z"
   },
   {
    "duration": 828,
    "start_time": "2025-03-27T16:55:05.952Z"
   },
   {
    "duration": 385,
    "start_time": "2025-03-27T16:55:06.782Z"
   },
   {
    "duration": 4,
    "start_time": "2025-03-27T16:55:07.169Z"
   },
   {
    "duration": 5312,
    "start_time": "2025-03-27T16:55:07.175Z"
   },
   {
    "duration": 370,
    "start_time": "2025-03-27T16:55:12.489Z"
   },
   {
    "duration": 255,
    "start_time": "2025-03-27T16:55:12.861Z"
   },
   {
    "duration": 10,
    "start_time": "2025-03-27T16:55:13.119Z"
   },
   {
    "duration": 9,
    "start_time": "2025-03-27T16:55:13.135Z"
   },
   {
    "duration": 21,
    "start_time": "2025-03-27T16:55:13.146Z"
   },
   {
    "duration": 9,
    "start_time": "2025-03-27T16:55:13.169Z"
   },
   {
    "duration": 160,
    "start_time": "2025-03-27T16:55:13.180Z"
   },
   {
    "duration": 0,
    "start_time": "2025-03-27T16:55:13.342Z"
   },
   {
    "duration": 0,
    "start_time": "2025-03-27T16:55:13.343Z"
   },
   {
    "duration": 0,
    "start_time": "2025-03-27T16:55:13.344Z"
   },
   {
    "duration": 0,
    "start_time": "2025-03-27T16:55:13.345Z"
   },
   {
    "duration": 0,
    "start_time": "2025-03-27T16:55:13.346Z"
   },
   {
    "duration": 0,
    "start_time": "2025-03-27T16:55:13.347Z"
   },
   {
    "duration": 0,
    "start_time": "2025-03-27T16:55:13.349Z"
   },
   {
    "duration": 0,
    "start_time": "2025-03-27T16:55:13.350Z"
   },
   {
    "duration": 1707,
    "start_time": "2025-03-27T16:55:54.161Z"
   },
   {
    "duration": 44,
    "start_time": "2025-03-27T16:55:55.870Z"
   },
   {
    "duration": 17,
    "start_time": "2025-03-27T16:55:55.916Z"
   },
   {
    "duration": 12,
    "start_time": "2025-03-27T16:55:55.936Z"
   },
   {
    "duration": 17,
    "start_time": "2025-03-27T16:55:55.950Z"
   },
   {
    "duration": 61,
    "start_time": "2025-03-27T16:55:55.969Z"
   },
   {
    "duration": 14,
    "start_time": "2025-03-27T16:55:56.033Z"
   },
   {
    "duration": 9,
    "start_time": "2025-03-27T16:55:56.049Z"
   },
   {
    "duration": 13,
    "start_time": "2025-03-27T16:55:56.060Z"
   },
   {
    "duration": 3040,
    "start_time": "2025-03-27T16:55:56.075Z"
   },
   {
    "duration": 98,
    "start_time": "2025-03-27T16:55:59.117Z"
   },
   {
    "duration": 424,
    "start_time": "2025-03-27T16:55:59.220Z"
   },
   {
    "duration": 7,
    "start_time": "2025-03-27T16:55:59.646Z"
   },
   {
    "duration": 2742,
    "start_time": "2025-03-27T16:55:59.654Z"
   },
   {
    "duration": 26,
    "start_time": "2025-03-27T16:56:02.398Z"
   },
   {
    "duration": 792,
    "start_time": "2025-03-27T16:56:02.426Z"
   },
   {
    "duration": 405,
    "start_time": "2025-03-27T16:56:03.220Z"
   },
   {
    "duration": 3,
    "start_time": "2025-03-27T16:56:03.626Z"
   },
   {
    "duration": 4456,
    "start_time": "2025-03-27T16:56:03.631Z"
   },
   {
    "duration": 369,
    "start_time": "2025-03-27T16:56:08.089Z"
   },
   {
    "duration": 263,
    "start_time": "2025-03-27T16:56:08.460Z"
   },
   {
    "duration": 5,
    "start_time": "2025-03-27T16:56:08.728Z"
   },
   {
    "duration": 60,
    "start_time": "2025-03-27T16:56:08.735Z"
   },
   {
    "duration": 19,
    "start_time": "2025-03-27T16:56:08.797Z"
   },
   {
    "duration": 8,
    "start_time": "2025-03-27T16:56:08.818Z"
   },
   {
    "duration": 153,
    "start_time": "2025-03-27T16:56:08.828Z"
   },
   {
    "duration": 0,
    "start_time": "2025-03-27T16:56:08.983Z"
   },
   {
    "duration": 0,
    "start_time": "2025-03-27T16:56:08.984Z"
   },
   {
    "duration": 0,
    "start_time": "2025-03-27T16:56:08.985Z"
   },
   {
    "duration": 1,
    "start_time": "2025-03-27T16:56:08.986Z"
   },
   {
    "duration": 0,
    "start_time": "2025-03-27T16:56:08.988Z"
   },
   {
    "duration": 0,
    "start_time": "2025-03-27T16:56:08.989Z"
   },
   {
    "duration": 0,
    "start_time": "2025-03-27T16:56:08.990Z"
   },
   {
    "duration": 0,
    "start_time": "2025-03-27T16:56:09.008Z"
   },
   {
    "duration": 1653,
    "start_time": "2025-03-27T16:57:05.437Z"
   },
   {
    "duration": 40,
    "start_time": "2025-03-27T16:57:07.092Z"
   },
   {
    "duration": 13,
    "start_time": "2025-03-27T16:57:07.134Z"
   },
   {
    "duration": 35,
    "start_time": "2025-03-27T16:57:07.149Z"
   },
   {
    "duration": 27,
    "start_time": "2025-03-27T16:57:07.186Z"
   },
   {
    "duration": 36,
    "start_time": "2025-03-27T16:57:07.215Z"
   },
   {
    "duration": 18,
    "start_time": "2025-03-27T16:57:07.253Z"
   },
   {
    "duration": 19,
    "start_time": "2025-03-27T16:57:07.273Z"
   },
   {
    "duration": 13,
    "start_time": "2025-03-27T16:57:07.295Z"
   },
   {
    "duration": 1694,
    "start_time": "2025-03-27T16:57:07.312Z"
   },
   {
    "duration": 102,
    "start_time": "2025-03-27T16:57:09.009Z"
   },
   {
    "duration": 332,
    "start_time": "2025-03-27T16:57:09.113Z"
   },
   {
    "duration": 7,
    "start_time": "2025-03-27T16:57:09.446Z"
   },
   {
    "duration": 2711,
    "start_time": "2025-03-27T16:57:09.454Z"
   },
   {
    "duration": 24,
    "start_time": "2025-03-27T16:57:12.166Z"
   },
   {
    "duration": 765,
    "start_time": "2025-03-27T16:57:12.192Z"
   },
   {
    "duration": 384,
    "start_time": "2025-03-27T16:57:12.959Z"
   },
   {
    "duration": 3,
    "start_time": "2025-03-27T16:57:13.345Z"
   },
   {
    "duration": 4326,
    "start_time": "2025-03-27T16:57:13.350Z"
   },
   {
    "duration": 319,
    "start_time": "2025-03-27T16:57:17.677Z"
   },
   {
    "duration": 249,
    "start_time": "2025-03-27T16:57:17.998Z"
   },
   {
    "duration": 7,
    "start_time": "2025-03-27T16:57:18.250Z"
   },
   {
    "duration": 12,
    "start_time": "2025-03-27T16:57:18.259Z"
   },
   {
    "duration": 34,
    "start_time": "2025-03-27T16:57:18.273Z"
   },
   {
    "duration": 18,
    "start_time": "2025-03-27T16:57:18.309Z"
   },
   {
    "duration": 549339,
    "start_time": "2025-03-27T16:57:18.330Z"
   },
   {
    "duration": 4,
    "start_time": "2025-03-27T17:06:27.671Z"
   },
   {
    "duration": 28,
    "start_time": "2025-03-27T17:06:27.678Z"
   },
   {
    "duration": 275,
    "start_time": "2025-03-27T17:06:27.710Z"
   },
   {
    "duration": 349,
    "start_time": "2025-03-27T17:06:27.987Z"
   },
   {
    "duration": 12,
    "start_time": "2025-03-27T17:06:28.337Z"
   },
   {
    "duration": 188,
    "start_time": "2025-03-27T17:06:28.351Z"
   },
   {
    "duration": 512,
    "start_time": "2025-03-27T17:06:28.541Z"
   },
   {
    "duration": 3,
    "start_time": "2025-03-27T17:06:29.054Z"
   },
   {
    "duration": 1669,
    "start_time": "2025-03-27T17:11:47.049Z"
   },
   {
    "duration": 49,
    "start_time": "2025-03-27T17:11:48.720Z"
   },
   {
    "duration": 30,
    "start_time": "2025-03-27T17:11:48.771Z"
   },
   {
    "duration": 13,
    "start_time": "2025-03-27T17:11:48.802Z"
   },
   {
    "duration": 18,
    "start_time": "2025-03-27T17:11:48.817Z"
   },
   {
    "duration": 12,
    "start_time": "2025-03-27T17:11:48.837Z"
   },
   {
    "duration": 14,
    "start_time": "2025-03-27T17:11:48.851Z"
   },
   {
    "duration": 44,
    "start_time": "2025-03-27T17:11:48.867Z"
   },
   {
    "duration": 13,
    "start_time": "2025-03-27T17:11:48.913Z"
   },
   {
    "duration": 1987,
    "start_time": "2025-03-27T17:11:48.928Z"
   },
   {
    "duration": 189,
    "start_time": "2025-03-27T17:11:50.917Z"
   },
   {
    "duration": 341,
    "start_time": "2025-03-27T17:11:51.107Z"
   },
   {
    "duration": 7,
    "start_time": "2025-03-27T17:11:51.450Z"
   },
   {
    "duration": 2632,
    "start_time": "2025-03-27T17:11:51.460Z"
   },
   {
    "duration": 24,
    "start_time": "2025-03-27T17:11:54.094Z"
   },
   {
    "duration": 746,
    "start_time": "2025-03-27T17:11:54.119Z"
   },
   {
    "duration": 352,
    "start_time": "2025-03-27T17:11:54.867Z"
   },
   {
    "duration": 3,
    "start_time": "2025-03-27T17:11:55.221Z"
   },
   {
    "duration": 4825,
    "start_time": "2025-03-27T17:11:55.226Z"
   },
   {
    "duration": 355,
    "start_time": "2025-03-27T17:12:00.105Z"
   },
   {
    "duration": 230,
    "start_time": "2025-03-27T17:12:00.462Z"
   },
   {
    "duration": 11,
    "start_time": "2025-03-27T17:12:00.694Z"
   },
   {
    "duration": 104,
    "start_time": "2025-03-27T17:12:00.707Z"
   },
   {
    "duration": 14,
    "start_time": "2025-03-27T17:12:00.813Z"
   },
   {
    "duration": 35,
    "start_time": "2025-03-27T17:12:00.828Z"
   },
   {
    "duration": 100432,
    "start_time": "2025-03-27T17:12:00.865Z"
   },
   {
    "duration": 10,
    "start_time": "2025-03-27T17:13:41.299Z"
   },
   {
    "duration": 90,
    "start_time": "2025-03-27T17:13:41.311Z"
   },
   {
    "duration": 290,
    "start_time": "2025-03-27T17:13:41.407Z"
   },
   {
    "duration": 376,
    "start_time": "2025-03-27T17:13:41.699Z"
   },
   {
    "duration": 12,
    "start_time": "2025-03-27T17:13:42.077Z"
   },
   {
    "duration": 181,
    "start_time": "2025-03-27T17:13:42.104Z"
   },
   {
    "duration": 570,
    "start_time": "2025-03-27T17:13:42.287Z"
   },
   {
    "duration": 3,
    "start_time": "2025-03-27T17:13:42.859Z"
   },
   {
    "duration": 317,
    "start_time": "2025-03-27T17:15:52.067Z"
   },
   {
    "duration": 24,
    "start_time": "2025-03-27T17:16:58.734Z"
   },
   {
    "duration": 33,
    "start_time": "2025-03-27T17:17:43.274Z"
   },
   {
    "duration": 1804,
    "start_time": "2025-03-27T17:22:03.316Z"
   },
   {
    "duration": 41,
    "start_time": "2025-03-27T17:22:05.123Z"
   },
   {
    "duration": 11,
    "start_time": "2025-03-27T17:22:05.166Z"
   },
   {
    "duration": 23,
    "start_time": "2025-03-27T17:22:05.179Z"
   },
   {
    "duration": 24,
    "start_time": "2025-03-27T17:22:05.205Z"
   },
   {
    "duration": 15,
    "start_time": "2025-03-27T17:22:05.231Z"
   },
   {
    "duration": 16,
    "start_time": "2025-03-27T17:22:05.248Z"
   },
   {
    "duration": 46,
    "start_time": "2025-03-27T17:22:05.265Z"
   },
   {
    "duration": 18,
    "start_time": "2025-03-27T17:22:05.315Z"
   },
   {
    "duration": 3283,
    "start_time": "2025-03-27T17:22:05.336Z"
   },
   {
    "duration": 103,
    "start_time": "2025-03-27T17:22:08.621Z"
   },
   {
    "duration": 444,
    "start_time": "2025-03-27T17:22:08.726Z"
   },
   {
    "duration": 8,
    "start_time": "2025-03-27T17:22:09.171Z"
   },
   {
    "duration": 2929,
    "start_time": "2025-03-27T17:22:09.181Z"
   },
   {
    "duration": 27,
    "start_time": "2025-03-27T17:22:12.115Z"
   },
   {
    "duration": 763,
    "start_time": "2025-03-27T17:22:12.144Z"
   },
   {
    "duration": 409,
    "start_time": "2025-03-27T17:22:12.919Z"
   },
   {
    "duration": 24,
    "start_time": "2025-03-27T17:22:13.329Z"
   },
   {
    "duration": 354,
    "start_time": "2025-03-27T17:22:13.355Z"
   },
   {
    "duration": 241,
    "start_time": "2025-03-27T17:22:13.712Z"
   },
   {
    "duration": 5,
    "start_time": "2025-03-27T17:22:13.955Z"
   },
   {
    "duration": 30,
    "start_time": "2025-03-27T17:22:13.961Z"
   },
   {
    "duration": 50952,
    "start_time": "2025-03-27T17:22:13.992Z"
   },
   {
    "duration": 5,
    "start_time": "2025-03-27T17:23:04.947Z"
   },
   {
    "duration": 41,
    "start_time": "2025-03-27T17:23:04.954Z"
   },
   {
    "duration": 384,
    "start_time": "2025-03-27T17:23:04.997Z"
   },
   {
    "duration": 401,
    "start_time": "2025-03-27T17:23:05.383Z"
   },
   {
    "duration": 33,
    "start_time": "2025-03-27T17:23:05.786Z"
   },
   {
    "duration": 230,
    "start_time": "2025-03-27T17:23:05.821Z"
   },
   {
    "duration": 616,
    "start_time": "2025-03-27T17:23:06.054Z"
   },
   {
    "duration": 2,
    "start_time": "2025-03-27T17:23:06.672Z"
   },
   {
    "duration": 340,
    "start_time": "2025-03-27T17:29:11.286Z"
   },
   {
    "duration": 4699,
    "start_time": "2025-03-27T17:33:46.480Z"
   },
   {
    "duration": 66,
    "start_time": "2025-03-27T17:34:36.762Z"
   },
   {
    "duration": 308,
    "start_time": "2025-03-27T17:35:09.040Z"
   },
   {
    "duration": 1850,
    "start_time": "2025-03-27T17:35:39.364Z"
   },
   {
    "duration": 47,
    "start_time": "2025-03-27T17:35:41.217Z"
   },
   {
    "duration": 12,
    "start_time": "2025-03-27T17:35:41.267Z"
   },
   {
    "duration": 11,
    "start_time": "2025-03-27T17:35:41.281Z"
   },
   {
    "duration": 44,
    "start_time": "2025-03-27T17:35:41.294Z"
   },
   {
    "duration": 15,
    "start_time": "2025-03-27T17:35:41.344Z"
   },
   {
    "duration": 95,
    "start_time": "2025-03-27T17:35:41.360Z"
   },
   {
    "duration": 11,
    "start_time": "2025-03-27T17:35:41.456Z"
   },
   {
    "duration": 13,
    "start_time": "2025-03-27T17:35:41.469Z"
   },
   {
    "duration": 5047,
    "start_time": "2025-03-27T17:35:41.484Z"
   },
   {
    "duration": 105,
    "start_time": "2025-03-27T17:35:46.621Z"
   },
   {
    "duration": 397,
    "start_time": "2025-03-27T17:35:46.730Z"
   },
   {
    "duration": 11,
    "start_time": "2025-03-27T17:35:47.129Z"
   },
   {
    "duration": 3290,
    "start_time": "2025-03-27T17:35:47.143Z"
   },
   {
    "duration": 33,
    "start_time": "2025-03-27T17:35:50.436Z"
   },
   {
    "duration": 900,
    "start_time": "2025-03-27T17:35:50.471Z"
   },
   {
    "duration": 412,
    "start_time": "2025-03-27T17:35:51.373Z"
   },
   {
    "duration": 38,
    "start_time": "2025-03-27T17:35:51.787Z"
   },
   {
    "duration": 461,
    "start_time": "2025-03-27T17:35:51.827Z"
   },
   {
    "duration": 291,
    "start_time": "2025-03-27T17:35:52.290Z"
   },
   {
    "duration": 4,
    "start_time": "2025-03-27T17:35:52.582Z"
   },
   {
    "duration": 20,
    "start_time": "2025-03-27T17:35:52.604Z"
   },
   {
    "duration": 50227,
    "start_time": "2025-03-27T17:35:52.627Z"
   },
   {
    "duration": 4770,
    "start_time": "2025-03-27T17:36:42.856Z"
   },
   {
    "duration": 67,
    "start_time": "2025-03-27T17:36:47.634Z"
   },
   {
    "duration": 11,
    "start_time": "2025-03-27T17:36:47.704Z"
   },
   {
    "duration": 67,
    "start_time": "2025-03-27T17:36:47.718Z"
   },
   {
    "duration": 300,
    "start_time": "2025-03-27T17:36:47.787Z"
   },
   {
    "duration": 346,
    "start_time": "2025-03-27T17:36:48.089Z"
   },
   {
    "duration": 10,
    "start_time": "2025-03-27T17:36:48.437Z"
   },
   {
    "duration": 234,
    "start_time": "2025-03-27T17:36:48.449Z"
   },
   {
    "duration": 586,
    "start_time": "2025-03-27T17:36:48.685Z"
   },
   {
    "duration": 3,
    "start_time": "2025-03-27T17:36:49.273Z"
   },
   {
    "duration": 5770,
    "start_time": "2025-03-27T17:37:43.271Z"
   },
   {
    "duration": 272,
    "start_time": "2025-03-27T17:43:22.404Z"
   },
   {
    "duration": 258,
    "start_time": "2025-03-27T17:43:47.053Z"
   },
   {
    "duration": 311,
    "start_time": "2025-03-27T17:43:56.697Z"
   },
   {
    "duration": 10,
    "start_time": "2025-03-27T17:44:04.312Z"
   },
   {
    "duration": 188,
    "start_time": "2025-03-27T17:44:20.159Z"
   },
   {
    "duration": 196,
    "start_time": "2025-03-27T17:44:32.386Z"
   },
   {
    "duration": 522,
    "start_time": "2025-03-27T17:44:56.969Z"
   },
   {
    "duration": 1721,
    "start_time": "2025-03-27T17:45:42.427Z"
   },
   {
    "duration": 37,
    "start_time": "2025-03-27T17:45:44.150Z"
   },
   {
    "duration": 12,
    "start_time": "2025-03-27T17:45:44.188Z"
   },
   {
    "duration": 26,
    "start_time": "2025-03-27T17:45:44.202Z"
   },
   {
    "duration": 23,
    "start_time": "2025-03-27T17:45:44.231Z"
   },
   {
    "duration": 13,
    "start_time": "2025-03-27T17:45:44.255Z"
   },
   {
    "duration": 14,
    "start_time": "2025-03-27T17:45:44.270Z"
   },
   {
    "duration": 31,
    "start_time": "2025-03-27T17:45:44.285Z"
   },
   {
    "duration": 16,
    "start_time": "2025-03-27T17:45:44.318Z"
   },
   {
    "duration": 4186,
    "start_time": "2025-03-27T17:45:44.338Z"
   },
   {
    "duration": 105,
    "start_time": "2025-03-27T17:45:48.606Z"
   },
   {
    "duration": 378,
    "start_time": "2025-03-27T17:45:48.714Z"
   },
   {
    "duration": 17,
    "start_time": "2025-03-27T17:45:49.094Z"
   },
   {
    "duration": 2707,
    "start_time": "2025-03-27T17:45:49.114Z"
   },
   {
    "duration": 26,
    "start_time": "2025-03-27T17:45:51.823Z"
   },
   {
    "duration": 803,
    "start_time": "2025-03-27T17:45:51.851Z"
   },
   {
    "duration": 386,
    "start_time": "2025-03-27T17:45:52.656Z"
   },
   {
    "duration": 24,
    "start_time": "2025-03-27T17:45:53.044Z"
   },
   {
    "duration": 343,
    "start_time": "2025-03-27T17:45:53.070Z"
   },
   {
    "duration": 238,
    "start_time": "2025-03-27T17:45:53.415Z"
   },
   {
    "duration": 4,
    "start_time": "2025-03-27T17:45:53.655Z"
   },
   {
    "duration": 10,
    "start_time": "2025-03-27T17:45:53.661Z"
   },
   {
    "duration": 166959,
    "start_time": "2025-03-27T17:45:53.673Z"
   },
   {
    "duration": 2786,
    "start_time": "2025-03-27T17:48:40.634Z"
   },
   {
    "duration": 55,
    "start_time": "2025-03-27T17:48:43.424Z"
   },
   {
    "duration": 5662,
    "start_time": "2025-03-27T17:48:43.480Z"
   },
   {
    "duration": 305,
    "start_time": "2025-03-27T17:48:49.145Z"
   },
   {
    "duration": 226,
    "start_time": "2025-03-27T17:48:49.453Z"
   },
   {
    "duration": 508,
    "start_time": "2025-03-27T17:48:49.681Z"
   },
   {
    "duration": 3,
    "start_time": "2025-03-27T17:48:50.191Z"
   },
   {
    "duration": 160,
    "start_time": "2025-03-27T18:10:06.233Z"
   },
   {
    "duration": 68,
    "start_time": "2025-03-27T18:11:20.412Z"
   },
   {
    "duration": 8,
    "start_time": "2025-03-27T18:12:57.935Z"
   },
   {
    "duration": 254,
    "start_time": "2025-03-27T18:13:30.367Z"
   },
   {
    "duration": 265,
    "start_time": "2025-03-27T18:13:36.794Z"
   },
   {
    "duration": 262,
    "start_time": "2025-03-27T18:13:41.709Z"
   },
   {
    "duration": 263,
    "start_time": "2025-03-27T18:13:58.516Z"
   },
   {
    "duration": 311,
    "start_time": "2025-03-27T18:14:08.105Z"
   },
   {
    "duration": 280,
    "start_time": "2025-03-27T18:14:13.546Z"
   },
   {
    "duration": 284,
    "start_time": "2025-03-27T18:14:17.564Z"
   },
   {
    "duration": 9,
    "start_time": "2025-03-27T18:17:03.423Z"
   },
   {
    "duration": 7,
    "start_time": "2025-03-27T18:17:06.565Z"
   },
   {
    "duration": 577,
    "start_time": "2025-03-27T18:19:30.970Z"
   },
   {
    "duration": 1666,
    "start_time": "2025-03-27T18:29:18.962Z"
   },
   {
    "duration": 39,
    "start_time": "2025-03-27T18:29:20.630Z"
   },
   {
    "duration": 12,
    "start_time": "2025-03-27T18:29:20.673Z"
   },
   {
    "duration": 28,
    "start_time": "2025-03-27T18:29:20.687Z"
   },
   {
    "duration": 36,
    "start_time": "2025-03-27T18:29:20.717Z"
   },
   {
    "duration": 53,
    "start_time": "2025-03-27T18:29:20.755Z"
   },
   {
    "duration": 24,
    "start_time": "2025-03-27T18:29:20.809Z"
   },
   {
    "duration": 25,
    "start_time": "2025-03-27T18:29:20.835Z"
   },
   {
    "duration": 16,
    "start_time": "2025-03-27T18:29:20.862Z"
   },
   {
    "duration": 4435,
    "start_time": "2025-03-27T18:29:20.880Z"
   },
   {
    "duration": 186,
    "start_time": "2025-03-27T18:29:25.317Z"
   },
   {
    "duration": 391,
    "start_time": "2025-03-27T18:29:25.506Z"
   },
   {
    "duration": 11,
    "start_time": "2025-03-27T18:29:25.904Z"
   },
   {
    "duration": 2904,
    "start_time": "2025-03-27T18:29:25.917Z"
   },
   {
    "duration": 24,
    "start_time": "2025-03-27T18:29:28.825Z"
   },
   {
    "duration": 770,
    "start_time": "2025-03-27T18:29:28.851Z"
   },
   {
    "duration": 396,
    "start_time": "2025-03-27T18:29:29.623Z"
   },
   {
    "duration": 24,
    "start_time": "2025-03-27T18:29:30.021Z"
   },
   {
    "duration": 455,
    "start_time": "2025-03-27T18:29:30.048Z"
   },
   {
    "duration": 237,
    "start_time": "2025-03-27T18:29:30.509Z"
   },
   {
    "duration": 5,
    "start_time": "2025-03-27T18:29:30.748Z"
   },
   {
    "duration": 32,
    "start_time": "2025-03-27T18:29:30.755Z"
   },
   {
    "duration": 156941,
    "start_time": "2025-03-27T18:29:30.789Z"
   },
   {
    "duration": 2711,
    "start_time": "2025-03-27T18:32:07.731Z"
   },
   {
    "duration": 5212,
    "start_time": "2025-03-27T18:32:10.444Z"
   },
   {
    "duration": 8,
    "start_time": "2025-03-27T18:32:15.657Z"
   },
   {
    "duration": 288,
    "start_time": "2025-03-27T18:32:15.667Z"
   },
   {
    "duration": 188,
    "start_time": "2025-03-27T18:32:15.957Z"
   },
   {
    "duration": 486,
    "start_time": "2025-03-27T18:32:16.147Z"
   },
   {
    "duration": 3,
    "start_time": "2025-03-27T18:32:16.634Z"
   },
   {
    "duration": 282,
    "start_time": "2025-03-27T18:32:31.287Z"
   },
   {
    "duration": 1739,
    "start_time": "2025-03-27T18:39:55.203Z"
   },
   {
    "duration": 39,
    "start_time": "2025-03-27T18:39:56.944Z"
   },
   {
    "duration": 12,
    "start_time": "2025-03-27T18:39:56.985Z"
   },
   {
    "duration": 79,
    "start_time": "2025-03-27T18:39:56.999Z"
   },
   {
    "duration": 24,
    "start_time": "2025-03-27T18:39:57.080Z"
   },
   {
    "duration": 12,
    "start_time": "2025-03-27T18:39:57.106Z"
   },
   {
    "duration": 14,
    "start_time": "2025-03-27T18:39:57.120Z"
   },
   {
    "duration": 17,
    "start_time": "2025-03-27T18:39:57.136Z"
   },
   {
    "duration": 13,
    "start_time": "2025-03-27T18:39:57.154Z"
   },
   {
    "duration": 2141,
    "start_time": "2025-03-27T18:39:57.170Z"
   },
   {
    "duration": 190,
    "start_time": "2025-03-27T18:39:59.314Z"
   },
   {
    "duration": 348,
    "start_time": "2025-03-27T18:39:59.506Z"
   },
   {
    "duration": 7,
    "start_time": "2025-03-27T18:39:59.856Z"
   },
   {
    "duration": 2748,
    "start_time": "2025-03-27T18:39:59.865Z"
   },
   {
    "duration": 24,
    "start_time": "2025-03-27T18:40:02.614Z"
   },
   {
    "duration": 739,
    "start_time": "2025-03-27T18:40:02.640Z"
   },
   {
    "duration": 371,
    "start_time": "2025-03-27T18:40:03.380Z"
   },
   {
    "duration": 22,
    "start_time": "2025-03-27T18:40:03.753Z"
   },
   {
    "duration": 344,
    "start_time": "2025-03-27T18:40:03.777Z"
   },
   {
    "duration": 243,
    "start_time": "2025-03-27T18:40:04.122Z"
   },
   {
    "duration": 4,
    "start_time": "2025-03-27T18:40:04.367Z"
   },
   {
    "duration": 23,
    "start_time": "2025-03-27T18:40:04.373Z"
   },
   {
    "duration": 156624,
    "start_time": "2025-03-27T18:40:04.403Z"
   },
   {
    "duration": 2637,
    "start_time": "2025-03-27T18:42:41.029Z"
   },
   {
    "duration": 5326,
    "start_time": "2025-03-27T18:42:43.668Z"
   },
   {
    "duration": 13,
    "start_time": "2025-03-27T18:42:48.995Z"
   },
   {
    "duration": 363,
    "start_time": "2025-03-27T18:42:49.010Z"
   },
   {
    "duration": 200,
    "start_time": "2025-03-27T18:42:49.377Z"
   },
   {
    "duration": 473,
    "start_time": "2025-03-27T18:42:49.579Z"
   },
   {
    "duration": 2,
    "start_time": "2025-03-27T18:42:50.054Z"
   }
  ],
  "kernelspec": {
   "display_name": "Python 3 (ipykernel)",
   "language": "python",
   "name": "python3"
  },
  "language_info": {
   "codemirror_mode": {
    "name": "ipython",
    "version": 3
   },
   "file_extension": ".py",
   "mimetype": "text/x-python",
   "name": "python",
   "nbconvert_exporter": "python",
   "pygments_lexer": "ipython3",
   "version": "3.9.5"
  },
  "toc": {
   "base_numbering": 1,
   "nav_menu": {},
   "number_sections": true,
   "sideBar": true,
   "skip_h1_title": true,
   "title_cell": "Содержание",
   "title_sidebar": "Contents",
   "toc_cell": true,
   "toc_position": {
    "height": "calc(100% - 180px)",
    "left": "10px",
    "top": "150px",
    "width": "362.839px"
   },
   "toc_section_display": true,
   "toc_window_display": true
  }
 },
 "nbformat": 4,
 "nbformat_minor": 2
}
